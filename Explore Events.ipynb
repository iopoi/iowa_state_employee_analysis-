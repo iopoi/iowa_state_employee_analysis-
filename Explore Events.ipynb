{
 "cells": [
  {
   "cell_type": "code",
   "execution_count": 1,
   "metadata": {},
   "outputs": [],
   "source": [
    "import math\n",
    "import numpy as np\n",
    "import pandas as pd\n",
    "from collections import Counter\n",
    "import matplotlib.pyplot as plt\n",
    "# from scipy import stats\n",
    "import scipy.stats as stats\n",
    "from sklearn import linear_model\n",
    "# from scipy.stats import linregress\n",
    "%matplotlib inline"
   ]
  },
  {
   "cell_type": "code",
   "execution_count": 2,
   "metadata": {},
   "outputs": [],
   "source": [
    "path = \"State_of_Iowa_Salary_Book.csv\""
   ]
  },
  {
   "cell_type": "code",
   "execution_count": 3,
   "metadata": {},
   "outputs": [],
   "source": [
    "def money_to_float(x):\n",
    "    try:\n",
    "        if type(x) == float:\n",
    "            return x\n",
    "        return float(x.strip('$'))\n",
    "    except ValueError:\n",
    "        return float('nan')\n",
    "\n",
    "def base_salary_to_float(x):\n",
    "    try:\n",
    "        if type(x) == float and math.isnan(x):\n",
    "            return (None, float('nan'))\n",
    "        elif type(x) == float:\n",
    "            return (None, x)\n",
    "        x = x.strip(\" \")\n",
    "        if x == \"\":\n",
    "            return (None, float('nan'))\n",
    "        elif x == \"TERMINATED\":\n",
    "            return (\"TERMINATED\", float('nan'))\n",
    "        elif x == \"Terminated\":\n",
    "            return (\"Terminated\", float('nan'))\n",
    "        elif x == \"-0-\":\n",
    "            return (\"-0-\", float('nan'))\n",
    "        elif x == \"ON LEAVE\":\n",
    "            return (\"ON LEAVE\", float('nan'))\n",
    "        elif x == \"nan\":\n",
    "            return (None, float('nan'))\n",
    "        elif x == float(\"nan\"):\n",
    "            return (None, float('nan'))\n",
    "        else:\n",
    "            s = x.replace('/', \" \").split(' ')\n",
    "            if len(s) < 2:\n",
    "                return (None, float(s[0].strip('$').replace(',', \"\")))\n",
    "            return (s[1], float(s[0].strip('$').replace(',', \"\")))\n",
    "    except:\n",
    "        # this is to show rows that failed the parsing\n",
    "        print(\"<-\"+x+\"->\", type(x))"
   ]
  },
  {
   "cell_type": "code",
   "execution_count": 4,
   "metadata": {
    "scrolled": true
   },
   "outputs": [
    {
     "name": "stdout",
     "output_type": "stream",
     "text": [
      "<-HR-> <class 'str'>\n",
      "<-YR-> <class 'str'>\n",
      "<-20.12HR-> <class 'str'>\n",
      "<-262.99DA-> <class 'str'>\n"
     ]
    },
    {
     "data": {
      "text/plain": [
       "0               (HR, 31.62)\n",
       "1         (TERMINATED, nan)\n",
       "2              (BW, 2212.8)\n",
       "3              (BW, 1226.4)\n",
       "4         (TERMINATED, nan)\n",
       "5         (TERMINATED, nan)\n",
       "6         (TERMINATED, nan)\n",
       "7         (TERMINATED, nan)\n",
       "8              (BW, 2194.4)\n",
       "9         (TERMINATED, nan)\n",
       "10        (TERMINATED, nan)\n",
       "11        (TERMINATED, nan)\n",
       "12             (BW, 3375.2)\n",
       "13        (TERMINATED, nan)\n",
       "14        (TERMINATED, nan)\n",
       "15             (BW, 3349.6)\n",
       "16           (YR, 144200.0)\n",
       "17             (BW, 1237.6)\n",
       "18             (BW, 2908.8)\n",
       "19             (BW, 3193.6)\n",
       "20        (TERMINATED, nan)\n",
       "21             (BW, 1598.4)\n",
       "22        (TERMINATED, nan)\n",
       "23        (TERMINATED, nan)\n",
       "24        (TERMINATED, nan)\n",
       "25        (TERMINATED, nan)\n",
       "26             (BW, 1180.8)\n",
       "27             (BW, 3087.2)\n",
       "28             (BW, 1437.6)\n",
       "29             (BW, 4792.0)\n",
       "                ...        \n",
       "665295          (HR, 23.91)\n",
       "665296        (HR, 25629.0)\n",
       "665297          (HR, 22.88)\n",
       "665298    (TERMINATED, nan)\n",
       "665299          (HR, 16.83)\n",
       "665300        (YR, 70158.0)\n",
       "665301          (HR, 17.56)\n",
       "665302        (YR, 53638.0)\n",
       "665303    (TERMINATED, nan)\n",
       "665304          (HR, 16.83)\n",
       "665305          (HR, 16.83)\n",
       "665306        (YR, 81255.0)\n",
       "665307        (YR, 87138.0)\n",
       "665308        (YR, 72101.0)\n",
       "665309          (HR, 16.83)\n",
       "665310          (HR, 16.83)\n",
       "665311          (HR, 16.83)\n",
       "665312        (YR, 59663.0)\n",
       "665313        (YR, 58609.0)\n",
       "665314          (HR, 20.45)\n",
       "665315          (HR, 21.44)\n",
       "665316    (TERMINATED, nan)\n",
       "665317        (YR, 66690.0)\n",
       "665318           (HR, 9.55)\n",
       "665319          (HR, 16.83)\n",
       "665320          (HR, 32.41)\n",
       "665321        (YR, 81255.0)\n",
       "665322          (HR, 20.95)\n",
       "665323          (HR, 18.75)\n",
       "665324          (HR, 16.83)\n",
       "Name: Base Salary, Length: 665325, dtype: object"
      ]
     },
     "execution_count": 4,
     "metadata": {},
     "output_type": "execute_result"
    }
   ],
   "source": [
    "# read csv\n",
    "data = pd.read_csv(path, parse_dates=[0,8], converters={'Total Salary Paid': money_to_float, 'Base Salary': base_salary_to_float, 'Travel & Subsistence': money_to_float})\n",
    "# split Base Salary tuple into two columns\n",
    "base_salary_parsed = data[\"Base Salary\"].apply(pd.Series).rename(columns={0:'Base Salary Payment Method', 1:'Base Salary Payment Amount'})\n",
    "data.insert(8, 'Base Salary Payment Method', base_salary_parsed['Base Salary Payment Method'])\n",
    "data.insert(9, 'Base Salary Payment Amount', base_salary_parsed['Base Salary Payment Amount'])\n",
    "# delete Base Salary tuple column\n",
    "data.pop(\"Base Salary\")"
   ]
  },
  {
   "cell_type": "code",
   "execution_count": 5,
   "metadata": {
    "scrolled": false
   },
   "outputs": [
    {
     "name": "stdout",
     "output_type": "stream",
     "text": [
      "['HR' 'TERMINATED' 'BW' 'YR' 'DA' nan '893.00' 'DAILY' 'AN' 'ON LEAVE'\n",
      " '-0-' 'HRLY' 'BM' 'PW' '' 'Terminated']\n"
     ]
    }
   ],
   "source": [
    "# shows the unique payment types\n",
    "print(data[\"Base Salary Payment Method\"].unique())\n",
    "\n",
    "# function to estimate hourly wages and hours worked, \n",
    "def hourly_estimates(x):\n",
    "    # dictionary containing conversions of method to number of hours\n",
    "    method_to_hour_estimate = {'HR': 1, 'BW': 80, 'YR': 2000, 'DA': 8, 'DAILY': 8, \n",
    "                               'AN': 2000, 'HRLY': 1, 'BM': 333.33, 'PW': 40}\n",
    "    # get data from row\n",
    "    method, amount_per_method, total = x[\"Base Salary Payment Method\"], x[\"Base Salary Payment Amount\"], x[\"Total Salary Paid\"]\n",
    "    # calc hourly wage and hours worked\n",
    "    try:\n",
    "        hourly_wage_estimate = amount_per_method / method_to_hour_estimate.get(method, np.nan) # if the dict does not have a conversion the default is NaN\n",
    "        hours_worked_estimate = total/hourly_wage_estimate\n",
    "    except ZeroDivisionError:\n",
    "        hourly_wage_estimate = np.nan\n",
    "        hours_worked_estimate = np.nan\n",
    "    # return tuple\n",
    "    return hourly_wage_estimate, hours_worked_estimate\n",
    "# hours_parsed is a dataframe containing all of the hourly estimates\n",
    "hour_parsed = data[[\"Base Salary Payment Method\", \"Base Salary Payment Amount\", \"Total Salary Paid\"]] \\\n",
    "                    .apply(hourly_estimates, axis=1).apply(pd.Series).rename(columns={0:'Hourly Wage Estimate', 1:'Hours Worked Estimate'})  # axis one means that you apply the function on the row instead of the column\n",
    "# if you were to do x.values it would give you the values of the complete row\n",
    "data.insert(11, 'Hourly Wage Estimate', hour_parsed['Hourly Wage Estimate'])\n",
    "data.insert(12, 'Hours Worked Estimate', hour_parsed['Hours Worked Estimate'])"
   ]
  },
  {
   "cell_type": "code",
   "execution_count": 147,
   "metadata": {},
   "outputs": [
    {
     "data": {
      "text/html": [
       "<div>\n",
       "<style scoped>\n",
       "    .dataframe tbody tr th:only-of-type {\n",
       "        vertical-align: middle;\n",
       "    }\n",
       "\n",
       "    .dataframe tbody tr th {\n",
       "        vertical-align: top;\n",
       "    }\n",
       "\n",
       "    .dataframe thead th {\n",
       "        text-align: right;\n",
       "    }\n",
       "</style>\n",
       "<table border=\"1\" class=\"dataframe\">\n",
       "  <thead>\n",
       "    <tr style=\"text-align: right;\">\n",
       "      <th></th>\n",
       "      <th>Fiscal Year</th>\n",
       "      <th>Department</th>\n",
       "      <th>Agency/Institution</th>\n",
       "      <th>Name</th>\n",
       "      <th>Gender</th>\n",
       "      <th>Place of Residence</th>\n",
       "      <th>Position</th>\n",
       "      <th>Base Salary Payment Method</th>\n",
       "      <th>Base Salary Payment Amount</th>\n",
       "      <th>Base Salary Date</th>\n",
       "      <th>Total Salary Paid</th>\n",
       "      <th>Hourly Wage Estimate</th>\n",
       "      <th>Hours Worked Estimate</th>\n",
       "      <th>Travel &amp; Subsistence</th>\n",
       "    </tr>\n",
       "  </thead>\n",
       "  <tbody>\n",
       "    <tr>\n",
       "      <th>150000</th>\n",
       "      <td>2009-01-01</td>\n",
       "      <td>Iowa State University</td>\n",
       "      <td>NaN</td>\n",
       "      <td>SHULMAN MARC A</td>\n",
       "      <td>M</td>\n",
       "      <td>STORY</td>\n",
       "      <td>STAFF PHYSICIAN</td>\n",
       "      <td>NaN</td>\n",
       "      <td>140324.00</td>\n",
       "      <td>2009-07-01</td>\n",
       "      <td>140324.00</td>\n",
       "      <td>NaN</td>\n",
       "      <td>NaN</td>\n",
       "      <td>2024.33</td>\n",
       "    </tr>\n",
       "    <tr>\n",
       "      <th>150001</th>\n",
       "      <td>2009-01-01</td>\n",
       "      <td>Iowa State University</td>\n",
       "      <td>NaN</td>\n",
       "      <td>SHULTZ MICHAEL</td>\n",
       "      <td>M</td>\n",
       "      <td>STORY</td>\n",
       "      <td>CASUAL HOURLY</td>\n",
       "      <td>NaN</td>\n",
       "      <td>NaN</td>\n",
       "      <td>2009-07-01</td>\n",
       "      <td>1408.00</td>\n",
       "      <td>NaN</td>\n",
       "      <td>NaN</td>\n",
       "      <td>NaN</td>\n",
       "    </tr>\n",
       "    <tr>\n",
       "      <th>150002</th>\n",
       "      <td>2009-01-01</td>\n",
       "      <td>Iowa State University</td>\n",
       "      <td>NaN</td>\n",
       "      <td>SHULTZ SARAH ELIZABE</td>\n",
       "      <td>F</td>\n",
       "      <td>STORY</td>\n",
       "      <td>CASUAL HOURLY</td>\n",
       "      <td>NaN</td>\n",
       "      <td>NaN</td>\n",
       "      <td>2009-07-01</td>\n",
       "      <td>2327.28</td>\n",
       "      <td>NaN</td>\n",
       "      <td>NaN</td>\n",
       "      <td>NaN</td>\n",
       "    </tr>\n",
       "    <tr>\n",
       "      <th>150003</th>\n",
       "      <td>2009-01-01</td>\n",
       "      <td>Iowa State University</td>\n",
       "      <td>NaN</td>\n",
       "      <td>SHUMAN STEVE L</td>\n",
       "      <td>M</td>\n",
       "      <td>STORY</td>\n",
       "      <td>LIBRARY ASST II</td>\n",
       "      <td>NaN</td>\n",
       "      <td>42616.00</td>\n",
       "      <td>2009-07-01</td>\n",
       "      <td>41808.88</td>\n",
       "      <td>NaN</td>\n",
       "      <td>NaN</td>\n",
       "      <td>NaN</td>\n",
       "    </tr>\n",
       "    <tr>\n",
       "      <th>150004</th>\n",
       "      <td>2009-01-01</td>\n",
       "      <td>Iowa State University</td>\n",
       "      <td>NaN</td>\n",
       "      <td>SHYY YUH YUAN</td>\n",
       "      <td>M</td>\n",
       "      <td>STORY</td>\n",
       "      <td>SCIENTIST I</td>\n",
       "      <td>NaN</td>\n",
       "      <td>87458.00</td>\n",
       "      <td>2009-07-01</td>\n",
       "      <td>87458.00</td>\n",
       "      <td>NaN</td>\n",
       "      <td>NaN</td>\n",
       "      <td>2377.79</td>\n",
       "    </tr>\n",
       "    <tr>\n",
       "      <th>150005</th>\n",
       "      <td>2009-01-01</td>\n",
       "      <td>Iowa State University</td>\n",
       "      <td>NaN</td>\n",
       "      <td>SIBENALLER KRYSTLE L</td>\n",
       "      <td>F</td>\n",
       "      <td>STORY</td>\n",
       "      <td>CASUAL HOURLY</td>\n",
       "      <td>NaN</td>\n",
       "      <td>NaN</td>\n",
       "      <td>2009-07-01</td>\n",
       "      <td>1087.75</td>\n",
       "      <td>NaN</td>\n",
       "      <td>NaN</td>\n",
       "      <td>NaN</td>\n",
       "    </tr>\n",
       "    <tr>\n",
       "      <th>150006</th>\n",
       "      <td>2009-01-01</td>\n",
       "      <td>Iowa State University</td>\n",
       "      <td>NaN</td>\n",
       "      <td>SICK DOUGLAS ALAN</td>\n",
       "      <td>M</td>\n",
       "      <td>STORY</td>\n",
       "      <td>CASUAL HOURLY</td>\n",
       "      <td>NaN</td>\n",
       "      <td>NaN</td>\n",
       "      <td>2009-07-01</td>\n",
       "      <td>14325.00</td>\n",
       "      <td>NaN</td>\n",
       "      <td>NaN</td>\n",
       "      <td>NaN</td>\n",
       "    </tr>\n",
       "    <tr>\n",
       "      <th>150007</th>\n",
       "      <td>2009-01-01</td>\n",
       "      <td>Iowa State University</td>\n",
       "      <td>NaN</td>\n",
       "      <td>SICKAU DIANE MARIE</td>\n",
       "      <td>F</td>\n",
       "      <td>BOONE</td>\n",
       "      <td>RES ASSOC II</td>\n",
       "      <td>NaN</td>\n",
       "      <td>34253.00</td>\n",
       "      <td>2009-07-01</td>\n",
       "      <td>34253.00</td>\n",
       "      <td>NaN</td>\n",
       "      <td>NaN</td>\n",
       "      <td>NaN</td>\n",
       "    </tr>\n",
       "    <tr>\n",
       "      <th>150008</th>\n",
       "      <td>2009-01-01</td>\n",
       "      <td>Iowa State University</td>\n",
       "      <td>NaN</td>\n",
       "      <td>SICKELS KENDAL LEE</td>\n",
       "      <td>M</td>\n",
       "      <td>STORY</td>\n",
       "      <td>CASUAL HOURLY</td>\n",
       "      <td>NaN</td>\n",
       "      <td>NaN</td>\n",
       "      <td>2009-07-01</td>\n",
       "      <td>3112.58</td>\n",
       "      <td>NaN</td>\n",
       "      <td>NaN</td>\n",
       "      <td>NaN</td>\n",
       "    </tr>\n",
       "    <tr>\n",
       "      <th>150009</th>\n",
       "      <td>2009-01-01</td>\n",
       "      <td>Iowa State University</td>\n",
       "      <td>NaN</td>\n",
       "      <td>SICKELS RICHARD O</td>\n",
       "      <td>M</td>\n",
       "      <td>STORY</td>\n",
       "      <td>EQUIPMENT OPERATOR</td>\n",
       "      <td>HR</td>\n",
       "      <td>20.41</td>\n",
       "      <td>2009-07-01</td>\n",
       "      <td>42616.08</td>\n",
       "      <td>20.41</td>\n",
       "      <td>2088.000000</td>\n",
       "      <td>NaN</td>\n",
       "    </tr>\n",
       "    <tr>\n",
       "      <th>150010</th>\n",
       "      <td>2009-01-01</td>\n",
       "      <td>Iowa State University</td>\n",
       "      <td>NaN</td>\n",
       "      <td>SIECK MADDISON ELIZA</td>\n",
       "      <td>F</td>\n",
       "      <td>STORY</td>\n",
       "      <td>CASUAL HOURLY</td>\n",
       "      <td>NaN</td>\n",
       "      <td>NaN</td>\n",
       "      <td>2009-07-01</td>\n",
       "      <td>1320.00</td>\n",
       "      <td>NaN</td>\n",
       "      <td>NaN</td>\n",
       "      <td>NaN</td>\n",
       "    </tr>\n",
       "    <tr>\n",
       "      <th>150011</th>\n",
       "      <td>2009-01-01</td>\n",
       "      <td>Iowa State University</td>\n",
       "      <td>NaN</td>\n",
       "      <td>SIEDELMANN NICHOLAS</td>\n",
       "      <td>M</td>\n",
       "      <td>AUDUBON</td>\n",
       "      <td>CASUAL HOURLY</td>\n",
       "      <td>NaN</td>\n",
       "      <td>NaN</td>\n",
       "      <td>2009-07-01</td>\n",
       "      <td>2727.00</td>\n",
       "      <td>NaN</td>\n",
       "      <td>NaN</td>\n",
       "      <td>NaN</td>\n",
       "    </tr>\n",
       "    <tr>\n",
       "      <th>150012</th>\n",
       "      <td>2009-01-01</td>\n",
       "      <td>Iowa State University</td>\n",
       "      <td>NaN</td>\n",
       "      <td>SIEFKEN JOSIE LA RUE</td>\n",
       "      <td>F</td>\n",
       "      <td>BOONE</td>\n",
       "      <td>SECRETARY II</td>\n",
       "      <td>NaN</td>\n",
       "      <td>38941.00</td>\n",
       "      <td>2009-07-01</td>\n",
       "      <td>37823.47</td>\n",
       "      <td>NaN</td>\n",
       "      <td>NaN</td>\n",
       "      <td>NaN</td>\n",
       "    </tr>\n",
       "    <tr>\n",
       "      <th>150013</th>\n",
       "      <td>2009-01-01</td>\n",
       "      <td>Iowa State University</td>\n",
       "      <td>NaN</td>\n",
       "      <td>SIEMEK ABBY ANN</td>\n",
       "      <td>F</td>\n",
       "      <td>STORY</td>\n",
       "      <td>CASUAL HOURLY</td>\n",
       "      <td>NaN</td>\n",
       "      <td>NaN</td>\n",
       "      <td>2009-07-01</td>\n",
       "      <td>4549.00</td>\n",
       "      <td>NaN</td>\n",
       "      <td>NaN</td>\n",
       "      <td>NaN</td>\n",
       "    </tr>\n",
       "    <tr>\n",
       "      <th>150014</th>\n",
       "      <td>2009-01-01</td>\n",
       "      <td>Iowa State University</td>\n",
       "      <td>NaN</td>\n",
       "      <td>SIEMERS MARK LEE</td>\n",
       "      <td>M</td>\n",
       "      <td>STORY</td>\n",
       "      <td>PROGRAMMER</td>\n",
       "      <td>NaN</td>\n",
       "      <td>40318.00</td>\n",
       "      <td>2009-07-01</td>\n",
       "      <td>40318.00</td>\n",
       "      <td>NaN</td>\n",
       "      <td>NaN</td>\n",
       "      <td>NaN</td>\n",
       "    </tr>\n",
       "    <tr>\n",
       "      <th>150015</th>\n",
       "      <td>2009-01-01</td>\n",
       "      <td>Iowa State University</td>\n",
       "      <td>NaN</td>\n",
       "      <td>SIEPKER NICK ARTHUR</td>\n",
       "      <td>M</td>\n",
       "      <td>STORY</td>\n",
       "      <td>CASUAL HOURLY</td>\n",
       "      <td>NaN</td>\n",
       "      <td>NaN</td>\n",
       "      <td>2009-07-01</td>\n",
       "      <td>2071.13</td>\n",
       "      <td>NaN</td>\n",
       "      <td>NaN</td>\n",
       "      <td>NaN</td>\n",
       "    </tr>\n",
       "    <tr>\n",
       "      <th>150016</th>\n",
       "      <td>2009-01-01</td>\n",
       "      <td>Iowa State University</td>\n",
       "      <td>NaN</td>\n",
       "      <td>SIEREN MATTHEW J</td>\n",
       "      <td>M</td>\n",
       "      <td>DALLAS</td>\n",
       "      <td>**</td>\n",
       "      <td>NaN</td>\n",
       "      <td>NaN</td>\n",
       "      <td>2009-07-01</td>\n",
       "      <td>25202.87</td>\n",
       "      <td>NaN</td>\n",
       "      <td>NaN</td>\n",
       "      <td>NaN</td>\n",
       "    </tr>\n",
       "    <tr>\n",
       "      <th>150017</th>\n",
       "      <td>2009-01-01</td>\n",
       "      <td>Iowa State University</td>\n",
       "      <td>NaN</td>\n",
       "      <td>SIEV SUSAN J</td>\n",
       "      <td>F</td>\n",
       "      <td>STORY</td>\n",
       "      <td>CLERK II</td>\n",
       "      <td>NaN</td>\n",
       "      <td>26225.00</td>\n",
       "      <td>2009-07-01</td>\n",
       "      <td>26208.59</td>\n",
       "      <td>NaN</td>\n",
       "      <td>NaN</td>\n",
       "      <td>NaN</td>\n",
       "    </tr>\n",
       "    <tr>\n",
       "      <th>150018</th>\n",
       "      <td>2009-01-01</td>\n",
       "      <td>Iowa State University</td>\n",
       "      <td>NaN</td>\n",
       "      <td>SIEVE KRISTAL KORIN</td>\n",
       "      <td>F</td>\n",
       "      <td>STORY</td>\n",
       "      <td>LAB TECH III</td>\n",
       "      <td>NaN</td>\n",
       "      <td>35726.00</td>\n",
       "      <td>2009-07-01</td>\n",
       "      <td>36041.71</td>\n",
       "      <td>NaN</td>\n",
       "      <td>NaN</td>\n",
       "      <td>NaN</td>\n",
       "    </tr>\n",
       "    <tr>\n",
       "      <th>150019</th>\n",
       "      <td>2009-01-01</td>\n",
       "      <td>Iowa State University</td>\n",
       "      <td>NaN</td>\n",
       "      <td>SIEVE TERI</td>\n",
       "      <td>F</td>\n",
       "      <td>POLK</td>\n",
       "      <td>FAC SERVICES COORD</td>\n",
       "      <td>NaN</td>\n",
       "      <td>37292.00</td>\n",
       "      <td>2009-07-01</td>\n",
       "      <td>39563.48</td>\n",
       "      <td>NaN</td>\n",
       "      <td>NaN</td>\n",
       "      <td>NaN</td>\n",
       "    </tr>\n",
       "    <tr>\n",
       "      <th>150020</th>\n",
       "      <td>2009-01-01</td>\n",
       "      <td>Iowa State University</td>\n",
       "      <td>NaN</td>\n",
       "      <td>SIEVE VIVIAN LYNN</td>\n",
       "      <td>F</td>\n",
       "      <td>BOONE</td>\n",
       "      <td>STOREKEEPER II</td>\n",
       "      <td>NaN</td>\n",
       "      <td>39025.00</td>\n",
       "      <td>2009-07-01</td>\n",
       "      <td>39468.14</td>\n",
       "      <td>NaN</td>\n",
       "      <td>NaN</td>\n",
       "      <td>NaN</td>\n",
       "    </tr>\n",
       "    <tr>\n",
       "      <th>150021</th>\n",
       "      <td>2009-01-01</td>\n",
       "      <td>Iowa State University</td>\n",
       "      <td>NaN</td>\n",
       "      <td>SIEVERS ASHLEY ELIZA</td>\n",
       "      <td>F</td>\n",
       "      <td>STORY</td>\n",
       "      <td>CASUAL HOURLY</td>\n",
       "      <td>NaN</td>\n",
       "      <td>NaN</td>\n",
       "      <td>2009-07-01</td>\n",
       "      <td>3492.33</td>\n",
       "      <td>NaN</td>\n",
       "      <td>NaN</td>\n",
       "      <td>NaN</td>\n",
       "    </tr>\n",
       "    <tr>\n",
       "      <th>150022</th>\n",
       "      <td>2009-01-01</td>\n",
       "      <td>Iowa State University</td>\n",
       "      <td>NaN</td>\n",
       "      <td>SIEVERS JOSHUA L</td>\n",
       "      <td>M</td>\n",
       "      <td>SIOUX</td>\n",
       "      <td>AG SPECIALIST II</td>\n",
       "      <td>NaN</td>\n",
       "      <td>40277.00</td>\n",
       "      <td>2009-07-01</td>\n",
       "      <td>40277.00</td>\n",
       "      <td>NaN</td>\n",
       "      <td>NaN</td>\n",
       "      <td>451.67</td>\n",
       "    </tr>\n",
       "    <tr>\n",
       "      <th>150023</th>\n",
       "      <td>2009-01-01</td>\n",
       "      <td>Iowa State University</td>\n",
       "      <td>NaN</td>\n",
       "      <td>SILL ROBERT J</td>\n",
       "      <td>M</td>\n",
       "      <td>STORY</td>\n",
       "      <td>MOTOR VEH OPR I</td>\n",
       "      <td>NaN</td>\n",
       "      <td>13718.00</td>\n",
       "      <td>2009-07-01</td>\n",
       "      <td>13086.30</td>\n",
       "      <td>NaN</td>\n",
       "      <td>NaN</td>\n",
       "      <td>NaN</td>\n",
       "    </tr>\n",
       "    <tr>\n",
       "      <th>150024</th>\n",
       "      <td>2009-01-01</td>\n",
       "      <td>Iowa State University</td>\n",
       "      <td>NaN</td>\n",
       "      <td>SILL SOONEE ROHRER</td>\n",
       "      <td>F</td>\n",
       "      <td>STORY</td>\n",
       "      <td>CLERK III</td>\n",
       "      <td>NaN</td>\n",
       "      <td>42616.00</td>\n",
       "      <td>2009-07-01</td>\n",
       "      <td>44437.89</td>\n",
       "      <td>NaN</td>\n",
       "      <td>NaN</td>\n",
       "      <td>NaN</td>\n",
       "    </tr>\n",
       "    <tr>\n",
       "      <th>150025</th>\n",
       "      <td>2009-01-01</td>\n",
       "      <td>Iowa State University</td>\n",
       "      <td>NaN</td>\n",
       "      <td>SILVA MARCOS PAULO</td>\n",
       "      <td>M</td>\n",
       "      <td>STORY</td>\n",
       "      <td>CASUAL HOURLY</td>\n",
       "      <td>NaN</td>\n",
       "      <td>NaN</td>\n",
       "      <td>2009-07-01</td>\n",
       "      <td>1517.74</td>\n",
       "      <td>NaN</td>\n",
       "      <td>NaN</td>\n",
       "      <td>744.07</td>\n",
       "    </tr>\n",
       "    <tr>\n",
       "      <th>150026</th>\n",
       "      <td>2009-01-01</td>\n",
       "      <td>Iowa State University</td>\n",
       "      <td>NaN</td>\n",
       "      <td>SILVA VIJITHA K</td>\n",
       "      <td>F</td>\n",
       "      <td>STORY</td>\n",
       "      <td>RES ASSOC I</td>\n",
       "      <td>NaN</td>\n",
       "      <td>NaN</td>\n",
       "      <td>2009-07-01</td>\n",
       "      <td>23657.44</td>\n",
       "      <td>NaN</td>\n",
       "      <td>NaN</td>\n",
       "      <td>NaN</td>\n",
       "    </tr>\n",
       "    <tr>\n",
       "      <th>150027</th>\n",
       "      <td>2009-01-01</td>\n",
       "      <td>Iowa State University</td>\n",
       "      <td>NaN</td>\n",
       "      <td>SILVER SAMANTHA DAWN</td>\n",
       "      <td>F</td>\n",
       "      <td>STORY</td>\n",
       "      <td>CASUAL HOURLY</td>\n",
       "      <td>NaN</td>\n",
       "      <td>NaN</td>\n",
       "      <td>2009-07-01</td>\n",
       "      <td>1284.10</td>\n",
       "      <td>NaN</td>\n",
       "      <td>NaN</td>\n",
       "      <td>NaN</td>\n",
       "    </tr>\n",
       "    <tr>\n",
       "      <th>150028</th>\n",
       "      <td>2009-01-01</td>\n",
       "      <td>Iowa State University</td>\n",
       "      <td>NaN</td>\n",
       "      <td>SILVERTHORN LORI J</td>\n",
       "      <td>F</td>\n",
       "      <td>BOONE</td>\n",
       "      <td>FOOD SERV COORD II</td>\n",
       "      <td>HR</td>\n",
       "      <td>18.69</td>\n",
       "      <td>2009-07-01</td>\n",
       "      <td>40567.85</td>\n",
       "      <td>18.69</td>\n",
       "      <td>2170.564473</td>\n",
       "      <td>12.00</td>\n",
       "    </tr>\n",
       "    <tr>\n",
       "      <th>150029</th>\n",
       "      <td>2009-01-01</td>\n",
       "      <td>Iowa State University</td>\n",
       "      <td>NaN</td>\n",
       "      <td>SIM YOUNG-JE</td>\n",
       "      <td>M</td>\n",
       "      <td>STORY</td>\n",
       "      <td>POSTDOC RES ASSOC</td>\n",
       "      <td>NaN</td>\n",
       "      <td>NaN</td>\n",
       "      <td>2009-07-01</td>\n",
       "      <td>30205.04</td>\n",
       "      <td>NaN</td>\n",
       "      <td>NaN</td>\n",
       "      <td>NaN</td>\n",
       "    </tr>\n",
       "    <tr>\n",
       "      <th>...</th>\n",
       "      <td>...</td>\n",
       "      <td>...</td>\n",
       "      <td>...</td>\n",
       "      <td>...</td>\n",
       "      <td>...</td>\n",
       "      <td>...</td>\n",
       "      <td>...</td>\n",
       "      <td>...</td>\n",
       "      <td>...</td>\n",
       "      <td>...</td>\n",
       "      <td>...</td>\n",
       "      <td>...</td>\n",
       "      <td>...</td>\n",
       "      <td>...</td>\n",
       "    </tr>\n",
       "    <tr>\n",
       "      <th>159970</th>\n",
       "      <td>2009-01-01</td>\n",
       "      <td>Public Safety, Department of</td>\n",
       "      <td>NaN</td>\n",
       "      <td>HON WILLIAM E</td>\n",
       "      <td>M</td>\n",
       "      <td>CERRO GORDO</td>\n",
       "      <td>LIEUTENANT</td>\n",
       "      <td>BW</td>\n",
       "      <td>3136.80</td>\n",
       "      <td>2009-07-01</td>\n",
       "      <td>85015.50</td>\n",
       "      <td>39.21</td>\n",
       "      <td>2168.209640</td>\n",
       "      <td>NaN</td>\n",
       "    </tr>\n",
       "    <tr>\n",
       "      <th>159971</th>\n",
       "      <td>2009-01-01</td>\n",
       "      <td>Public Safety, Department of</td>\n",
       "      <td>NaN</td>\n",
       "      <td>HORIHAN MICHAEL D</td>\n",
       "      <td>M</td>\n",
       "      <td>CRAWFORD</td>\n",
       "      <td>TROOPER 3</td>\n",
       "      <td>BW</td>\n",
       "      <td>2384.00</td>\n",
       "      <td>2009-07-01</td>\n",
       "      <td>68867.14</td>\n",
       "      <td>29.80</td>\n",
       "      <td>2310.977852</td>\n",
       "      <td>763.43</td>\n",
       "    </tr>\n",
       "    <tr>\n",
       "      <th>159972</th>\n",
       "      <td>2009-01-01</td>\n",
       "      <td>Public Safety, Department of</td>\n",
       "      <td>NaN</td>\n",
       "      <td>HOSBOND LINDA N</td>\n",
       "      <td>F</td>\n",
       "      <td>POLK</td>\n",
       "      <td>ACCOUNTANT 2</td>\n",
       "      <td>BW</td>\n",
       "      <td>2260.00</td>\n",
       "      <td>2009-07-01</td>\n",
       "      <td>59140.13</td>\n",
       "      <td>28.25</td>\n",
       "      <td>2093.455929</td>\n",
       "      <td>46.41</td>\n",
       "    </tr>\n",
       "    <tr>\n",
       "      <th>159973</th>\n",
       "      <td>2009-01-01</td>\n",
       "      <td>Public Safety, Department of</td>\n",
       "      <td>NaN</td>\n",
       "      <td>HOUCK JOSEPH W</td>\n",
       "      <td>M</td>\n",
       "      <td>BLACK HAWK</td>\n",
       "      <td>COMMUNICATIONS CENTER SP</td>\n",
       "      <td>BW</td>\n",
       "      <td>1864.00</td>\n",
       "      <td>2009-07-01</td>\n",
       "      <td>55105.90</td>\n",
       "      <td>23.30</td>\n",
       "      <td>2365.060086</td>\n",
       "      <td>8.00</td>\n",
       "    </tr>\n",
       "    <tr>\n",
       "      <th>159974</th>\n",
       "      <td>2009-01-01</td>\n",
       "      <td>Public Safety, Department of</td>\n",
       "      <td>NaN</td>\n",
       "      <td>HOUSMAN ALLEN CHARLES</td>\n",
       "      <td>M</td>\n",
       "      <td>POLK</td>\n",
       "      <td>INFO TECH SPECIALIST 5</td>\n",
       "      <td>BW</td>\n",
       "      <td>3450.40</td>\n",
       "      <td>2009-07-01</td>\n",
       "      <td>120893.85</td>\n",
       "      <td>43.13</td>\n",
       "      <td>2803.010665</td>\n",
       "      <td>NaN</td>\n",
       "    </tr>\n",
       "    <tr>\n",
       "      <th>159975</th>\n",
       "      <td>2009-01-01</td>\n",
       "      <td>Public Safety, Department of</td>\n",
       "      <td>NaN</td>\n",
       "      <td>HOVE HEATH M</td>\n",
       "      <td>M</td>\n",
       "      <td>STORY</td>\n",
       "      <td>TROOPER 2</td>\n",
       "      <td>BW</td>\n",
       "      <td>2193.60</td>\n",
       "      <td>2009-07-01</td>\n",
       "      <td>62761.16</td>\n",
       "      <td>27.42</td>\n",
       "      <td>2288.882567</td>\n",
       "      <td>NaN</td>\n",
       "    </tr>\n",
       "    <tr>\n",
       "      <th>159976</th>\n",
       "      <td>2009-01-01</td>\n",
       "      <td>Public Safety, Department of</td>\n",
       "      <td>NaN</td>\n",
       "      <td>HOWARD III JOHN E</td>\n",
       "      <td>M</td>\n",
       "      <td>WOODBURY</td>\n",
       "      <td>SPECIAL AGENT</td>\n",
       "      <td>BW</td>\n",
       "      <td>2160.80</td>\n",
       "      <td>2009-07-01</td>\n",
       "      <td>72077.85</td>\n",
       "      <td>27.01</td>\n",
       "      <td>2668.561644</td>\n",
       "      <td>150.50</td>\n",
       "    </tr>\n",
       "    <tr>\n",
       "      <th>159977</th>\n",
       "      <td>2009-01-01</td>\n",
       "      <td>Public Safety, Department of</td>\n",
       "      <td>NaN</td>\n",
       "      <td>HOWELL KENNETH</td>\n",
       "      <td>M</td>\n",
       "      <td>DELAWARE</td>\n",
       "      <td>COMMUNICATIONS CENTER SP</td>\n",
       "      <td>BW</td>\n",
       "      <td>1853.60</td>\n",
       "      <td>2009-07-01</td>\n",
       "      <td>50964.64</td>\n",
       "      <td>23.17</td>\n",
       "      <td>2199.596029</td>\n",
       "      <td>101.60</td>\n",
       "    </tr>\n",
       "    <tr>\n",
       "      <th>159978</th>\n",
       "      <td>2009-01-01</td>\n",
       "      <td>Public Safety, Department of</td>\n",
       "      <td>NaN</td>\n",
       "      <td>HOY MICHAEL J</td>\n",
       "      <td>M</td>\n",
       "      <td>POTTAWATTAMIE</td>\n",
       "      <td>TROOPER 2</td>\n",
       "      <td>BW</td>\n",
       "      <td>2048.80</td>\n",
       "      <td>2009-07-01</td>\n",
       "      <td>61330.23</td>\n",
       "      <td>25.61</td>\n",
       "      <td>2394.776650</td>\n",
       "      <td>204.00</td>\n",
       "    </tr>\n",
       "    <tr>\n",
       "      <th>159979</th>\n",
       "      <td>2009-01-01</td>\n",
       "      <td>Public Safety, Department of</td>\n",
       "      <td>NaN</td>\n",
       "      <td>HOYE PATRICK J</td>\n",
       "      <td>M</td>\n",
       "      <td>POLK</td>\n",
       "      <td>PUBLIC SAFETY CHIEF</td>\n",
       "      <td>BW</td>\n",
       "      <td>4746.40</td>\n",
       "      <td>2009-07-01</td>\n",
       "      <td>126583.50</td>\n",
       "      <td>59.33</td>\n",
       "      <td>2133.549638</td>\n",
       "      <td>907.68</td>\n",
       "    </tr>\n",
       "    <tr>\n",
       "      <th>159980</th>\n",
       "      <td>2009-01-01</td>\n",
       "      <td>Public Safety, Department of</td>\n",
       "      <td>NaN</td>\n",
       "      <td>HUFFMAN JUSTIN S</td>\n",
       "      <td>M</td>\n",
       "      <td>MUSCATINE</td>\n",
       "      <td>TROOPER 2</td>\n",
       "      <td>BW</td>\n",
       "      <td>1556.80</td>\n",
       "      <td>2009-07-01</td>\n",
       "      <td>40981.10</td>\n",
       "      <td>19.46</td>\n",
       "      <td>2105.914697</td>\n",
       "      <td>40.00</td>\n",
       "    </tr>\n",
       "    <tr>\n",
       "      <th>159981</th>\n",
       "      <td>2009-01-01</td>\n",
       "      <td>Public Safety, Department of</td>\n",
       "      <td>NaN</td>\n",
       "      <td>HUGHES JR DAVID L</td>\n",
       "      <td>M</td>\n",
       "      <td>IOWA</td>\n",
       "      <td>TROOPER 3</td>\n",
       "      <td>BW</td>\n",
       "      <td>2384.00</td>\n",
       "      <td>2009-07-01</td>\n",
       "      <td>69309.99</td>\n",
       "      <td>29.80</td>\n",
       "      <td>2325.838591</td>\n",
       "      <td>NaN</td>\n",
       "    </tr>\n",
       "    <tr>\n",
       "      <th>159982</th>\n",
       "      <td>2009-01-01</td>\n",
       "      <td>Public Safety, Department of</td>\n",
       "      <td>NaN</td>\n",
       "      <td>HUMMEL JOSHUA A</td>\n",
       "      <td>M</td>\n",
       "      <td>POTTAWATTAMIE</td>\n",
       "      <td>GAMING ENFORCEMENT OFFIC</td>\n",
       "      <td>BW</td>\n",
       "      <td>1728.00</td>\n",
       "      <td>2009-07-01</td>\n",
       "      <td>47954.78</td>\n",
       "      <td>21.60</td>\n",
       "      <td>2220.128704</td>\n",
       "      <td>153.51</td>\n",
       "    </tr>\n",
       "    <tr>\n",
       "      <th>159983</th>\n",
       "      <td>2009-01-01</td>\n",
       "      <td>Public Safety, Department of</td>\n",
       "      <td>NaN</td>\n",
       "      <td>HUMPHREY RONALD A</td>\n",
       "      <td>M</td>\n",
       "      <td>WARREN</td>\n",
       "      <td>FIRE PREVENTION SUPERVIS</td>\n",
       "      <td>BW</td>\n",
       "      <td>3450.40</td>\n",
       "      <td>2009-07-01</td>\n",
       "      <td>92207.68</td>\n",
       "      <td>43.13</td>\n",
       "      <td>2137.901229</td>\n",
       "      <td>173.70</td>\n",
       "    </tr>\n",
       "    <tr>\n",
       "      <th>159984</th>\n",
       "      <td>2009-01-01</td>\n",
       "      <td>Public Safety, Department of</td>\n",
       "      <td>NaN</td>\n",
       "      <td>HUNEFELD RANDY M</td>\n",
       "      <td>M</td>\n",
       "      <td>POLK</td>\n",
       "      <td>PROGRAM PLANNER 3</td>\n",
       "      <td>BW</td>\n",
       "      <td>2125.60</td>\n",
       "      <td>2009-07-01</td>\n",
       "      <td>54512.75</td>\n",
       "      <td>26.57</td>\n",
       "      <td>2051.665412</td>\n",
       "      <td>2121.40</td>\n",
       "    </tr>\n",
       "    <tr>\n",
       "      <th>159985</th>\n",
       "      <td>2009-01-01</td>\n",
       "      <td>Public Safety, Department of</td>\n",
       "      <td>NaN</td>\n",
       "      <td>HUNT TRACY L</td>\n",
       "      <td>F</td>\n",
       "      <td>POLK</td>\n",
       "      <td>EXEC OFF 1</td>\n",
       "      <td>BW</td>\n",
       "      <td>2596.80</td>\n",
       "      <td>2009-07-01</td>\n",
       "      <td>66093.60</td>\n",
       "      <td>32.46</td>\n",
       "      <td>2036.155268</td>\n",
       "      <td>NaN</td>\n",
       "    </tr>\n",
       "    <tr>\n",
       "      <th>159986</th>\n",
       "      <td>2009-01-01</td>\n",
       "      <td>Public Safety, Department of</td>\n",
       "      <td>NaN</td>\n",
       "      <td>HURLEY JOHN D</td>\n",
       "      <td>M</td>\n",
       "      <td>APPANOOSE</td>\n",
       "      <td>SPECIAL AGENT</td>\n",
       "      <td>BW</td>\n",
       "      <td>2735.20</td>\n",
       "      <td>2009-07-01</td>\n",
       "      <td>79506.56</td>\n",
       "      <td>34.19</td>\n",
       "      <td>2325.433168</td>\n",
       "      <td>1386.58</td>\n",
       "    </tr>\n",
       "    <tr>\n",
       "      <th>159987</th>\n",
       "      <td>2009-01-01</td>\n",
       "      <td>Public Safety, Department of</td>\n",
       "      <td>NaN</td>\n",
       "      <td>HUTCHISON SHERRY J</td>\n",
       "      <td>F</td>\n",
       "      <td>POLK</td>\n",
       "      <td>SECRETARY 2</td>\n",
       "      <td>BW</td>\n",
       "      <td>1695.20</td>\n",
       "      <td>2009-07-01</td>\n",
       "      <td>44025.60</td>\n",
       "      <td>21.19</td>\n",
       "      <td>2077.659273</td>\n",
       "      <td>NaN</td>\n",
       "    </tr>\n",
       "    <tr>\n",
       "      <th>159988</th>\n",
       "      <td>2009-01-01</td>\n",
       "      <td>Public Safety, Department of</td>\n",
       "      <td>NaN</td>\n",
       "      <td>INGHAM WARD G</td>\n",
       "      <td>M</td>\n",
       "      <td>TAMA</td>\n",
       "      <td>FINGERPRINT TECHNICIAN</td>\n",
       "      <td>BW</td>\n",
       "      <td>1864.00</td>\n",
       "      <td>2009-07-01</td>\n",
       "      <td>48433.60</td>\n",
       "      <td>23.30</td>\n",
       "      <td>2078.695279</td>\n",
       "      <td>482.21</td>\n",
       "    </tr>\n",
       "    <tr>\n",
       "      <th>159989</th>\n",
       "      <td>2009-01-01</td>\n",
       "      <td>Public Safety, Department of</td>\n",
       "      <td>NaN</td>\n",
       "      <td>IRWIN LUKE R</td>\n",
       "      <td>M</td>\n",
       "      <td>HAMILTON</td>\n",
       "      <td>TROOPER 2</td>\n",
       "      <td>BW</td>\n",
       "      <td>1913.60</td>\n",
       "      <td>2009-07-01</td>\n",
       "      <td>53795.50</td>\n",
       "      <td>23.92</td>\n",
       "      <td>2248.975753</td>\n",
       "      <td>119.00</td>\n",
       "    </tr>\n",
       "    <tr>\n",
       "      <th>159990</th>\n",
       "      <td>2009-01-01</td>\n",
       "      <td>Public Safety, Department of</td>\n",
       "      <td>NaN</td>\n",
       "      <td>JACKSON SARAH A</td>\n",
       "      <td>F</td>\n",
       "      <td>DALLAS</td>\n",
       "      <td>CLERK-ADVANCED</td>\n",
       "      <td>TERMINATED</td>\n",
       "      <td>NaN</td>\n",
       "      <td>2009-07-01</td>\n",
       "      <td>10508.67</td>\n",
       "      <td>NaN</td>\n",
       "      <td>NaN</td>\n",
       "      <td>NaN</td>\n",
       "    </tr>\n",
       "    <tr>\n",
       "      <th>159991</th>\n",
       "      <td>2009-01-01</td>\n",
       "      <td>Public Safety, Department of</td>\n",
       "      <td>NaN</td>\n",
       "      <td>JACOBSEN KAREN A</td>\n",
       "      <td>F</td>\n",
       "      <td>DALLAS</td>\n",
       "      <td>SPECIAL AGENT</td>\n",
       "      <td>BW</td>\n",
       "      <td>2735.20</td>\n",
       "      <td>2009-07-01</td>\n",
       "      <td>74052.52</td>\n",
       "      <td>34.19</td>\n",
       "      <td>2165.911670</td>\n",
       "      <td>262.00</td>\n",
       "    </tr>\n",
       "    <tr>\n",
       "      <th>159992</th>\n",
       "      <td>2009-01-01</td>\n",
       "      <td>Public Safety, Department of</td>\n",
       "      <td>NaN</td>\n",
       "      <td>JACOBSON JEFFREY B</td>\n",
       "      <td>M</td>\n",
       "      <td>BUTLER</td>\n",
       "      <td>SPECIAL AGENT IN CHARGE</td>\n",
       "      <td>BW</td>\n",
       "      <td>3450.40</td>\n",
       "      <td>2009-07-01</td>\n",
       "      <td>92926.70</td>\n",
       "      <td>43.13</td>\n",
       "      <td>2154.572224</td>\n",
       "      <td>461.60</td>\n",
       "    </tr>\n",
       "    <tr>\n",
       "      <th>159993</th>\n",
       "      <td>2009-01-01</td>\n",
       "      <td>Public Safety, Department of</td>\n",
       "      <td>NaN</td>\n",
       "      <td>JALAS DENNIS D</td>\n",
       "      <td>M</td>\n",
       "      <td>HENRY</td>\n",
       "      <td>LIEUTENANT</td>\n",
       "      <td>BW</td>\n",
       "      <td>3136.80</td>\n",
       "      <td>2009-07-01</td>\n",
       "      <td>84459.72</td>\n",
       "      <td>39.21</td>\n",
       "      <td>2154.035195</td>\n",
       "      <td>350.31</td>\n",
       "    </tr>\n",
       "    <tr>\n",
       "      <th>159994</th>\n",
       "      <td>2009-01-01</td>\n",
       "      <td>Public Safety, Department of</td>\n",
       "      <td>NaN</td>\n",
       "      <td>JAMES MILAN V</td>\n",
       "      <td>M</td>\n",
       "      <td>WAPELLO</td>\n",
       "      <td>TROOPER 3</td>\n",
       "      <td>BW</td>\n",
       "      <td>2384.00</td>\n",
       "      <td>2009-07-01</td>\n",
       "      <td>71450.40</td>\n",
       "      <td>29.80</td>\n",
       "      <td>2397.664430</td>\n",
       "      <td>179.00</td>\n",
       "    </tr>\n",
       "    <tr>\n",
       "      <th>159995</th>\n",
       "      <td>2009-01-01</td>\n",
       "      <td>Public Safety, Department of</td>\n",
       "      <td>NaN</td>\n",
       "      <td>JANSSEN CHRISTOPHER M</td>\n",
       "      <td>M</td>\n",
       "      <td>DELAWARE</td>\n",
       "      <td>TROOPER 2</td>\n",
       "      <td>BW</td>\n",
       "      <td>1611.20</td>\n",
       "      <td>2009-07-01</td>\n",
       "      <td>46820.62</td>\n",
       "      <td>20.14</td>\n",
       "      <td>2324.757696</td>\n",
       "      <td>508.00</td>\n",
       "    </tr>\n",
       "    <tr>\n",
       "      <th>159996</th>\n",
       "      <td>2009-01-01</td>\n",
       "      <td>Public Safety, Department of</td>\n",
       "      <td>NaN</td>\n",
       "      <td>JAY BARBARA J</td>\n",
       "      <td>F</td>\n",
       "      <td>POLK</td>\n",
       "      <td>SECRETARY 2</td>\n",
       "      <td>BW</td>\n",
       "      <td>1695.20</td>\n",
       "      <td>2009-07-01</td>\n",
       "      <td>43955.20</td>\n",
       "      <td>21.19</td>\n",
       "      <td>2074.336951</td>\n",
       "      <td>99.06</td>\n",
       "    </tr>\n",
       "    <tr>\n",
       "      <th>159997</th>\n",
       "      <td>2009-01-01</td>\n",
       "      <td>Public Safety, Department of</td>\n",
       "      <td>NaN</td>\n",
       "      <td>JENKINS JAMES T</td>\n",
       "      <td>M</td>\n",
       "      <td>LEE</td>\n",
       "      <td>GAMING ENFORCEMENT OFFIC</td>\n",
       "      <td>BW</td>\n",
       "      <td>1611.20</td>\n",
       "      <td>2009-07-01</td>\n",
       "      <td>44233.12</td>\n",
       "      <td>20.14</td>\n",
       "      <td>2196.282026</td>\n",
       "      <td>280.70</td>\n",
       "    </tr>\n",
       "    <tr>\n",
       "      <th>159998</th>\n",
       "      <td>2009-01-01</td>\n",
       "      <td>Public Safety, Department of</td>\n",
       "      <td>NaN</td>\n",
       "      <td>JENSEN KENNETH A</td>\n",
       "      <td>M</td>\n",
       "      <td>POTTAWATTAMIE</td>\n",
       "      <td>TROOPER PILOT SENIOR</td>\n",
       "      <td>BW</td>\n",
       "      <td>2492.00</td>\n",
       "      <td>2009-07-01</td>\n",
       "      <td>70666.79</td>\n",
       "      <td>31.15</td>\n",
       "      <td>2268.596790</td>\n",
       "      <td>1381.81</td>\n",
       "    </tr>\n",
       "    <tr>\n",
       "      <th>159999</th>\n",
       "      <td>2009-01-01</td>\n",
       "      <td>Public Safety, Department of</td>\n",
       "      <td>NaN</td>\n",
       "      <td>JENSEN TINA L</td>\n",
       "      <td>F</td>\n",
       "      <td>UNION</td>\n",
       "      <td>CRIMINAL INTEL ANALYST S</td>\n",
       "      <td>BW</td>\n",
       "      <td>1803.20</td>\n",
       "      <td>2009-07-01</td>\n",
       "      <td>46289.60</td>\n",
       "      <td>22.54</td>\n",
       "      <td>2053.664596</td>\n",
       "      <td>74.10</td>\n",
       "    </tr>\n",
       "  </tbody>\n",
       "</table>\n",
       "<p>10000 rows × 14 columns</p>\n",
       "</div>"
      ],
      "text/plain": [
       "       Fiscal Year                    Department Agency/Institution  \\\n",
       "150000  2009-01-01         Iowa State University                NaN   \n",
       "150001  2009-01-01         Iowa State University                NaN   \n",
       "150002  2009-01-01         Iowa State University                NaN   \n",
       "150003  2009-01-01         Iowa State University                NaN   \n",
       "150004  2009-01-01         Iowa State University                NaN   \n",
       "150005  2009-01-01         Iowa State University                NaN   \n",
       "150006  2009-01-01         Iowa State University                NaN   \n",
       "150007  2009-01-01         Iowa State University                NaN   \n",
       "150008  2009-01-01         Iowa State University                NaN   \n",
       "150009  2009-01-01         Iowa State University                NaN   \n",
       "150010  2009-01-01         Iowa State University                NaN   \n",
       "150011  2009-01-01         Iowa State University                NaN   \n",
       "150012  2009-01-01         Iowa State University                NaN   \n",
       "150013  2009-01-01         Iowa State University                NaN   \n",
       "150014  2009-01-01         Iowa State University                NaN   \n",
       "150015  2009-01-01         Iowa State University                NaN   \n",
       "150016  2009-01-01         Iowa State University                NaN   \n",
       "150017  2009-01-01         Iowa State University                NaN   \n",
       "150018  2009-01-01         Iowa State University                NaN   \n",
       "150019  2009-01-01         Iowa State University                NaN   \n",
       "150020  2009-01-01         Iowa State University                NaN   \n",
       "150021  2009-01-01         Iowa State University                NaN   \n",
       "150022  2009-01-01         Iowa State University                NaN   \n",
       "150023  2009-01-01         Iowa State University                NaN   \n",
       "150024  2009-01-01         Iowa State University                NaN   \n",
       "150025  2009-01-01         Iowa State University                NaN   \n",
       "150026  2009-01-01         Iowa State University                NaN   \n",
       "150027  2009-01-01         Iowa State University                NaN   \n",
       "150028  2009-01-01         Iowa State University                NaN   \n",
       "150029  2009-01-01         Iowa State University                NaN   \n",
       "...            ...                           ...                ...   \n",
       "159970  2009-01-01  Public Safety, Department of                NaN   \n",
       "159971  2009-01-01  Public Safety, Department of                NaN   \n",
       "159972  2009-01-01  Public Safety, Department of                NaN   \n",
       "159973  2009-01-01  Public Safety, Department of                NaN   \n",
       "159974  2009-01-01  Public Safety, Department of                NaN   \n",
       "159975  2009-01-01  Public Safety, Department of                NaN   \n",
       "159976  2009-01-01  Public Safety, Department of                NaN   \n",
       "159977  2009-01-01  Public Safety, Department of                NaN   \n",
       "159978  2009-01-01  Public Safety, Department of                NaN   \n",
       "159979  2009-01-01  Public Safety, Department of                NaN   \n",
       "159980  2009-01-01  Public Safety, Department of                NaN   \n",
       "159981  2009-01-01  Public Safety, Department of                NaN   \n",
       "159982  2009-01-01  Public Safety, Department of                NaN   \n",
       "159983  2009-01-01  Public Safety, Department of                NaN   \n",
       "159984  2009-01-01  Public Safety, Department of                NaN   \n",
       "159985  2009-01-01  Public Safety, Department of                NaN   \n",
       "159986  2009-01-01  Public Safety, Department of                NaN   \n",
       "159987  2009-01-01  Public Safety, Department of                NaN   \n",
       "159988  2009-01-01  Public Safety, Department of                NaN   \n",
       "159989  2009-01-01  Public Safety, Department of                NaN   \n",
       "159990  2009-01-01  Public Safety, Department of                NaN   \n",
       "159991  2009-01-01  Public Safety, Department of                NaN   \n",
       "159992  2009-01-01  Public Safety, Department of                NaN   \n",
       "159993  2009-01-01  Public Safety, Department of                NaN   \n",
       "159994  2009-01-01  Public Safety, Department of                NaN   \n",
       "159995  2009-01-01  Public Safety, Department of                NaN   \n",
       "159996  2009-01-01  Public Safety, Department of                NaN   \n",
       "159997  2009-01-01  Public Safety, Department of                NaN   \n",
       "159998  2009-01-01  Public Safety, Department of                NaN   \n",
       "159999  2009-01-01  Public Safety, Department of                NaN   \n",
       "\n",
       "                         Name Gender Place of Residence  \\\n",
       "150000         SHULMAN MARC A      M              STORY   \n",
       "150001         SHULTZ MICHAEL      M              STORY   \n",
       "150002   SHULTZ SARAH ELIZABE      F              STORY   \n",
       "150003         SHUMAN STEVE L      M              STORY   \n",
       "150004          SHYY YUH YUAN      M              STORY   \n",
       "150005   SIBENALLER KRYSTLE L      F              STORY   \n",
       "150006      SICK DOUGLAS ALAN      M              STORY   \n",
       "150007     SICKAU DIANE MARIE      F              BOONE   \n",
       "150008     SICKELS KENDAL LEE      M              STORY   \n",
       "150009      SICKELS RICHARD O      M              STORY   \n",
       "150010   SIECK MADDISON ELIZA      F              STORY   \n",
       "150011    SIEDELMANN NICHOLAS      M            AUDUBON   \n",
       "150012   SIEFKEN JOSIE LA RUE      F              BOONE   \n",
       "150013        SIEMEK ABBY ANN      F              STORY   \n",
       "150014       SIEMERS MARK LEE      M              STORY   \n",
       "150015    SIEPKER NICK ARTHUR      M              STORY   \n",
       "150016       SIEREN MATTHEW J      M             DALLAS   \n",
       "150017           SIEV SUSAN J      F              STORY   \n",
       "150018    SIEVE KRISTAL KORIN      F              STORY   \n",
       "150019             SIEVE TERI      F               POLK   \n",
       "150020      SIEVE VIVIAN LYNN      F              BOONE   \n",
       "150021   SIEVERS ASHLEY ELIZA      F              STORY   \n",
       "150022       SIEVERS JOSHUA L      M              SIOUX   \n",
       "150023          SILL ROBERT J      M              STORY   \n",
       "150024     SILL SOONEE ROHRER      F              STORY   \n",
       "150025     SILVA MARCOS PAULO      M              STORY   \n",
       "150026        SILVA VIJITHA K      F              STORY   \n",
       "150027   SILVER SAMANTHA DAWN      F              STORY   \n",
       "150028     SILVERTHORN LORI J      F              BOONE   \n",
       "150029           SIM YOUNG-JE      M              STORY   \n",
       "...                       ...    ...                ...   \n",
       "159970          HON WILLIAM E      M        CERRO GORDO   \n",
       "159971      HORIHAN MICHAEL D      M           CRAWFORD   \n",
       "159972        HOSBOND LINDA N      F               POLK   \n",
       "159973         HOUCK JOSEPH W      M         BLACK HAWK   \n",
       "159974  HOUSMAN ALLEN CHARLES      M               POLK   \n",
       "159975           HOVE HEATH M      M              STORY   \n",
       "159976      HOWARD III JOHN E      M           WOODBURY   \n",
       "159977         HOWELL KENNETH      M           DELAWARE   \n",
       "159978          HOY MICHAEL J      M      POTTAWATTAMIE   \n",
       "159979         HOYE PATRICK J      M               POLK   \n",
       "159980       HUFFMAN JUSTIN S      M          MUSCATINE   \n",
       "159981      HUGHES JR DAVID L      M               IOWA   \n",
       "159982        HUMMEL JOSHUA A      M      POTTAWATTAMIE   \n",
       "159983      HUMPHREY RONALD A      M             WARREN   \n",
       "159984       HUNEFELD RANDY M      M               POLK   \n",
       "159985           HUNT TRACY L      F               POLK   \n",
       "159986          HURLEY JOHN D      M          APPANOOSE   \n",
       "159987     HUTCHISON SHERRY J      F               POLK   \n",
       "159988          INGHAM WARD G      M               TAMA   \n",
       "159989           IRWIN LUKE R      M           HAMILTON   \n",
       "159990        JACKSON SARAH A      F             DALLAS   \n",
       "159991       JACOBSEN KAREN A      F             DALLAS   \n",
       "159992     JACOBSON JEFFREY B      M             BUTLER   \n",
       "159993         JALAS DENNIS D      M              HENRY   \n",
       "159994          JAMES MILAN V      M            WAPELLO   \n",
       "159995  JANSSEN CHRISTOPHER M      M           DELAWARE   \n",
       "159996          JAY BARBARA J      F               POLK   \n",
       "159997        JENKINS JAMES T      M                LEE   \n",
       "159998       JENSEN KENNETH A      M      POTTAWATTAMIE   \n",
       "159999          JENSEN TINA L      F              UNION   \n",
       "\n",
       "                        Position Base Salary Payment Method  \\\n",
       "150000           STAFF PHYSICIAN                        NaN   \n",
       "150001             CASUAL HOURLY                        NaN   \n",
       "150002             CASUAL HOURLY                        NaN   \n",
       "150003           LIBRARY ASST II                        NaN   \n",
       "150004               SCIENTIST I                        NaN   \n",
       "150005             CASUAL HOURLY                        NaN   \n",
       "150006             CASUAL HOURLY                        NaN   \n",
       "150007              RES ASSOC II                        NaN   \n",
       "150008             CASUAL HOURLY                        NaN   \n",
       "150009        EQUIPMENT OPERATOR                         HR   \n",
       "150010             CASUAL HOURLY                        NaN   \n",
       "150011             CASUAL HOURLY                        NaN   \n",
       "150012              SECRETARY II                        NaN   \n",
       "150013             CASUAL HOURLY                        NaN   \n",
       "150014                PROGRAMMER                        NaN   \n",
       "150015             CASUAL HOURLY                        NaN   \n",
       "150016                        **                        NaN   \n",
       "150017                  CLERK II                        NaN   \n",
       "150018              LAB TECH III                        NaN   \n",
       "150019        FAC SERVICES COORD                        NaN   \n",
       "150020            STOREKEEPER II                        NaN   \n",
       "150021             CASUAL HOURLY                        NaN   \n",
       "150022          AG SPECIALIST II                        NaN   \n",
       "150023           MOTOR VEH OPR I                        NaN   \n",
       "150024                 CLERK III                        NaN   \n",
       "150025             CASUAL HOURLY                        NaN   \n",
       "150026               RES ASSOC I                        NaN   \n",
       "150027             CASUAL HOURLY                        NaN   \n",
       "150028        FOOD SERV COORD II                         HR   \n",
       "150029         POSTDOC RES ASSOC                        NaN   \n",
       "...                          ...                        ...   \n",
       "159970                LIEUTENANT                         BW   \n",
       "159971                 TROOPER 3                         BW   \n",
       "159972              ACCOUNTANT 2                         BW   \n",
       "159973  COMMUNICATIONS CENTER SP                         BW   \n",
       "159974    INFO TECH SPECIALIST 5                         BW   \n",
       "159975                 TROOPER 2                         BW   \n",
       "159976             SPECIAL AGENT                         BW   \n",
       "159977  COMMUNICATIONS CENTER SP                         BW   \n",
       "159978                 TROOPER 2                         BW   \n",
       "159979       PUBLIC SAFETY CHIEF                         BW   \n",
       "159980                 TROOPER 2                         BW   \n",
       "159981                 TROOPER 3                         BW   \n",
       "159982  GAMING ENFORCEMENT OFFIC                         BW   \n",
       "159983  FIRE PREVENTION SUPERVIS                         BW   \n",
       "159984         PROGRAM PLANNER 3                         BW   \n",
       "159985                EXEC OFF 1                         BW   \n",
       "159986             SPECIAL AGENT                         BW   \n",
       "159987               SECRETARY 2                         BW   \n",
       "159988    FINGERPRINT TECHNICIAN                         BW   \n",
       "159989                 TROOPER 2                         BW   \n",
       "159990            CLERK-ADVANCED                 TERMINATED   \n",
       "159991             SPECIAL AGENT                         BW   \n",
       "159992   SPECIAL AGENT IN CHARGE                         BW   \n",
       "159993                LIEUTENANT                         BW   \n",
       "159994                 TROOPER 3                         BW   \n",
       "159995                 TROOPER 2                         BW   \n",
       "159996               SECRETARY 2                         BW   \n",
       "159997  GAMING ENFORCEMENT OFFIC                         BW   \n",
       "159998      TROOPER PILOT SENIOR                         BW   \n",
       "159999  CRIMINAL INTEL ANALYST S                         BW   \n",
       "\n",
       "        Base Salary Payment Amount Base Salary Date  Total Salary Paid  \\\n",
       "150000                   140324.00       2009-07-01          140324.00   \n",
       "150001                         NaN       2009-07-01            1408.00   \n",
       "150002                         NaN       2009-07-01            2327.28   \n",
       "150003                    42616.00       2009-07-01           41808.88   \n",
       "150004                    87458.00       2009-07-01           87458.00   \n",
       "150005                         NaN       2009-07-01            1087.75   \n",
       "150006                         NaN       2009-07-01           14325.00   \n",
       "150007                    34253.00       2009-07-01           34253.00   \n",
       "150008                         NaN       2009-07-01            3112.58   \n",
       "150009                       20.41       2009-07-01           42616.08   \n",
       "150010                         NaN       2009-07-01            1320.00   \n",
       "150011                         NaN       2009-07-01            2727.00   \n",
       "150012                    38941.00       2009-07-01           37823.47   \n",
       "150013                         NaN       2009-07-01            4549.00   \n",
       "150014                    40318.00       2009-07-01           40318.00   \n",
       "150015                         NaN       2009-07-01            2071.13   \n",
       "150016                         NaN       2009-07-01           25202.87   \n",
       "150017                    26225.00       2009-07-01           26208.59   \n",
       "150018                    35726.00       2009-07-01           36041.71   \n",
       "150019                    37292.00       2009-07-01           39563.48   \n",
       "150020                    39025.00       2009-07-01           39468.14   \n",
       "150021                         NaN       2009-07-01            3492.33   \n",
       "150022                    40277.00       2009-07-01           40277.00   \n",
       "150023                    13718.00       2009-07-01           13086.30   \n",
       "150024                    42616.00       2009-07-01           44437.89   \n",
       "150025                         NaN       2009-07-01            1517.74   \n",
       "150026                         NaN       2009-07-01           23657.44   \n",
       "150027                         NaN       2009-07-01            1284.10   \n",
       "150028                       18.69       2009-07-01           40567.85   \n",
       "150029                         NaN       2009-07-01           30205.04   \n",
       "...                            ...              ...                ...   \n",
       "159970                     3136.80       2009-07-01           85015.50   \n",
       "159971                     2384.00       2009-07-01           68867.14   \n",
       "159972                     2260.00       2009-07-01           59140.13   \n",
       "159973                     1864.00       2009-07-01           55105.90   \n",
       "159974                     3450.40       2009-07-01          120893.85   \n",
       "159975                     2193.60       2009-07-01           62761.16   \n",
       "159976                     2160.80       2009-07-01           72077.85   \n",
       "159977                     1853.60       2009-07-01           50964.64   \n",
       "159978                     2048.80       2009-07-01           61330.23   \n",
       "159979                     4746.40       2009-07-01          126583.50   \n",
       "159980                     1556.80       2009-07-01           40981.10   \n",
       "159981                     2384.00       2009-07-01           69309.99   \n",
       "159982                     1728.00       2009-07-01           47954.78   \n",
       "159983                     3450.40       2009-07-01           92207.68   \n",
       "159984                     2125.60       2009-07-01           54512.75   \n",
       "159985                     2596.80       2009-07-01           66093.60   \n",
       "159986                     2735.20       2009-07-01           79506.56   \n",
       "159987                     1695.20       2009-07-01           44025.60   \n",
       "159988                     1864.00       2009-07-01           48433.60   \n",
       "159989                     1913.60       2009-07-01           53795.50   \n",
       "159990                         NaN       2009-07-01           10508.67   \n",
       "159991                     2735.20       2009-07-01           74052.52   \n",
       "159992                     3450.40       2009-07-01           92926.70   \n",
       "159993                     3136.80       2009-07-01           84459.72   \n",
       "159994                     2384.00       2009-07-01           71450.40   \n",
       "159995                     1611.20       2009-07-01           46820.62   \n",
       "159996                     1695.20       2009-07-01           43955.20   \n",
       "159997                     1611.20       2009-07-01           44233.12   \n",
       "159998                     2492.00       2009-07-01           70666.79   \n",
       "159999                     1803.20       2009-07-01           46289.60   \n",
       "\n",
       "        Hourly Wage Estimate  Hours Worked Estimate  Travel & Subsistence  \n",
       "150000                   NaN                    NaN               2024.33  \n",
       "150001                   NaN                    NaN                   NaN  \n",
       "150002                   NaN                    NaN                   NaN  \n",
       "150003                   NaN                    NaN                   NaN  \n",
       "150004                   NaN                    NaN               2377.79  \n",
       "150005                   NaN                    NaN                   NaN  \n",
       "150006                   NaN                    NaN                   NaN  \n",
       "150007                   NaN                    NaN                   NaN  \n",
       "150008                   NaN                    NaN                   NaN  \n",
       "150009                 20.41            2088.000000                   NaN  \n",
       "150010                   NaN                    NaN                   NaN  \n",
       "150011                   NaN                    NaN                   NaN  \n",
       "150012                   NaN                    NaN                   NaN  \n",
       "150013                   NaN                    NaN                   NaN  \n",
       "150014                   NaN                    NaN                   NaN  \n",
       "150015                   NaN                    NaN                   NaN  \n",
       "150016                   NaN                    NaN                   NaN  \n",
       "150017                   NaN                    NaN                   NaN  \n",
       "150018                   NaN                    NaN                   NaN  \n",
       "150019                   NaN                    NaN                   NaN  \n",
       "150020                   NaN                    NaN                   NaN  \n",
       "150021                   NaN                    NaN                   NaN  \n",
       "150022                   NaN                    NaN                451.67  \n",
       "150023                   NaN                    NaN                   NaN  \n",
       "150024                   NaN                    NaN                   NaN  \n",
       "150025                   NaN                    NaN                744.07  \n",
       "150026                   NaN                    NaN                   NaN  \n",
       "150027                   NaN                    NaN                   NaN  \n",
       "150028                 18.69            2170.564473                 12.00  \n",
       "150029                   NaN                    NaN                   NaN  \n",
       "...                      ...                    ...                   ...  \n",
       "159970                 39.21            2168.209640                   NaN  \n",
       "159971                 29.80            2310.977852                763.43  \n",
       "159972                 28.25            2093.455929                 46.41  \n",
       "159973                 23.30            2365.060086                  8.00  \n",
       "159974                 43.13            2803.010665                   NaN  \n",
       "159975                 27.42            2288.882567                   NaN  \n",
       "159976                 27.01            2668.561644                150.50  \n",
       "159977                 23.17            2199.596029                101.60  \n",
       "159978                 25.61            2394.776650                204.00  \n",
       "159979                 59.33            2133.549638                907.68  \n",
       "159980                 19.46            2105.914697                 40.00  \n",
       "159981                 29.80            2325.838591                   NaN  \n",
       "159982                 21.60            2220.128704                153.51  \n",
       "159983                 43.13            2137.901229                173.70  \n",
       "159984                 26.57            2051.665412               2121.40  \n",
       "159985                 32.46            2036.155268                   NaN  \n",
       "159986                 34.19            2325.433168               1386.58  \n",
       "159987                 21.19            2077.659273                   NaN  \n",
       "159988                 23.30            2078.695279                482.21  \n",
       "159989                 23.92            2248.975753                119.00  \n",
       "159990                   NaN                    NaN                   NaN  \n",
       "159991                 34.19            2165.911670                262.00  \n",
       "159992                 43.13            2154.572224                461.60  \n",
       "159993                 39.21            2154.035195                350.31  \n",
       "159994                 29.80            2397.664430                179.00  \n",
       "159995                 20.14            2324.757696                508.00  \n",
       "159996                 21.19            2074.336951                 99.06  \n",
       "159997                 20.14            2196.282026                280.70  \n",
       "159998                 31.15            2268.596790               1381.81  \n",
       "159999                 22.54            2053.664596                 74.10  \n",
       "\n",
       "[10000 rows x 14 columns]"
      ]
     },
     "execution_count": 147,
     "metadata": {},
     "output_type": "execute_result"
    }
   ],
   "source": [
    "data.iloc[150000:160000]"
   ]
  },
  {
   "cell_type": "code",
   "execution_count": 150,
   "metadata": {},
   "outputs": [
    {
     "data": {
      "text/plain": [
       "array(['2007-07-01T00:00:00.000000000', '2008-07-01T00:00:00.000000000',\n",
       "       '2009-07-01T00:00:00.000000000', '2010-07-01T00:00:00.000000000',\n",
       "       '2011-07-01T00:00:00.000000000', '2012-07-01T00:00:00.000000000',\n",
       "       '2013-07-01T00:00:00.000000000', '2014-07-01T00:00:00.000000000',\n",
       "       '2015-07-01T00:00:00.000000000', '2016-07-01T00:00:00.000000000',\n",
       "       '2017-07-01T00:00:00.000000000'], dtype='datetime64[ns]')"
      ]
     },
     "execution_count": 150,
     "metadata": {},
     "output_type": "execute_result"
    }
   ],
   "source": [
    "data[\"Base Salary Date\"].unique()"
   ]
  },
  {
   "cell_type": "markdown",
   "metadata": {},
   "source": [
    "## Main Dataframe created"
   ]
  },
  {
   "cell_type": "markdown",
   "metadata": {},
   "source": [
    "## Average Salary vs Inflation\n",
    "\n",
    "Null Hypothesis: Does average salary "
   ]
  },
  {
   "cell_type": "code",
   "execution_count": 95,
   "metadata": {},
   "outputs": [],
   "source": [
    "# Salary calculations\n",
    "salary_mean = pd.DataFrame(data.groupby([\"Fiscal Year\"])[\"Total Salary Paid\"].mean())\n",
    "salary_increase = salary_mean.diff()/salary_mean\n",
    "salary_increase_change = salary_increase.diff()\n",
    "\n",
    "salary_mean_norm = (salary_mean-salary_mean.min())/(salary_mean.max()-salary_mean.min())\n",
    "salary_increase_norm = (salary_increase-salary_increase.min())/(salary_increase.max()-salary_increase.min())\n",
    "salary_increase_change_norm = (salary_increase_change-salary_increase_change.min())/(salary_increase_change.max()-salary_increase_change.min())"
   ]
  },
  {
   "cell_type": "code",
   "execution_count": 96,
   "metadata": {},
   "outputs": [],
   "source": [
    "# Inflation calculations\n",
    "inflation_rate_tuples = [(\"2007\",2.3), (\"2008\",2.3), (\"2009\",1.7), (\"2010\",1.0), (\"2011\",1.7),\n",
    "           (\"2012\",2.1), (\"2013\",1.8), (\"2014\",1.7), (\"2015\",1.8), (\"2016\",2.2), (\"2017\",1.8)]\n",
    "inflation_rate = pd.DataFrame(inflation_rate_tuples)\n",
    "inflation_rate.insert(0, 2, pd.to_datetime(pd.DataFrame(inflation_rate_tuples)[0], format='%Y'))\n",
    "inflation_rate.pop(0)\n",
    "inflation_rate = inflation_rate.rename({2:\"Fiscal Year\", 1: \"Inflation Rate\"}, axis=1)\n",
    "inflation_rate = inflation_rate.set_index(\"Fiscal Year\")\n",
    "inflation_rate = inflation_rate/100\n",
    "\n",
    "inflation = (inflation_rate+1).cumprod()\n",
    "# inflation_rate\n",
    "inflation_rate_change = inflation_rate.diff()\n",
    "\n",
    "inflation_norm = (inflation-inflation.min())/(inflation.max()-inflation.min())\n",
    "inflation_rate_norm = (inflation_rate-inflation_rate.min())/(inflation_rate.max()-inflation_rate.min())\n",
    "inflation_rate_change_norm = (inflation_rate_change-inflation_rate_change.min())/(inflation_rate_change.max()-inflation_rate_change.min())"
   ]
  },
  {
   "cell_type": "code",
   "execution_count": 131,
   "metadata": {
    "scrolled": false
   },
   "outputs": [
    {
     "data": {
      "image/png": "[encoded data removed]",
      "text/plain": [
       "<matplotlib.figure.Figure at 0x1a0e920cf8>"
      ]
     },
     "metadata": {},
     "output_type": "display_data"
    },
    {
     "data": {
      "image/png": "[encoded data removed]",
      "text/plain": [
       "<matplotlib.figure.Figure at 0x1a13e8c8d0>"
      ]
     },
     "metadata": {},
     "output_type": "display_data"
    },
    {
     "data": {
      "image/png": "[encoded data removed]",
      "text/plain": [
       "<matplotlib.figure.Figure at 0x1a111ba668>"
      ]
     },
     "metadata": {},
     "output_type": "display_data"
    }
   ],
   "source": [
    "r = stats.ks_2samp(salary_mean_norm[\"Total Salary Paid\"], inflation_norm[\"Inflation Rate\"])\n",
    "# print(r)\n",
    "# plt.figure().text(1, 0.5,\n",
    "#         \"KS Test:\\nstatistic = \"+str(round(r.statistic, 4))+\"\\n  pvalue = \"+str(round(r.pvalue, 4)),\n",
    "#                  size=12)\n",
    "plt.title(\"Average Salary vs Inflation\\n (normalized)\")\n",
    "plt.plot(salary_mean_norm)\n",
    "plt.plot(inflation_norm)\n",
    "plt.legend([\"salary mean (norm)\", \"inflation (norm)\"])\n",
    "plt.show()\n",
    "\n",
    "r = stats.ks_2samp(salary_increase_norm[1:][\"Total Salary Paid\"], inflation_rate_norm[1:][\"Inflation Rate\"])\n",
    "# print(r)\n",
    "# plt.figure().text(1, 0.5,\n",
    "#         \"KS Test:\\nstatistic = \"+str(round(r.statistic, 4))+\"\\n  pvalue = \"+str(round(r.pvalue, 4)),\n",
    "#                  size=12)\n",
    "plt.title(\"Average Salary Increase vs Inflation Rate\\n (normalized)\")\n",
    "plt.plot(salary_increase_norm[1:])\n",
    "plt.plot(inflation_rate_norm[1:])\n",
    "plt.legend([\"salary increase (norm)\", \"inflation rate (norm)\"])\n",
    "plt.show()\n",
    "\n",
    "r = stats.ks_2samp(salary_increase_change_norm[2:][\"Total Salary Paid\"], inflation_rate_change_norm[2:][\"Inflation Rate\"])\n",
    "# print(r)\n",
    "# plt.figure().text(1, 0.5,\n",
    "#         \"KS Test:\\nstatistic = \"+str(round(r.statistic, 4))+\"\\n  pvalue = \"+str(round(r.pvalue, 4)),\n",
    "#                  size=12)\n",
    "plt.title(\"Change in Average Salary Increase vs \\nChange in Inflation Rate (normalized)\")\n",
    "# plt.annotate(\"hello\", xy=(0,0))\n",
    "plt.plot(salary_increase_change_norm[2:])\n",
    "plt.plot(inflation_rate_change_norm[2:])\n",
    "plt.legend([\"salary increase change (norm)\", \"inflation rate change (norm)\"])\n",
    "# plt.text(.05,0.0005, \"testing\", ha='center')\n",
    "\n",
    "plt.show()"
   ]
  },
  {
   "cell_type": "markdown",
   "metadata": {},
   "source": [
    "These plots show that total inflation moves with total salary over time. Also that the change in inflation rate moves with the change of salary increases."
   ]
  },
  {
   "cell_type": "markdown",
   "metadata": {},
   "source": [
    "# SLR"
   ]
  },
  {
   "cell_type": "code",
   "execution_count": 132,
   "metadata": {
    "scrolled": false
   },
   "outputs": [
    {
     "name": "stdout",
     "output_type": "stream",
     "text": [
      "SLR: 1.1222, se: 0.0974, T-value: 11.5219\n",
      "Mean Error: 0.00, Error KS-test: KstestResult(statistic=0.5748194684935455, pvalue=0.00056851186811957)\n"
     ]
    },
    {
     "data": {
      "image/png": "[encoded data removed]",
      "text/plain": [
       "<matplotlib.figure.Figure at 0x1a103d36a0>"
      ]
     },
     "metadata": {},
     "output_type": "display_data"
    },
    {
     "data": {
      "image/png": "[encoded data removed]",
      "text/plain": [
       "<matplotlib.figure.Figure at 0x1a0e8ca668>"
      ]
     },
     "metadata": {},
     "output_type": "display_data"
    },
    {
     "name": "stdout",
     "output_type": "stream",
     "text": [
      "SLR: 0.6820, se: 0.1902, T-value: 3.5864\n",
      "Mean Error: 0.00, Error KS-test: KstestResult(statistic=0.6760390146498594, pvalue=4.7605229750224964e-05)\n"
     ]
    },
    {
     "data": {
      "image/png": "[encoded data removed]",
      "text/plain": [
       "<matplotlib.figure.Figure at 0x1a0f736550>"
      ]
     },
     "metadata": {},
     "output_type": "display_data"
    },
    {
     "data": {
      "image/png": "[encoded data removed]",
      "text/plain": [
       "<matplotlib.figure.Figure at 0x1a0f8b87f0>"
      ]
     },
     "metadata": {},
     "output_type": "display_data"
    },
    {
     "name": "stdout",
     "output_type": "stream",
     "text": [
      "SLR: 0.9253, se: 0.2128, T-value: 4.3484\n",
      "Mean Error: -0.00, Error KS-test: KstestResult(statistic=0.6958885665990018, pvalue=6.974672275905647e-05)\n"
     ]
    },
    {
     "data": {
      "image/png": "[encoded data removed]",
      "text/plain": [
       "<matplotlib.figure.Figure at 0x1a0fd7a4e0>"
      ]
     },
     "metadata": {},
     "output_type": "display_data"
    },
    {
     "data": {
      "image/png": "[encoded data removed]",
      "text/plain": [
       "<matplotlib.figure.Figure at 0x1a10e0ad68>"
      ]
     },
     "metadata": {},
     "output_type": "display_data"
    }
   ],
   "source": [
    "titles = [\"Average Salary and Inflation\\n Linear Regression\", \"Average Salary Increase and Inflation Rate\\n Linear Regression\", \"Change in Average Salary Increase and \\nChange in Inflation Rate Linear Regression\"]\n",
    "for train_x, train_y in zip([salary_mean_norm, salary_increase_norm[1:], salary_increase_change_norm[2:]], [inflation_norm, inflation_rate_norm[1:], inflation_rate_change_norm[2:]]):\n",
    "    train_x = train_x.copy()\n",
    "    train_y = train_y.copy()\n",
    "    LR0 = linear_model.LinearRegression()\n",
    "    LR0.fit(train_x, train_y)\n",
    "    pred = LR0.predict(train_x)\n",
    "    coef = LR0.coef_\n",
    "    \n",
    "    MAPE = 100 * sum(abs((p - y) / y) for y, p in zip(np.array(train_y), pred) if y != 0) / len([y for y in train_y if y != 0])\n",
    "    se = math.sqrt(sum((p-y)**2 for y, p in zip(np.array(train_y), pred)) / len(pred))\n",
    "    t_val = abs(coef / se)\n",
    "\n",
    "    errors = np.array(sorted([(p-y) for y, p in zip(np.array(train_y), pred)]))\n",
    "    ks = stats.kstest(errors, 'norm')\n",
    "\n",
    "    print(\"SLR: {0:.4f}, se: {1:.4f}, T-value: {2:.4f}\".format(coef[0][0], se, t_val[0][0]))\n",
    "    print(\"Mean Error: {0:.2f}, Error KS-test: {1}\".format(np.mean(errors), ks))\n",
    "    \n",
    "    train_x = pd.DataFrame(train_x)\n",
    "    train_y = pd.DataFrame(train_y)\n",
    "    pred = pd.DataFrame(pred)\n",
    "    update_index = train_x.index\n",
    "    pred.insert(1, update_index.name, update_index)\n",
    "    pred = pred.set_index(update_index.name)\n",
    "    \n",
    "    lr_plot_data = pd.DataFrame(train_x)\n",
    "    lr_plot_data.insert(1, train_y.columns[0], train_y)\n",
    "    lr_plot_data.insert(2, \"pred\", pred)\n",
    "    lr_plot_data = lr_plot_data.set_index(\"Total Salary Paid\")\n",
    "    lr_plot_data = lr_plot_data.sort_index()\n",
    "    plt.scatter(lr_plot_data.index, lr_plot_data[\"Inflation Rate\"])\n",
    "    plt.plot(lr_plot_data[\"pred\"])\n",
    "    plt.title(titles.pop(0))\n",
    "\n",
    "    plt.show()\n",
    "    \n",
    "    l = len(errors)  # this plots the full CDF on top of the yearly CDFs\n",
    "    plt.plot(pd.DataFrame(errors)[0].value_counts().sort_index().apply((lambda x: x/l)).cumsum()) # the array slicing gets ride of negative salary\n",
    "    plt.show()\n"
   ]
  },
  {
   "cell_type": "markdown",
   "metadata": {},
   "source": [
    "## Looking at effects from 2008 stock market crash and other events\n",
    "\n",
    "Null Hypothesis: The effects of the recession will effect salaries from year to year"
   ]
  },
  {
   "cell_type": "code",
   "execution_count": 8,
   "metadata": {},
   "outputs": [
    {
     "data": {
      "text/html": [
       "<div>\n",
       "<style scoped>\n",
       "    .dataframe tbody tr th:only-of-type {\n",
       "        vertical-align: middle;\n",
       "    }\n",
       "\n",
       "    .dataframe tbody tr th {\n",
       "        vertical-align: top;\n",
       "    }\n",
       "\n",
       "    .dataframe thead th {\n",
       "        text-align: right;\n",
       "    }\n",
       "</style>\n",
       "<table border=\"1\" class=\"dataframe\">\n",
       "  <thead>\n",
       "    <tr style=\"text-align: right;\">\n",
       "      <th></th>\n",
       "      <th>Inflation Rate</th>\n",
       "    </tr>\n",
       "    <tr>\n",
       "      <th>Fiscal Year</th>\n",
       "      <th></th>\n",
       "    </tr>\n",
       "  </thead>\n",
       "  <tbody>\n",
       "    <tr>\n",
       "      <th>2007-01-01</th>\n",
       "      <td>1.023000</td>\n",
       "    </tr>\n",
       "    <tr>\n",
       "      <th>2008-01-01</th>\n",
       "      <td>1.046529</td>\n",
       "    </tr>\n",
       "    <tr>\n",
       "      <th>2009-01-01</th>\n",
       "      <td>1.064320</td>\n",
       "    </tr>\n",
       "    <tr>\n",
       "      <th>2010-01-01</th>\n",
       "      <td>1.074963</td>\n",
       "    </tr>\n",
       "    <tr>\n",
       "      <th>2011-01-01</th>\n",
       "      <td>1.093238</td>\n",
       "    </tr>\n",
       "    <tr>\n",
       "      <th>2012-01-01</th>\n",
       "      <td>1.116196</td>\n",
       "    </tr>\n",
       "    <tr>\n",
       "      <th>2013-01-01</th>\n",
       "      <td>1.136287</td>\n",
       "    </tr>\n",
       "    <tr>\n",
       "      <th>2014-01-01</th>\n",
       "      <td>1.155604</td>\n",
       "    </tr>\n",
       "    <tr>\n",
       "      <th>2015-01-01</th>\n",
       "      <td>1.176405</td>\n",
       "    </tr>\n",
       "    <tr>\n",
       "      <th>2016-01-01</th>\n",
       "      <td>1.202286</td>\n",
       "    </tr>\n",
       "    <tr>\n",
       "      <th>2017-01-01</th>\n",
       "      <td>1.223927</td>\n",
       "    </tr>\n",
       "  </tbody>\n",
       "</table>\n",
       "</div>"
      ],
      "text/plain": [
       "             Inflation Rate\n",
       "Fiscal Year                \n",
       "2007-01-01         1.023000\n",
       "2008-01-01         1.046529\n",
       "2009-01-01         1.064320\n",
       "2010-01-01         1.074963\n",
       "2011-01-01         1.093238\n",
       "2012-01-01         1.116196\n",
       "2013-01-01         1.136287\n",
       "2014-01-01         1.155604\n",
       "2015-01-01         1.176405\n",
       "2016-01-01         1.202286\n",
       "2017-01-01         1.223927"
      ]
     },
     "execution_count": 8,
     "metadata": {},
     "output_type": "execute_result"
    }
   ],
   "source": [
    "inflation"
   ]
  },
  {
   "cell_type": "code",
   "execution_count": 9,
   "metadata": {},
   "outputs": [],
   "source": [
    "def inflation_adjust(x):\n",
    "    i_rate = float(inflation.loc[x[\"Fiscal Year\"]])\n",
    "    r = []\n",
    "    for i, v in enumerate(x):\n",
    "        if i in [8, 10, 11, 13]:\n",
    "            r.append(v/i_rate)\n",
    "        else:\n",
    "            r.append(v)\n",
    "    return r\n",
    "data_inflation_adjusted = data.apply(inflation_adjust, axis=1)"
   ]
  },
  {
   "cell_type": "code",
   "execution_count": 242,
   "metadata": {},
   "outputs": [
    {
     "data": {
      "text/plain": [
       "1.023"
      ]
     },
     "execution_count": 242,
     "metadata": {},
     "output_type": "execute_result"
    }
   ],
   "source": [
    "float(inflation.loc['2007-01-01'].values)"
   ]
  },
  {
   "cell_type": "code",
   "execution_count": 392,
   "metadata": {},
   "outputs": [
    {
     "data": {
      "text/plain": [
       "<function matplotlib.pyplot.show>"
      ]
     },
     "execution_count": 392,
     "metadata": {},
     "output_type": "execute_result"
    },
    {
     "data": {
      "image/png": "[encoded data removed]",
      "text/plain": [
       "<matplotlib.figure.Figure at 0x1a909937f0>"
      ]
     },
     "metadata": {},
     "output_type": "display_data"
    }
   ],
   "source": [
    "plt.plot(data_inflation_adjusted.groupby(\"Fiscal Year\")[\"Total Salary Paid\"].mean())\n",
    "plt.plot(data_inflation_adjusted.groupby(\"Fiscal Year\")[\"Total Salary Paid\"].median())\n",
    "plt.legend([\"Total Salary - mean\", \"Total Salary - median\"])\n",
    "plt.title(\"Inflation Adjusted Total Salary\")\n",
    "plt.show"
   ]
  },
  {
   "cell_type": "code",
   "execution_count": 311,
   "metadata": {},
   "outputs": [
    {
     "data": {
      "image/png": "[encoded data removed]",
      "text/plain": [
       "<matplotlib.figure.Figure at 0x1a90f55dd8>"
      ]
     },
     "metadata": {},
     "output_type": "display_data"
    },
    {
     "data": {
      "image/png": "[encoded data removed]",
      "text/plain": [
       "<matplotlib.figure.Figure at 0x1a93612e48>"
      ]
     },
     "metadata": {},
     "output_type": "display_data"
    },
    {
     "data": {
      "image/png": "[encoded data removed]",
      "text/plain": [
       "<matplotlib.figure.Figure at 0x1aa2c76c88>"
      ]
     },
     "metadata": {},
     "output_type": "display_data"
    }
   ],
   "source": [
    "# cdfs for inflation adjusted total salaries\n",
    "\n",
    "# cdf with x-axis log scale\n",
    "plt.figure(figsize=(13, 6))\n",
    "plt.grid(True, which=\"both\")\n",
    "p = plt.plot(data_inflation_adjusted[\"Total Salary Paid\"].value_counts().sort_index().apply((lambda x: x/l)).cumsum().iloc[2:]) # the array slicing gets ride of negative salary\n",
    "plt.semilogx(True)\n",
    "plt.show()\n",
    "\n",
    "\n",
    "# pdf with x-axis log scale\n",
    "plt.figure(figsize=(13, 6))\n",
    "plt.grid(True, which=\"both\")\n",
    "p = plt.plot(data_inflation_adjusted[\"Total Salary Paid\"].value_counts().sort_index().apply((lambda x: x/l)).iloc[2:]) # the array slicing gets ride of negative salary\n",
    "plt.semilogx(True)\n",
    "plt.ylim([0, 0.005])\n",
    "plt.show()\n",
    "\n",
    "\n",
    "plt.figure(figsize=(14, 8))\n",
    "plt.grid(True, which=\"both\")\n",
    "# l = len(data[\"Total Salary Paid\"])  # this plots the full CDF on top of the yearly CDFs\n",
    "# plt.plot(data[\"Total Salary Paid\"].value_counts().sort_index().apply((lambda x: x/l)).cumsum(), label=\"all\", color=\"black\", alpha=0.3)\n",
    "colors = ['#FF0000', '#FF4500', '#FF4500', '#FFD700', '#9ACD32', '#228B22', '#228B22', '#008080', '#0000FF', '#00008B', '#4B0082']\n",
    "for k, i in enumerate(data_inflation_adjusted.groupby([\"Fiscal Year\"])):\n",
    "    title = i[0]\n",
    "    i = i[1]\n",
    "    l = len(i[\"Total Salary Paid\"])\n",
    "    plt.plot(i[\"Total Salary Paid\"].value_counts().sort_index().apply((lambda x: x/l)).cumsum(),\n",
    "            label=str(title)[:4],\n",
    "            color=colors[k],\n",
    "            alpha=0.5)\n",
    "plt.semilogx(True, basex=10)\n",
    "plt.legend(loc='best')\n",
    "plt.show()"
   ]
  },
  {
   "cell_type": "code",
   "execution_count": 345,
   "metadata": {},
   "outputs": [],
   "source": [
    "def WaldsTest(df1, df2):\n",
    "    w = (df1.mean() - df2.mean())/np.sqrt(df1.var()/len(df1) + df2.var()/len(df2))\n",
    "    p_value = 2 * (1 - stats.norm.cdf(abs(w)))\n",
    "    return w, p_value"
   ]
  },
  {
   "cell_type": "code",
   "execution_count": 357,
   "metadata": {},
   "outputs": [],
   "source": [
    "# def TTest(df):\n",
    "#     t = df.mean() / np.sqrt(df.var()/len(df))\n",
    "#     return t"
   ]
  },
  {
   "cell_type": "code",
   "execution_count": 340,
   "metadata": {},
   "outputs": [],
   "source": [
    "total_salary_by_year = [data_inflation_adjusted.loc[data_inflation_adjusted[\"Fiscal Year\"] == (str(i)+\"-01-01\")][\"Total Salary Paid\"] for i in range(2007,2018)]\n",
    "# pd.concat()  # use this to concat different years together"
   ]
  },
  {
   "cell_type": "code",
   "execution_count": 387,
   "metadata": {},
   "outputs": [
    {
     "name": "stdout",
     "output_type": "stream",
     "text": [
      "2007 2008 diff -26.582776570996028 0.0\n",
      "2008 2009 diff -7.317337227866538 2.5290880500961066e-13\n",
      "2009 2010 diff 2.2548702240844816 0.02414147579807535\n",
      "2010 2011 diff 5.076237909786543 3.849812066913927e-07\n",
      "2011 2012 diff -6.03722016476449 1.5679173515081857e-09\n",
      "2012 2013 same -1.2208178107949528 0.222155008655623\n",
      "2013 2014 same 0.21874647348697976 0.8268475449460473\n",
      "2014 2015 same 0.559736357332458 0.575659279414487\n",
      "2015 2016 diff -4.119903829845212 3.79030568347094e-05\n",
      "2016 2017 diff -2.069895952495265 0.03846208906109938\n"
     ]
    }
   ],
   "source": [
    "for i in range(len(total_salary_by_year)-1):\n",
    "    w, p = WaldsTest(total_salary_by_year[i], total_salary_by_year[i+1])\n",
    "    if p < 0.05:\n",
    "        s = \"diff\"\n",
    "    else:\n",
    "        s = \"same\"\n",
    "    print(i+2007, i+2007+1, s, w, p)\n",
    "\n",
    "# the dataset is quite large so errors tend to be small, \n",
    "# the results below show that there are still years that are very similar to one another"
   ]
  },
  {
   "cell_type": "code",
   "execution_count": 384,
   "metadata": {},
   "outputs": [
    {
     "name": "stdout",
     "output_type": "stream",
     "text": [
      "(2007, 2008) (2008, 2013)\n",
      "wald stat -40.36348505364705 p-value 0.0\n",
      "(2008, 2013) (2013, 2017)\n",
      "wald stat -8.906900393239514 p-value 0.0\n",
      "(2013, 2017) (2017, 2018)\n",
      "wald stat -6.048230778718599 p-value 1.464450782862059e-09\n"
     ]
    }
   ],
   "source": [
    "# pre recession, effects of recession, market rising, election\n",
    "# 2007, 2008-2012, 2013-2016, 2017\n",
    "\n",
    "the_gaps = [(2007,2007+1),(2008, 2012+1),(2013, 2016+1),(2017, 2017+1)]\n",
    "\n",
    "for i in range(len(the_gaps)-1):\n",
    "    a1 = the_gaps[i][0]-2007\n",
    "    a2 = the_gaps[i][1]-2007\n",
    "    b1 = the_gaps[i+1][0]-2007\n",
    "    b2 = the_gaps[i+1][1]-2007\n",
    "    d1 = pd.concat(total_salary_by_year[a1:a2])\n",
    "    d2 = pd.concat(total_salary_by_year[b1:b2])\n",
    "    w, p = WaldsTest(d1, d2)\n",
    "    print(the_gaps[i], the_gaps[i+1])\n",
    "    print(\"wald stat\", w, \"p-value\", p)\n",
    "\n",
    "# each group of years are different from each other"
   ]
  },
  {
   "cell_type": "code",
   "execution_count": null,
   "metadata": {},
   "outputs": [],
   "source": []
  },
  {
   "cell_type": "markdown",
   "metadata": {},
   "source": [
    "## Looking at salaries and Effective Federal Funds Rate"
   ]
  },
  {
   "cell_type": "code",
   "execution_count": 117,
   "metadata": {},
   "outputs": [],
   "source": [
    "effr_path = \"effr.csv\"\n",
    "# effr_data = pd.read_csv(effr_path, parse_dates=True, infer_datetime_format=True, header=0, converters={'\"EFFR (PERCENT)\"': money_to_float})\n",
    "# dp = lambda x: pd.datetime.strptime(str(x), '%m/%d/%Y')\n",
    "effr_data = pd.read_csv(effr_path)\n",
    "def effr_parser(x):\n",
    "    try:\n",
    "        t = pd.datetime.strptime(str(x[0]).split('[')[0], '%m/%d/%y')\n",
    "    except ValueError:\n",
    "        t = pd.datetime.strptime(str(x[0]).split('[')[0], '%Y-%m-%d')\n",
    "    t = t.year\n",
    "    t = pd.to_datetime(int(t), format=\"%Y\")\n",
    "    n = np.float(x[1])\n",
    "    return [t, n]\n",
    "effr_data = effr_data.apply(effr_parser, axis=1)\n",
    "effr_data = effr_data.set_index(\"DATE\")\n",
    "effr_data = effr_data.sort_index()\n",
    "effr_data = effr_data.groupby(\"DATE\").mean()\n",
    "effr_data_norm = (effr_data - effr_data.min()) / (effr_data.max() - effr_data.min())\n",
    "\n",
    "# effr_data_by_year = effr_data.apply(lambda x: (x[0].year, x[1]), axis=1).groupby(\"DATE\").mean()"
   ]
  },
  {
   "cell_type": "code",
   "execution_count": 118,
   "metadata": {},
   "outputs": [
    {
     "data": {
      "text/html": [
       "<div>\n",
       "<style scoped>\n",
       "    .dataframe tbody tr th:only-of-type {\n",
       "        vertical-align: middle;\n",
       "    }\n",
       "\n",
       "    .dataframe tbody tr th {\n",
       "        vertical-align: top;\n",
       "    }\n",
       "\n",
       "    .dataframe thead th {\n",
       "        text-align: right;\n",
       "    }\n",
       "</style>\n",
       "<table border=\"1\" class=\"dataframe\">\n",
       "  <thead>\n",
       "    <tr style=\"text-align: right;\">\n",
       "      <th></th>\n",
       "      <th>EFFR\n",
       "(PERCENT)</th>\n",
       "    </tr>\n",
       "    <tr>\n",
       "      <th>DATE</th>\n",
       "      <th></th>\n",
       "    </tr>\n",
       "  </thead>\n",
       "  <tbody>\n",
       "    <tr>\n",
       "      <th>2007-01-01</th>\n",
       "      <td>5.026454</td>\n",
       "    </tr>\n",
       "    <tr>\n",
       "      <th>2008-01-01</th>\n",
       "      <td>1.939048</td>\n",
       "    </tr>\n",
       "    <tr>\n",
       "      <th>2009-01-01</th>\n",
       "      <td>0.159722</td>\n",
       "    </tr>\n",
       "    <tr>\n",
       "      <th>2010-01-01</th>\n",
       "      <td>0.177024</td>\n",
       "    </tr>\n",
       "    <tr>\n",
       "      <th>2011-01-01</th>\n",
       "      <td>0.101833</td>\n",
       "    </tr>\n",
       "    <tr>\n",
       "      <th>2012-01-01</th>\n",
       "      <td>0.142112</td>\n",
       "    </tr>\n",
       "    <tr>\n",
       "      <th>2013-01-01</th>\n",
       "      <td>0.107809</td>\n",
       "    </tr>\n",
       "    <tr>\n",
       "      <th>2014-01-01</th>\n",
       "      <td>0.089004</td>\n",
       "    </tr>\n",
       "    <tr>\n",
       "      <th>2015-01-01</th>\n",
       "      <td>0.134286</td>\n",
       "    </tr>\n",
       "    <tr>\n",
       "      <th>2016-01-01</th>\n",
       "      <td>0.394661</td>\n",
       "    </tr>\n",
       "    <tr>\n",
       "      <th>2017-01-01</th>\n",
       "      <td>1.003705</td>\n",
       "    </tr>\n",
       "  </tbody>\n",
       "</table>\n",
       "</div>"
      ],
      "text/plain": [
       "            EFFR\\n(PERCENT)\n",
       "DATE                       \n",
       "2007-01-01         5.026454\n",
       "2008-01-01         1.939048\n",
       "2009-01-01         0.159722\n",
       "2010-01-01         0.177024\n",
       "2011-01-01         0.101833\n",
       "2012-01-01         0.142112\n",
       "2013-01-01         0.107809\n",
       "2014-01-01         0.089004\n",
       "2015-01-01         0.134286\n",
       "2016-01-01         0.394661\n",
       "2017-01-01         1.003705"
      ]
     },
     "execution_count": 118,
     "metadata": {},
     "output_type": "execute_result"
    }
   ],
   "source": [
    "effr_data"
   ]
  },
  {
   "cell_type": "code",
   "execution_count": 122,
   "metadata": {},
   "outputs": [
    {
     "data": {
      "text/plain": [
       "[<matplotlib.lines.Line2D at 0x1a1423f588>]"
      ]
     },
     "execution_count": 122,
     "metadata": {},
     "output_type": "execute_result"
    },
    {
     "data": {
      "image/png": "[encoded data removed]",
      "text/plain": [
       "<matplotlib.figure.Figure at 0x1a10d52978>"
      ]
     },
     "metadata": {},
     "output_type": "display_data"
    }
   ],
   "source": [
    "plt.plot(effr_data)"
   ]
  },
  {
   "cell_type": "code",
   "execution_count": 127,
   "metadata": {},
   "outputs": [
    {
     "name": "stdout",
     "output_type": "stream",
     "text": [
      "SLR: -0.7731, se: 0.2061, T-value: 3.7509\n",
      "Mean Error: 0.00, Error KS-test: KstestResult(statistic=0.65060958505129, pvalue=4.4424573741874696e-05)\n"
     ]
    },
    {
     "data": {
      "image/png": "[encoded data removed]",
      "text/plain": [
       "<matplotlib.figure.Figure at 0x1a0ff0b588>"
      ]
     },
     "metadata": {},
     "output_type": "display_data"
    },
    {
     "data": {
      "image/png": "[encoded data removed]",
      "text/plain": [
       "<matplotlib.figure.Figure at 0x1a0ff2a0b8>"
      ]
     },
     "metadata": {},
     "output_type": "display_data"
    },
    {
     "data": {
      "image/png": "[encoded data removed]",
      "text/plain": [
       "<matplotlib.figure.Figure at 0x1a109b5f60>"
      ]
     },
     "metadata": {},
     "output_type": "display_data"
    },
    {
     "name": "stdout",
     "output_type": "stream",
     "text": [
      "SLR: 0.3563, se: 0.0655, T-value: 5.4389\n",
      "Mean Error: -0.00, Error KS-test: KstestResult(statistic=0.5534245548597891, pvalue=0.0020848743025507765)\n"
     ]
    },
    {
     "data": {
      "image/png": "[encoded data removed]",
      "text/plain": [
       "<matplotlib.figure.Figure at 0x1a10f08f98>"
      ]
     },
     "metadata": {},
     "output_type": "display_data"
    },
    {
     "data": {
      "image/png": "[encoded data removed]",
      "text/plain": [
       "<matplotlib.figure.Figure at 0x1a11cae588>"
      ]
     },
     "metadata": {},
     "output_type": "display_data"
    },
    {
     "data": {
      "image/png": "[encoded data removed]",
      "text/plain": [
       "<matplotlib.figure.Figure at 0x1a0c946780>"
      ]
     },
     "metadata": {},
     "output_type": "display_data"
    }
   ],
   "source": [
    "for train_x, train_y in zip([salary_mean_norm[0:], salary_increase_norm[1:]], [effr_data_norm.iloc[0:], effr_data_norm.iloc[1:]]):\n",
    "    \n",
    "    train_x = train_x.copy()\n",
    "    train_y = train_y.copy()\n",
    "    LR0 = linear_model.LinearRegression()\n",
    "    LR0.fit(train_x, train_y)\n",
    "    pred = LR0.predict(train_x)\n",
    "    coef = LR0.coef_\n",
    "    \n",
    "    MAPE = 100 * sum(abs((p - y) / y) for y, p in zip(np.array(train_y), pred) if y != 0) / len([y for y in train_y if y != 0])\n",
    "    se = math.sqrt(sum((p-y)**2 for y, p in zip(np.array(train_y), pred)) / len(pred))\n",
    "    t_val = abs(coef / se)\n",
    "\n",
    "    errors = np.array(sorted([(p-y) for y, p in zip(np.array(train_y), pred)]))\n",
    "    ks = stats.kstest(errors, 'norm')\n",
    "\n",
    "    print(\"SLR: {0:.4f}, se: {1:.4f}, T-value: {2:.4f}\".format(coef[0][0], se, t_val[0][0]))\n",
    "    print(\"Mean Error: {0:.2f}, Error KS-test: {1}\".format(np.mean(errors), ks))\n",
    "    \n",
    "    train_x = pd.DataFrame(train_x)\n",
    "    train_y = pd.DataFrame(train_y)\n",
    "    pred = pd.DataFrame(pred)\n",
    "    update_index = train_x.index\n",
    "    pred.insert(1, update_index.name, update_index)\n",
    "    pred = pred.set_index(update_index.name)\n",
    "    \n",
    "    plt.plot(train_x)\n",
    "    plt.plot(train_y)\n",
    "    plt.show()\n",
    "    \n",
    "    lr_plot_data = pd.DataFrame(train_x)\n",
    "    lr_plot_data.insert(1, train_y.columns[0], train_y)\n",
    "    lr_plot_data.insert(2, \"pred\", pred)\n",
    "    lr_plot_data = lr_plot_data.set_index(\"Total Salary Paid\")\n",
    "    lr_plot_data = lr_plot_data.sort_index()\n",
    "    plt.scatter(lr_plot_data.index, lr_plot_data[\"EFFR\\n(PERCENT)\"])\n",
    "    plt.plot(lr_plot_data[\"pred\"])\n",
    "    plt.show()\n",
    "    \n",
    "    l = len(errors)  # this plots the full CDF on top of the yearly CDFs\n",
    "    plt.plot(pd.DataFrame(errors)[0].value_counts().sort_index().apply((lambda x: x/l)).cumsum()) # the array slicing gets ride of negative salary\n",
    "    plt.show()\n",
    "\n"
   ]
  },
  {
   "cell_type": "markdown",
   "metadata": {},
   "source": [
    "# scrap from trying to get SLR to work"
   ]
  },
  {
   "cell_type": "code",
   "execution_count": null,
   "metadata": {},
   "outputs": [],
   "source": []
  },
  {
   "cell_type": "code",
   "execution_count": 165,
   "metadata": {},
   "outputs": [
    {
     "ename": "IndexError",
     "evalue": "tuple index out of range",
     "output_type": "error",
     "traceback": [
      "\u001b[0;31m---------------------------------------------------------------------------\u001b[0m",
      "\u001b[0;31mIndexError\u001b[0m                                Traceback (most recent call last)",
      "\u001b[0;32m<ipython-input-165-789ffb1d371b>\u001b[0m in \u001b[0;36m<module>\u001b[0;34m()\u001b[0m\n\u001b[0;32m----> 1\u001b[0;31m \u001b[0mlinregress\u001b[0m\u001b[0;34m(\u001b[0m\u001b[0mnp\u001b[0m\u001b[0;34m.\u001b[0m\u001b[0marray\u001b[0m\u001b[0;34m(\u001b[0m\u001b[0msalary_mean\u001b[0m\u001b[0;34m[\u001b[0m\u001b[0;34m\"Total Salary Paid\"\u001b[0m\u001b[0;34m]\u001b[0m\u001b[0;34m)\u001b[0m\u001b[0;34m)\u001b[0m\u001b[0;34m\u001b[0m\u001b[0m\n\u001b[0m",
      "\u001b[0;32m/anaconda3/lib/python3.6/site-packages/scipy/stats/_stats_mstats_common.py\u001b[0m in \u001b[0;36mlinregress\u001b[0;34m(x, y)\u001b[0m\n\u001b[1;32m     73\u001b[0m         \u001b[0;32mif\u001b[0m \u001b[0mx\u001b[0m\u001b[0;34m.\u001b[0m\u001b[0mshape\u001b[0m\u001b[0;34m[\u001b[0m\u001b[0;36m0\u001b[0m\u001b[0;34m]\u001b[0m \u001b[0;34m==\u001b[0m \u001b[0;36m2\u001b[0m\u001b[0;34m:\u001b[0m\u001b[0;34m\u001b[0m\u001b[0m\n\u001b[1;32m     74\u001b[0m             \u001b[0mx\u001b[0m\u001b[0;34m,\u001b[0m \u001b[0my\u001b[0m \u001b[0;34m=\u001b[0m \u001b[0mx\u001b[0m\u001b[0;34m\u001b[0m\u001b[0m\n\u001b[0;32m---> 75\u001b[0;31m         \u001b[0;32melif\u001b[0m \u001b[0mx\u001b[0m\u001b[0;34m.\u001b[0m\u001b[0mshape\u001b[0m\u001b[0;34m[\u001b[0m\u001b[0;36m1\u001b[0m\u001b[0;34m]\u001b[0m \u001b[0;34m==\u001b[0m \u001b[0;36m2\u001b[0m\u001b[0;34m:\u001b[0m\u001b[0;34m\u001b[0m\u001b[0m\n\u001b[0m\u001b[1;32m     76\u001b[0m             \u001b[0mx\u001b[0m\u001b[0;34m,\u001b[0m \u001b[0my\u001b[0m \u001b[0;34m=\u001b[0m \u001b[0mx\u001b[0m\u001b[0;34m.\u001b[0m\u001b[0mT\u001b[0m\u001b[0;34m\u001b[0m\u001b[0m\n\u001b[1;32m     77\u001b[0m         \u001b[0;32melse\u001b[0m\u001b[0;34m:\u001b[0m\u001b[0;34m\u001b[0m\u001b[0m\n",
      "\u001b[0;31mIndexError\u001b[0m: tuple index out of range"
     ]
    }
   ],
   "source": [
    "linregress(np.array(salary_mean[\"Total Salary Paid\"]))"
   ]
  },
  {
   "cell_type": "code",
   "execution_count": 168,
   "metadata": {},
   "outputs": [],
   "source": [
    "from scipy import linspace"
   ]
  },
  {
   "cell_type": "code",
   "execution_count": 173,
   "metadata": {},
   "outputs": [
    {
     "data": {
      "text/plain": [
       "array([ 0.,  1.,  2.,  3.,  4.,  5.,  6.,  7.,  8.,  9., 10.])"
      ]
     },
     "execution_count": 173,
     "metadata": {},
     "output_type": "execute_result"
    }
   ],
   "source": [
    "linspace(0,10,11)"
   ]
  },
  {
   "cell_type": "code",
   "execution_count": 174,
   "metadata": {},
   "outputs": [
    {
     "data": {
      "text/plain": [
       "array([[39314.82906565],\n",
       "       [45896.4623022 ],\n",
       "       [48360.71741126],\n",
       "       [48311.35551131],\n",
       "       [47868.01153203],\n",
       "       [50465.34623521],\n",
       "       [51707.09528695],\n",
       "       [52524.66760504],\n",
       "       [53306.32709834],\n",
       "       [55738.68204296],\n",
       "       [57397.95954074]])"
      ]
     },
     "execution_count": 174,
     "metadata": {},
     "output_type": "execute_result"
    }
   ],
   "source": [
    "salary_mean.values"
   ]
  },
  {
   "cell_type": "code",
   "execution_count": 175,
   "metadata": {},
   "outputs": [
    {
     "ename": "ValueError",
     "evalue": "all the input array dimensions except for the concatenation axis must match exactly",
     "output_type": "error",
     "traceback": [
      "\u001b[0;31m---------------------------------------------------------------------------\u001b[0m",
      "\u001b[0;31mValueError\u001b[0m                                Traceback (most recent call last)",
      "\u001b[0;32m<ipython-input-175-486943c62cc8>\u001b[0m in \u001b[0;36m<module>\u001b[0;34m()\u001b[0m\n\u001b[0;32m----> 1\u001b[0;31m \u001b[0mlinregress\u001b[0m\u001b[0;34m(\u001b[0m\u001b[0mlinspace\u001b[0m\u001b[0;34m(\u001b[0m\u001b[0;36m0\u001b[0m\u001b[0;34m,\u001b[0m\u001b[0;36m10\u001b[0m\u001b[0;34m,\u001b[0m\u001b[0;36m11\u001b[0m\u001b[0;34m)\u001b[0m\u001b[0;34m,\u001b[0m \u001b[0msalary_mean\u001b[0m\u001b[0;34m.\u001b[0m\u001b[0mvalues\u001b[0m\u001b[0;34m)\u001b[0m\u001b[0;34m\u001b[0m\u001b[0m\n\u001b[0m",
      "\u001b[0;32m/anaconda3/lib/python3.6/site-packages/scipy/stats/_stats_mstats_common.py\u001b[0m in \u001b[0;36mlinregress\u001b[0;34m(x, y)\u001b[0m\n\u001b[1;32m     91\u001b[0m \u001b[0;34m\u001b[0m\u001b[0m\n\u001b[1;32m     92\u001b[0m     \u001b[0;31m# average sum of squares:\u001b[0m\u001b[0;34m\u001b[0m\u001b[0;34m\u001b[0m\u001b[0m\n\u001b[0;32m---> 93\u001b[0;31m     \u001b[0mssxm\u001b[0m\u001b[0;34m,\u001b[0m \u001b[0mssxym\u001b[0m\u001b[0;34m,\u001b[0m \u001b[0mssyxm\u001b[0m\u001b[0;34m,\u001b[0m \u001b[0mssym\u001b[0m \u001b[0;34m=\u001b[0m \u001b[0mnp\u001b[0m\u001b[0;34m.\u001b[0m\u001b[0mcov\u001b[0m\u001b[0;34m(\u001b[0m\u001b[0mx\u001b[0m\u001b[0;34m,\u001b[0m \u001b[0my\u001b[0m\u001b[0;34m,\u001b[0m \u001b[0mbias\u001b[0m\u001b[0;34m=\u001b[0m\u001b[0;36m1\u001b[0m\u001b[0;34m)\u001b[0m\u001b[0;34m.\u001b[0m\u001b[0mflat\u001b[0m\u001b[0;34m\u001b[0m\u001b[0m\n\u001b[0m\u001b[1;32m     94\u001b[0m     \u001b[0mr_num\u001b[0m \u001b[0;34m=\u001b[0m \u001b[0mssxym\u001b[0m\u001b[0;34m\u001b[0m\u001b[0m\n\u001b[1;32m     95\u001b[0m     \u001b[0mr_den\u001b[0m \u001b[0;34m=\u001b[0m \u001b[0mnp\u001b[0m\u001b[0;34m.\u001b[0m\u001b[0msqrt\u001b[0m\u001b[0;34m(\u001b[0m\u001b[0mssxm\u001b[0m \u001b[0;34m*\u001b[0m \u001b[0mssym\u001b[0m\u001b[0;34m)\u001b[0m\u001b[0;34m\u001b[0m\u001b[0m\n",
      "\u001b[0;32m/anaconda3/lib/python3.6/site-packages/numpy/lib/function_base.py\u001b[0m in \u001b[0;36mcov\u001b[0;34m(m, y, rowvar, bias, ddof, fweights, aweights)\u001b[0m\n\u001b[1;32m   3042\u001b[0m         \u001b[0;32mif\u001b[0m \u001b[0;32mnot\u001b[0m \u001b[0mrowvar\u001b[0m \u001b[0;32mand\u001b[0m \u001b[0my\u001b[0m\u001b[0;34m.\u001b[0m\u001b[0mshape\u001b[0m\u001b[0;34m[\u001b[0m\u001b[0;36m0\u001b[0m\u001b[0;34m]\u001b[0m \u001b[0;34m!=\u001b[0m \u001b[0;36m1\u001b[0m\u001b[0;34m:\u001b[0m\u001b[0;34m\u001b[0m\u001b[0m\n\u001b[1;32m   3043\u001b[0m             \u001b[0my\u001b[0m \u001b[0;34m=\u001b[0m \u001b[0my\u001b[0m\u001b[0;34m.\u001b[0m\u001b[0mT\u001b[0m\u001b[0;34m\u001b[0m\u001b[0m\n\u001b[0;32m-> 3044\u001b[0;31m         \u001b[0mX\u001b[0m \u001b[0;34m=\u001b[0m \u001b[0mnp\u001b[0m\u001b[0;34m.\u001b[0m\u001b[0mconcatenate\u001b[0m\u001b[0;34m(\u001b[0m\u001b[0;34m(\u001b[0m\u001b[0mX\u001b[0m\u001b[0;34m,\u001b[0m \u001b[0my\u001b[0m\u001b[0;34m)\u001b[0m\u001b[0;34m,\u001b[0m \u001b[0maxis\u001b[0m\u001b[0;34m=\u001b[0m\u001b[0;36m0\u001b[0m\u001b[0;34m)\u001b[0m\u001b[0;34m\u001b[0m\u001b[0m\n\u001b[0m\u001b[1;32m   3045\u001b[0m \u001b[0;34m\u001b[0m\u001b[0m\n\u001b[1;32m   3046\u001b[0m     \u001b[0;32mif\u001b[0m \u001b[0mddof\u001b[0m \u001b[0;32mis\u001b[0m \u001b[0;32mNone\u001b[0m\u001b[0;34m:\u001b[0m\u001b[0;34m\u001b[0m\u001b[0m\n",
      "\u001b[0;31mValueError\u001b[0m: all the input array dimensions except for the concatenation axis must match exactly"
     ]
    }
   ],
   "source": [
    "linregress(linspace(0,10,11), salary_mean.values)"
   ]
  },
  {
   "cell_type": "code",
   "execution_count": 188,
   "metadata": {},
   "outputs": [
    {
     "data": {
      "text/plain": [
       "(1, 11)"
      ]
     },
     "execution_count": 188,
     "metadata": {},
     "output_type": "execute_result"
    }
   ],
   "source": [
    "np.column_stack(salary_mean[\"Total Salary Paid\"]).shape"
   ]
  },
  {
   "cell_type": "code",
   "execution_count": 195,
   "metadata": {},
   "outputs": [
    {
     "name": "stderr",
     "output_type": "stream",
     "text": [
      "/anaconda3/lib/python3.6/site-packages/scipy/stats/_stats_mstats_common.py:117: RuntimeWarning: invalid value encountered in sqrt\n",
      "  t = r * np.sqrt(df / ((1.0 - r + TINY)*(1.0 + r + TINY)))\n",
      "/anaconda3/lib/python3.6/site-packages/scipy/stats/_stats_mstats_common.py:119: RuntimeWarning: invalid value encountered in sqrt\n",
      "  sterrest = np.sqrt((1 - r**2) * ssym / ssxm / df)\n"
     ]
    },
    {
     "data": {
      "text/plain": [
       "LinregressResult(slope=0.07887163551697175, intercept=0.20101507310449546, rvalue=0.9477292670550389, pvalue=nan, stderr=nan)"
      ]
     },
     "execution_count": 195,
     "metadata": {},
     "output_type": "execute_result"
    }
   ],
   "source": [
    "linregress(np.column_stack(linspace(0,10,11)), np.column_stack(salary_mean_norm[\"Total Salary Paid\"]))"
   ]
  },
  {
   "cell_type": "code",
   "execution_count": 178,
   "metadata": {},
   "outputs": [
    {
     "data": {
      "text/plain": [
       "array([[ 0.,  1.,  2.,  3.,  4.,  5.,  6.,  7.,  8.,  9., 10.]])"
      ]
     },
     "execution_count": 178,
     "metadata": {},
     "output_type": "execute_result"
    }
   ],
   "source": [
    "np.column_stack(linspace(0,10,11))"
   ]
  },
  {
   "cell_type": "code",
   "execution_count": 179,
   "metadata": {},
   "outputs": [
    {
     "data": {
      "text/plain": [
       "(11, 1)"
      ]
     },
     "execution_count": 179,
     "metadata": {},
     "output_type": "execute_result"
    }
   ],
   "source": [
    "salary_mean.shape"
   ]
  },
  {
   "cell_type": "code",
   "execution_count": 197,
   "metadata": {},
   "outputs": [
    {
     "data": {
      "text/plain": [
       "array([[39314.82906565, 45896.4623022 , 48360.71741126, 48311.35551131,\n",
       "        47868.01153203, 50465.34623521, 51707.09528695, 52524.66760504,\n",
       "        53306.32709834, 55738.68204296, 57397.95954074]])"
      ]
     },
     "execution_count": 197,
     "metadata": {},
     "output_type": "execute_result"
    }
   ],
   "source": [
    "np.column_stack(salary_mean[\"Total Salary Paid\"])"
   ]
  },
  {
   "cell_type": "code",
   "execution_count": 198,
   "metadata": {},
   "outputs": [
    {
     "name": "stderr",
     "output_type": "stream",
     "text": [
      "/anaconda3/lib/python3.6/site-packages/scipy/stats/_stats_mstats_common.py:117: RuntimeWarning: invalid value encountered in sqrt\n",
      "  t = r * np.sqrt(df / ((1.0 - r + TINY)*(1.0 + r + TINY)))\n",
      "/anaconda3/lib/python3.6/site-packages/scipy/stats/_stats_mstats_common.py:119: RuntimeWarning: invalid value encountered in sqrt\n",
      "  sterrest = np.sqrt((1 - r**2) * ssym / ssxm / df)\n"
     ]
    },
    {
     "data": {
      "text/plain": [
       "LinregressResult(slope=0.07887163551697175, intercept=0.20101507310449546, rvalue=0.9477292670550389, pvalue=nan, stderr=nan)"
      ]
     },
     "execution_count": 198,
     "metadata": {},
     "output_type": "execute_result"
    }
   ],
   "source": [
    "linregress(np.column_stack(linspace(0,10,11)), np.column_stack(salary_mean_norm[\"Total Salary Paid\"]))"
   ]
  },
  {
   "cell_type": "code",
   "execution_count": 199,
   "metadata": {},
   "outputs": [
    {
     "data": {
      "text/plain": [
       "array([[ 0.,  1.,  2.,  3.,  4.,  5.,  6.,  7.,  8.,  9., 10.]])"
      ]
     },
     "execution_count": 199,
     "metadata": {},
     "output_type": "execute_result"
    }
   ],
   "source": [
    "np.column_stack(linspace(0,10,11))"
   ]
  },
  {
   "cell_type": "code",
   "execution_count": 200,
   "metadata": {},
   "outputs": [
    {
     "data": {
      "text/plain": [
       "array([[0.        , 0.36396537, 0.50023907, 0.49750935, 0.47299235,\n",
       "        0.61662538, 0.6852943 , 0.73050618, 0.77373207, 0.90824169,\n",
       "        1.        ]])"
      ]
     },
     "execution_count": 200,
     "metadata": {},
     "output_type": "execute_result"
    }
   ],
   "source": [
    "np.column_stack(salary_mean_norm[\"Total Salary Paid\"])"
   ]
  },
  {
   "cell_type": "code",
   "execution_count": 208,
   "metadata": {},
   "outputs": [
    {
     "ename": "TypeError",
     "evalue": "column_stack() takes 1 positional argument but 3 were given",
     "output_type": "error",
     "traceback": [
      "\u001b[0;31m---------------------------------------------------------------------------\u001b[0m",
      "\u001b[0;31mTypeError\u001b[0m                                 Traceback (most recent call last)",
      "\u001b[0;32m<ipython-input-208-e98d323ee10a>\u001b[0m in \u001b[0;36m<module>\u001b[0;34m()\u001b[0m\n\u001b[0;32m----> 1\u001b[0;31m \u001b[0mlinregress\u001b[0m\u001b[0;34m(\u001b[0m\u001b[0mnp\u001b[0m\u001b[0;34m.\u001b[0m\u001b[0mcolumn_stack\u001b[0m\u001b[0;34m(\u001b[0m\u001b[0;36m0\u001b[0m\u001b[0;34m,\u001b[0m \u001b[0;36m10\u001b[0m\u001b[0;34m,\u001b[0m \u001b[0;36m11\u001b[0m\u001b[0;34m)\u001b[0m\u001b[0;34m,\u001b[0m \u001b[0mnp\u001b[0m\u001b[0;34m.\u001b[0m\u001b[0mcolumn_stack\u001b[0m\u001b[0;34m(\u001b[0m\u001b[0minflation_norm\u001b[0m\u001b[0;34m[\u001b[0m\u001b[0;34m\"Inflation Rate\"\u001b[0m\u001b[0;34m]\u001b[0m\u001b[0;34m.\u001b[0m\u001b[0mvalues\u001b[0m\u001b[0;34m)\u001b[0m\u001b[0;34m)\u001b[0m\u001b[0;34m\u001b[0m\u001b[0m\n\u001b[0m",
      "\u001b[0;31mTypeError\u001b[0m: column_stack() takes 1 positional argument but 3 were given"
     ]
    }
   ],
   "source": [
    "linregress(np.column_stack(0, 10, 11), np.column_stack(inflation_norm[\"Inflation Rate\"].values))"
   ]
  },
  {
   "cell_type": "code",
   "execution_count": 214,
   "metadata": {},
   "outputs": [
    {
     "data": {
      "text/plain": [
       "[<matplotlib.lines.Line2D at 0x1a3fc63128>]"
      ]
     },
     "execution_count": 214,
     "metadata": {},
     "output_type": "execute_result"
    },
    {
     "data": {
      "image/png": "[encoded data removed]",
      "text/plain": [
       "<matplotlib.figure.Figure at 0x1a3fe318d0>"
      ]
     },
     "metadata": {},
     "output_type": "display_data"
    }
   ],
   "source": [
    "plt.plot(inflation_rate_norm[\"Inflation Rate\"])"
   ]
  },
  {
   "cell_type": "code",
   "execution_count": 216,
   "metadata": {
    "scrolled": true
   },
   "outputs": [
    {
     "name": "stderr",
     "output_type": "stream",
     "text": [
      "/anaconda3/lib/python3.6/site-packages/scipy/stats/_stats_mstats_common.py:117: RuntimeWarning: invalid value encountered in sqrt\n",
      "  t = r * np.sqrt(df / ((1.0 - r + TINY)*(1.0 + r + TINY)))\n",
      "/anaconda3/lib/python3.6/site-packages/scipy/stats/_stats_mstats_common.py:119: RuntimeWarning: invalid value encountered in sqrt\n",
      "  sterrest = np.sqrt((1 - r**2) * ssym / ssxm / df)\n"
     ]
    },
    {
     "data": {
      "text/plain": [
       "LinregressResult(slope=0.07887163551697175, intercept=0.20101507310449546, rvalue=0.9477292670550389, pvalue=nan, stderr=nan)"
      ]
     },
     "execution_count": 216,
     "metadata": {},
     "output_type": "execute_result"
    }
   ],
   "source": [
    "linregress(np.column_stack(linspace(0,10,11)), np.column_stack(salary_mean_norm[\"Total Salary Paid\"]))"
   ]
  },
  {
   "cell_type": "code",
   "execution_count": 217,
   "metadata": {},
   "outputs": [
    {
     "data": {
      "text/plain": [
       "Fiscal Year\n",
       "2007-01-01    0.000000\n",
       "2008-01-01    0.363965\n",
       "2009-01-01    0.500239\n",
       "2010-01-01    0.497509\n",
       "2011-01-01    0.472992\n",
       "2012-01-01    0.616625\n",
       "2013-01-01    0.685294\n",
       "2014-01-01    0.730506\n",
       "2015-01-01    0.773732\n",
       "2016-01-01    0.908242\n",
       "2017-01-01    1.000000\n",
       "Name: Total Salary Paid, dtype: float64"
      ]
     },
     "execution_count": 217,
     "metadata": {},
     "output_type": "execute_result"
    }
   ],
   "source": [
    "salary_mean_norm[\"Total Salary Paid\"]"
   ]
  },
  {
   "cell_type": "code",
   "execution_count": 218,
   "metadata": {},
   "outputs": [
    {
     "data": {
      "text/plain": [
       "array([ 0.,  1.,  2.,  3.,  4.,  5.,  6.,  7.,  8.,  9., 10.])"
      ]
     },
     "execution_count": 218,
     "metadata": {},
     "output_type": "execute_result"
    }
   ],
   "source": [
    "linspace(0,10,11)"
   ]
  },
  {
   "cell_type": "code",
   "execution_count": 219,
   "metadata": {},
   "outputs": [
    {
     "data": {
      "text/plain": [
       "Fiscal Year\n",
       "2007-01-01    1.000000\n",
       "2008-01-01    1.000000\n",
       "2009-01-01    0.538462\n",
       "2010-01-01    0.000000\n",
       "2011-01-01    0.538462\n",
       "2012-01-01    0.846154\n",
       "2013-01-01    0.615385\n",
       "2014-01-01    0.538462\n",
       "2015-01-01    0.615385\n",
       "2016-01-01    0.923077\n",
       "2017-01-01    0.615385\n",
       "Name: Inflation Rate, dtype: float64"
      ]
     },
     "execution_count": 219,
     "metadata": {},
     "output_type": "execute_result"
    }
   ],
   "source": [
    "inflation_rate_norm[\"Inflation Rate\"]"
   ]
  },
  {
   "cell_type": "code",
   "execution_count": null,
   "metadata": {},
   "outputs": [],
   "source": []
  },
  {
   "cell_type": "code",
   "execution_count": null,
   "metadata": {},
   "outputs": [],
   "source": []
  },
  {
   "cell_type": "code",
   "execution_count": null,
   "metadata": {},
   "outputs": [],
   "source": []
  }
 ],
 "metadata": {
  "kernelspec": {
   "display_name": "Python 3",
   "language": "python",
   "name": "python3"
  },
  "language_info": {
   "codemirror_mode": {
    "name": "ipython",
    "version": 3
   },
   "file_extension": ".py",
   "mimetype": "text/x-python",
   "name": "python",
   "nbconvert_exporter": "python",
   "pygments_lexer": "ipython3",
   "version": "3.6.4"
  }
 },
 "nbformat": 4,
 "nbformat_minor": 2
}
