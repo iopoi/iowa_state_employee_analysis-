{
 "cells": [
  {
   "cell_type": "code",
   "execution_count": 1,
   "metadata": {},
   "outputs": [],
   "source": [
    "import math\n",
    "import numpy as np\n",
    "import pandas as pd\n",
    "from collections import Counter\n",
    "import matplotlib.pyplot as plt\n",
    "from scipy import stats\n",
    "%matplotlib inline"
   ]
  },
  {
   "cell_type": "code",
   "execution_count": 2,
   "metadata": {},
   "outputs": [],
   "source": [
    "path = \"State_of_Iowa_Salary_Book.csv\""
   ]
  },
  {
   "cell_type": "code",
   "execution_count": 3,
   "metadata": {},
   "outputs": [],
   "source": [
    "def money_to_float(x):\n",
    "    try:\n",
    "        if type(x) == float:\n",
    "            return x\n",
    "        return float(x.strip('$'))\n",
    "    except ValueError:\n",
    "        return float('nan')\n",
    "\n",
    "def base_salary_to_float(x):\n",
    "    try:\n",
    "        if type(x) == float and math.isnan(x):\n",
    "            return (None, float('nan'))\n",
    "        elif type(x) == float:\n",
    "            return (None, x)\n",
    "        x = x.strip(\" \")\n",
    "        if x == \"\":\n",
    "            return (None, float('nan'))\n",
    "        elif x == \"TERMINATED\":\n",
    "            return (\"TERMINATED\", float('nan'))\n",
    "        elif x == \"Terminated\":\n",
    "            return (\"Terminated\", float('nan'))\n",
    "        elif x == \"-0-\":\n",
    "            return (\"-0-\", float('nan'))\n",
    "        elif x == \"ON LEAVE\":\n",
    "            return (\"ON LEAVE\", float('nan'))\n",
    "        elif x == \"nan\":\n",
    "            return (None, float('nan'))\n",
    "        elif x == float(\"nan\"):\n",
    "            return (None, float('nan'))\n",
    "        else:\n",
    "            s = x.replace('/', \" \").split(' ')\n",
    "            if len(s) < 2:\n",
    "                return (None, float(s[0].strip('$').replace(',', \"\")))\n",
    "            return (s[1], float(s[0].strip('$').replace(',', \"\")))\n",
    "    except:\n",
    "        # this is to show rows that failed the parsing\n",
    "        print(\"<-\"+x+\"->\", type(x))"
   ]
  },
  {
   "cell_type": "code",
   "execution_count": 4,
   "metadata": {
    "scrolled": true
   },
   "outputs": [
    {
     "name": "stdout",
     "output_type": "stream",
     "text": [
      "<-HR-> <class 'str'>\n",
      "<-YR-> <class 'str'>\n",
      "<-20.12HR-> <class 'str'>\n",
      "<-262.99DA-> <class 'str'>\n"
     ]
    },
    {
     "data": {
      "text/plain": [
       "0               (HR, 31.62)\n",
       "1         (TERMINATED, nan)\n",
       "2              (BW, 2212.8)\n",
       "3              (BW, 1226.4)\n",
       "4         (TERMINATED, nan)\n",
       "5         (TERMINATED, nan)\n",
       "6         (TERMINATED, nan)\n",
       "7         (TERMINATED, nan)\n",
       "8              (BW, 2194.4)\n",
       "9         (TERMINATED, nan)\n",
       "10        (TERMINATED, nan)\n",
       "11        (TERMINATED, nan)\n",
       "12             (BW, 3375.2)\n",
       "13        (TERMINATED, nan)\n",
       "14        (TERMINATED, nan)\n",
       "15             (BW, 3349.6)\n",
       "16           (YR, 144200.0)\n",
       "17             (BW, 1237.6)\n",
       "18             (BW, 2908.8)\n",
       "19             (BW, 3193.6)\n",
       "20        (TERMINATED, nan)\n",
       "21             (BW, 1598.4)\n",
       "22        (TERMINATED, nan)\n",
       "23        (TERMINATED, nan)\n",
       "24        (TERMINATED, nan)\n",
       "25        (TERMINATED, nan)\n",
       "26             (BW, 1180.8)\n",
       "27             (BW, 3087.2)\n",
       "28             (BW, 1437.6)\n",
       "29             (BW, 4792.0)\n",
       "                ...        \n",
       "665295          (HR, 23.91)\n",
       "665296        (HR, 25629.0)\n",
       "665297          (HR, 22.88)\n",
       "665298    (TERMINATED, nan)\n",
       "665299          (HR, 16.83)\n",
       "665300        (YR, 70158.0)\n",
       "665301          (HR, 17.56)\n",
       "665302        (YR, 53638.0)\n",
       "665303    (TERMINATED, nan)\n",
       "665304          (HR, 16.83)\n",
       "665305          (HR, 16.83)\n",
       "665306        (YR, 81255.0)\n",
       "665307        (YR, 87138.0)\n",
       "665308        (YR, 72101.0)\n",
       "665309          (HR, 16.83)\n",
       "665310          (HR, 16.83)\n",
       "665311          (HR, 16.83)\n",
       "665312        (YR, 59663.0)\n",
       "665313        (YR, 58609.0)\n",
       "665314          (HR, 20.45)\n",
       "665315          (HR, 21.44)\n",
       "665316    (TERMINATED, nan)\n",
       "665317        (YR, 66690.0)\n",
       "665318           (HR, 9.55)\n",
       "665319          (HR, 16.83)\n",
       "665320          (HR, 32.41)\n",
       "665321        (YR, 81255.0)\n",
       "665322          (HR, 20.95)\n",
       "665323          (HR, 18.75)\n",
       "665324          (HR, 16.83)\n",
       "Name: Base Salary, Length: 665325, dtype: object"
      ]
     },
     "execution_count": 4,
     "metadata": {},
     "output_type": "execute_result"
    }
   ],
   "source": [
    "# read csv\n",
    "data = pd.read_csv(path, parse_dates=[0,8], converters={'Total Salary Paid': money_to_float, 'Base Salary': base_salary_to_float, 'Travel & Subsistence': money_to_float})\n",
    "# split Base Salary tuple into two columns\n",
    "base_salary_parsed = data[\"Base Salary\"].apply(pd.Series).rename(columns={0:'Base Salary Payment Method', 1:'Base Salary Payment Amount'})\n",
    "data.insert(8, 'Base Salary Payment Method', base_salary_parsed['Base Salary Payment Method'])\n",
    "data.insert(9, 'Base Salary Payment Amount', base_salary_parsed['Base Salary Payment Amount'])\n",
    "# delete Base Salary tuple column\n",
    "data.pop(\"Base Salary\")"
   ]
  },
  {
   "cell_type": "code",
   "execution_count": 5,
   "metadata": {
    "scrolled": false
   },
   "outputs": [
    {
     "name": "stdout",
     "output_type": "stream",
     "text": [
      "['HR' 'TERMINATED' 'BW' 'YR' 'DA' nan '893.00' 'DAILY' 'AN' 'ON LEAVE'\n",
      " '-0-' 'HRLY' 'BM' 'PW' '' 'Terminated']\n"
     ]
    }
   ],
   "source": [
    "# shows the unique payment types\n",
    "print(data[\"Base Salary Payment Method\"].unique())\n",
    "\n",
    "# function to estimate hourly wages and hours worked, \n",
    "def hourly_estimates(x):\n",
    "    # dictionary containing conversions of method to number of hours\n",
    "    method_to_hour_estimate = {'HR': 1, 'BW': 80, 'YR': 2000, 'DA': 8, 'DAILY': 8, \n",
    "                               'AN': 2000, 'HRLY': 1, 'BM': 333.33, 'PW': 40}\n",
    "    # get data from row\n",
    "    method, amount_per_method, total = x[\"Base Salary Payment Method\"], x[\"Base Salary Payment Amount\"], x[\"Total Salary Paid\"]\n",
    "    # calc hourly wage and hours worked\n",
    "    try:\n",
    "        hourly_wage_estimate = amount_per_method / method_to_hour_estimate.get(method, np.nan) # if the dict does not have a conversion the default is NaN\n",
    "        hours_worked_estimate = total/hourly_wage_estimate\n",
    "    except ZeroDivisionError:\n",
    "        hourly_wage_estimate = np.nan\n",
    "        hours_worked_estimate = np.nan\n",
    "    # return tuple\n",
    "    return hourly_wage_estimate, hours_worked_estimate\n",
    "# hours_parsed is a dataframe containing all of the hourly estimates\n",
    "hour_parsed = data[[\"Base Salary Payment Method\", \"Base Salary Payment Amount\", \"Total Salary Paid\"]] \\\n",
    "                    .apply(hourly_estimates, axis=1).apply(pd.Series).rename(columns={0:'Hourly Wage Estimate', 1:'Hours Worked Estimate'})  # axis one means that you apply the function on the row instead of the column\n",
    "# if you were to do x.values it would give you the values of the complete row\n",
    "data.insert(11, 'Hourly Wage Estimate', hour_parsed['Hourly Wage Estimate'])\n",
    "data.insert(12, 'Hours Worked Estimate', hour_parsed['Hours Worked Estimate'])"
   ]
  },
  {
   "cell_type": "markdown",
   "metadata": {},
   "source": [
    "## Main Dataframe created"
   ]
  },
  {
   "cell_type": "markdown",
   "metadata": {},
   "source": [
    "### Inflation test with relation to the 2008 stock market crash"
   ]
  },
  {
   "cell_type": "code",
   "execution_count": 6,
   "metadata": {},
   "outputs": [],
   "source": [
    "# Salary calculations\n",
    "salary_mean = pd.DataFrame(data.groupby([\"Fiscal Year\"])[\"Total Salary Paid\"].mean())\n",
    "salary_increase = salary_mean.diff()/salary_mean\n",
    "salary_increase_change = salary_increase.diff()\n",
    "\n",
    "salary_mean_norm = (salary_mean-salary_mean.min())/(salary_mean.max()-salary_mean.min())\n",
    "salary_increase_norm = (salary_increase-salary_increase.min())/(salary_increase.max()-salary_increase.min())\n",
    "salary_increase_change_norm = (salary_increase_change-salary_increase_change.min())/(salary_increase_change.max()-salary_increase_change.min())"
   ]
  },
  {
   "cell_type": "code",
   "execution_count": 7,
   "metadata": {},
   "outputs": [],
   "source": [
    "# Inflation calculations\n",
    "inflation_rate_tuples = [(\"2007\",2.3), (\"2008\",2.3), (\"2009\",1.7), (\"2010\",1.0), (\"2011\",1.7),\n",
    "           (\"2012\",2.1), (\"2013\",1.8), (\"2014\",1.7), (\"2015\",1.8), (\"2016\",2.2), (\"2017\",1.8)]\n",
    "inflation_rate = pd.DataFrame(inflation_rate_tuples)\n",
    "inflation_rate.insert(0, 2, pd.to_datetime(pd.DataFrame(inflation_rate_tuples)[0], format='%Y'))\n",
    "inflation_rate.pop(0)\n",
    "inflation_rate = inflation_rate.rename({2:\"Fiscal Year\", 1: \"Inflation Rate\"}, axis=1)\n",
    "inflation_rate = inflation_rate.set_index(\"Fiscal Year\")\n",
    "inflation_rate = inflation_rate/100\n",
    "\n",
    "inflation = (inflation_rate+1).cumprod()\n",
    "# inflation_rate\n",
    "inflation_rate_change = inflation_rate.diff()\n",
    "\n",
    "inflation_norm = (inflation-inflation.min())/(inflation.max()-inflation.min())\n",
    "inflation_rate_norm = (inflation_rate-inflation_rate.min())/(inflation_rate.max()-inflation_rate.min())\n",
    "inflation_rate_change_norm = (inflation_rate_change-inflation_rate_change.min())/(inflation_rate_change.max()-inflation_rate_change.min())"
   ]
  },
  {
   "cell_type": "code",
   "execution_count": 53,
   "metadata": {},
   "outputs": [
    {
     "name": "stdout",
     "output_type": "stream",
     "text": [
      "Ks_2sampResult(statistic=0.36363636363636365, pvalue=0.3743691294470314)\n"
     ]
    },
    {
     "data": {
      "image/png": "[encoded data removed]",
      "text/plain": [
       "<matplotlib.figure.Figure at 0x1a312631d0>"
      ]
     },
     "metadata": {},
     "output_type": "display_data"
    },
    {
     "name": "stdout",
     "output_type": "stream",
     "text": [
      "Ks_2sampResult(statistic=0.8, pvalue=0.0012162112998959323)\n"
     ]
    },
    {
     "data": {
      "image/png": "[encoded data removed]",
      "text/plain": [
       "<matplotlib.figure.Figure at 0x1a3113f400>"
      ]
     },
     "metadata": {},
     "output_type": "display_data"
    },
    {
     "name": "stdout",
     "output_type": "stream",
     "text": [
      "Ks_2sampResult(statistic=0.22222222222222227, pvalue=0.9574745441329627)\n"
     ]
    },
    {
     "data": {
      "image/png": "[encoded data removed]",
      "text/plain": [
       "<matplotlib.figure.Figure at 0x1a31880470>"
      ]
     },
     "metadata": {},
     "output_type": "display_data"
    }
   ],
   "source": [
    "r = stats.ks_2samp(salary_mean_norm[\"Total Salary Paid\"], inflation_norm[\"Inflation Rate\"])\n",
    "print(r)\n",
    "plt.plot(salary_mean_norm)\n",
    "plt.plot(inflation_norm)\n",
    "plt.legend([\"salary_mean_norm\", \"inflation_norm\"])\n",
    "plt.show()\n",
    "\n",
    "r = stats.ks_2samp(salary_increase_norm[1:][\"Total Salary Paid\"], inflation_rate_norm[1:][\"Inflation Rate\"])\n",
    "print(r)\n",
    "plt.plot(salary_increase_norm[1:])\n",
    "plt.plot(inflation_rate_norm[1:])\n",
    "plt.legend([\"salary_increase_norm\", \"inflation_rate_norm\"])\n",
    "plt.show()\n",
    "\n",
    "r = stats.ks_2samp(salary_increase_change_norm[2:][\"Total Salary Paid\"], inflation_rate_change_norm[2:][\"Inflation Rate\"])\n",
    "print(r)\n",
    "plt.plot(salary_increase_change_norm[2:])\n",
    "plt.plot(inflation_rate_change_norm[2:])\n",
    "plt.legend([\"salary_increase_change_norm\", \"inflation_rate_change_norm\"])\n",
    "plt.show()"
   ]
  },
  {
   "cell_type": "markdown",
   "metadata": {},
   "source": [
    "These plots show that total inflation moves with total salary over time. Also that the change in inflation rate moves with the change of salary increases."
   ]
  },
  {
   "cell_type": "code",
   "execution_count": null,
   "metadata": {},
   "outputs": [],
   "source": []
  },
  {
   "cell_type": "code",
   "execution_count": null,
   "metadata": {},
   "outputs": [],
   "source": []
  },
  {
   "cell_type": "code",
   "execution_count": null,
   "metadata": {},
   "outputs": [],
   "source": []
  },
  {
   "cell_type": "code",
   "execution_count": null,
   "metadata": {},
   "outputs": [],
   "source": []
  },
  {
   "cell_type": "code",
   "execution_count": 14,
   "metadata": {},
   "outputs": [],
   "source": [
    "inflation_rate = pd.DataFrame(inflation_rate_tuples)\n",
    "inflation_rate.insert(0, 2, pd.to_datetime(pd.DataFrame(inflation_rate_tuples)[0], format='%Y'))\n",
    "inflation_rate.pop(0)\n",
    "inflation_rate = inflation_rate.rename({2:\"Fiscal Year\", 1: \"Inflation Rate\"}, axis=1)\n",
    "inflation_rate = inflation_rate.set_index(\"Fiscal Year\")\n",
    "inflation_rate = inflation_rate/100\n",
    "\n",
    "inflation = (inflation_rate+1).cumprod()\n",
    "# inflation_rate\n",
    "inflation_rate_change = inflation_rate.diff()\n",
    "\n",
    "inflation_norm = (inflation-inflation.min())/(inflation.max()-inflation.min())\n",
    "inflation_rate_norm = (inflation_rate-inflation_rate.min())/(inflation_rate.max()-inflation_rate.min())\n",
    "inflation_rate_change_norm = (inflation_rate_change-inflation_rate_change.min())/(inflation_rate_change.max()-inflation_rate_change.min())"
   ]
  },
  {
   "cell_type": "code",
   "execution_count": 15,
   "metadata": {},
   "outputs": [
    {
     "data": {
      "text/plain": [
       "0    2007-01-01\n",
       "1    2008-01-01\n",
       "2    2009-01-01\n",
       "3    2010-01-01\n",
       "4    2011-01-01\n",
       "5    2012-01-01\n",
       "6    2013-01-01\n",
       "7    2014-01-01\n",
       "8    2015-01-01\n",
       "9    2016-01-01\n",
       "10   2017-01-01\n",
       "Name: 0, dtype: datetime64[ns]"
      ]
     },
     "execution_count": 15,
     "metadata": {},
     "output_type": "execute_result"
    }
   ],
   "source": [
    "pd.to_datetime(pd.DataFrame(inflation_rate_tuples)[0], format='%Y')"
   ]
  },
  {
   "cell_type": "code",
   "execution_count": null,
   "metadata": {},
   "outputs": [],
   "source": []
  },
  {
   "cell_type": "code",
   "execution_count": 16,
   "metadata": {},
   "outputs": [],
   "source": [
    "inflation_norm = (inflation-inflation.min())/(inflation.max()-inflation.min())"
   ]
  },
  {
   "cell_type": "code",
   "execution_count": 17,
   "metadata": {},
   "outputs": [
    {
     "data": {
      "text/html": [
       "<div>\n",
       "<style scoped>\n",
       "    .dataframe tbody tr th:only-of-type {\n",
       "        vertical-align: middle;\n",
       "    }\n",
       "\n",
       "    .dataframe tbody tr th {\n",
       "        vertical-align: top;\n",
       "    }\n",
       "\n",
       "    .dataframe thead th {\n",
       "        text-align: right;\n",
       "    }\n",
       "</style>\n",
       "<table border=\"1\" class=\"dataframe\">\n",
       "  <thead>\n",
       "    <tr style=\"text-align: right;\">\n",
       "      <th></th>\n",
       "      <th>Inflation Rate</th>\n",
       "    </tr>\n",
       "    <tr>\n",
       "      <th>Fiscal Year</th>\n",
       "      <th></th>\n",
       "    </tr>\n",
       "  </thead>\n",
       "  <tbody>\n",
       "    <tr>\n",
       "      <th>2007-01-01</th>\n",
       "      <td>0.000000</td>\n",
       "    </tr>\n",
       "    <tr>\n",
       "      <th>2008-01-01</th>\n",
       "      <td>0.117102</td>\n",
       "    </tr>\n",
       "    <tr>\n",
       "      <th>2009-01-01</th>\n",
       "      <td>0.205647</td>\n",
       "    </tr>\n",
       "    <tr>\n",
       "      <th>2010-01-01</th>\n",
       "      <td>0.258617</td>\n",
       "    </tr>\n",
       "    <tr>\n",
       "      <th>2011-01-01</th>\n",
       "      <td>0.349568</td>\n",
       "    </tr>\n",
       "    <tr>\n",
       "      <th>2012-01-01</th>\n",
       "      <td>0.463828</td>\n",
       "    </tr>\n",
       "    <tr>\n",
       "      <th>2013-01-01</th>\n",
       "      <td>0.563822</td>\n",
       "    </tr>\n",
       "    <tr>\n",
       "      <th>2014-01-01</th>\n",
       "      <td>0.659961</td>\n",
       "    </tr>\n",
       "    <tr>\n",
       "      <th>2015-01-01</th>\n",
       "      <td>0.763486</td>\n",
       "    </tr>\n",
       "    <tr>\n",
       "      <th>2016-01-01</th>\n",
       "      <td>0.892293</td>\n",
       "    </tr>\n",
       "    <tr>\n",
       "      <th>2017-01-01</th>\n",
       "      <td>1.000000</td>\n",
       "    </tr>\n",
       "  </tbody>\n",
       "</table>\n",
       "</div>"
      ],
      "text/plain": [
       "             Inflation Rate\n",
       "Fiscal Year                \n",
       "2007-01-01         0.000000\n",
       "2008-01-01         0.117102\n",
       "2009-01-01         0.205647\n",
       "2010-01-01         0.258617\n",
       "2011-01-01         0.349568\n",
       "2012-01-01         0.463828\n",
       "2013-01-01         0.563822\n",
       "2014-01-01         0.659961\n",
       "2015-01-01         0.763486\n",
       "2016-01-01         0.892293\n",
       "2017-01-01         1.000000"
      ]
     },
     "execution_count": 17,
     "metadata": {},
     "output_type": "execute_result"
    }
   ],
   "source": [
    "inflation_norm"
   ]
  },
  {
   "cell_type": "code",
   "execution_count": 18,
   "metadata": {},
   "outputs": [
    {
     "data": {
      "text/html": [
       "<div>\n",
       "<style scoped>\n",
       "    .dataframe tbody tr th:only-of-type {\n",
       "        vertical-align: middle;\n",
       "    }\n",
       "\n",
       "    .dataframe tbody tr th {\n",
       "        vertical-align: top;\n",
       "    }\n",
       "\n",
       "    .dataframe thead th {\n",
       "        text-align: right;\n",
       "    }\n",
       "</style>\n",
       "<table border=\"1\" class=\"dataframe\">\n",
       "  <thead>\n",
       "    <tr style=\"text-align: right;\">\n",
       "      <th></th>\n",
       "      <th>Total Salary Paid</th>\n",
       "    </tr>\n",
       "    <tr>\n",
       "      <th>Fiscal Year</th>\n",
       "      <th></th>\n",
       "    </tr>\n",
       "  </thead>\n",
       "  <tbody>\n",
       "    <tr>\n",
       "      <th>2007-01-01</th>\n",
       "      <td>NaN</td>\n",
       "    </tr>\n",
       "    <tr>\n",
       "      <th>2008-01-01</th>\n",
       "      <td>0.143402</td>\n",
       "    </tr>\n",
       "    <tr>\n",
       "      <th>2009-01-01</th>\n",
       "      <td>0.050956</td>\n",
       "    </tr>\n",
       "    <tr>\n",
       "      <th>2010-01-01</th>\n",
       "      <td>-0.001022</td>\n",
       "    </tr>\n",
       "    <tr>\n",
       "      <th>2011-01-01</th>\n",
       "      <td>-0.009262</td>\n",
       "    </tr>\n",
       "    <tr>\n",
       "      <th>2012-01-01</th>\n",
       "      <td>0.051468</td>\n",
       "    </tr>\n",
       "    <tr>\n",
       "      <th>2013-01-01</th>\n",
       "      <td>0.024015</td>\n",
       "    </tr>\n",
       "    <tr>\n",
       "      <th>2014-01-01</th>\n",
       "      <td>0.015565</td>\n",
       "    </tr>\n",
       "    <tr>\n",
       "      <th>2015-01-01</th>\n",
       "      <td>0.014664</td>\n",
       "    </tr>\n",
       "    <tr>\n",
       "      <th>2016-01-01</th>\n",
       "      <td>0.043639</td>\n",
       "    </tr>\n",
       "    <tr>\n",
       "      <th>2017-01-01</th>\n",
       "      <td>0.028908</td>\n",
       "    </tr>\n",
       "  </tbody>\n",
       "</table>\n",
       "</div>"
      ],
      "text/plain": [
       "             Total Salary Paid\n",
       "Fiscal Year                   \n",
       "2007-01-01                 NaN\n",
       "2008-01-01            0.143402\n",
       "2009-01-01            0.050956\n",
       "2010-01-01           -0.001022\n",
       "2011-01-01           -0.009262\n",
       "2012-01-01            0.051468\n",
       "2013-01-01            0.024015\n",
       "2014-01-01            0.015565\n",
       "2015-01-01            0.014664\n",
       "2016-01-01            0.043639\n",
       "2017-01-01            0.028908"
      ]
     },
     "execution_count": 18,
     "metadata": {},
     "output_type": "execute_result"
    }
   ],
   "source": [
    "salary_increase"
   ]
  },
  {
   "cell_type": "code",
   "execution_count": 19,
   "metadata": {},
   "outputs": [
    {
     "data": {
      "text/plain": [
       "[<matplotlib.lines.Line2D at 0x1a8583c470>]"
      ]
     },
     "execution_count": 19,
     "metadata": {},
     "output_type": "execute_result"
    },
    {
     "data": {
      "image/png": "[encoded data removed]",
      "text/plain": [
       "<matplotlib.figure.Figure at 0x1a75b88da0>"
      ]
     },
     "metadata": {},
     "output_type": "display_data"
    }
   ],
   "source": [
    "plt.plot(salary_increase)"
   ]
  },
  {
   "cell_type": "code",
   "execution_count": 20,
   "metadata": {
    "scrolled": false
   },
   "outputs": [
    {
     "data": {
      "text/plain": [
       "[<matplotlib.lines.Line2D at 0x1aa3858be0>]"
      ]
     },
     "execution_count": 20,
     "metadata": {},
     "output_type": "execute_result"
    },
    {
     "data": {
      "image/png": "[encoded data removed]",
      "text/plain": [
       "<matplotlib.figure.Figure at 0x1aa401c390>"
      ]
     },
     "metadata": {},
     "output_type": "display_data"
    }
   ],
   "source": [
    "plt.plot(inflation_rate)"
   ]
  },
  {
   "cell_type": "code",
   "execution_count": 21,
   "metadata": {
    "scrolled": true
   },
   "outputs": [
    {
     "data": {
      "image/png": "[encoded data removed]",
      "text/plain": [
       "<matplotlib.figure.Figure at 0x1aa585e860>"
      ]
     },
     "metadata": {},
     "output_type": "display_data"
    }
   ],
   "source": [
    "plt.plot(salary_increase)\n",
    "plt.plot(inflation_rate)\n",
    "plt.show()"
   ]
  },
  {
   "cell_type": "code",
   "execution_count": 22,
   "metadata": {},
   "outputs": [],
   "source": [
    "inflation_rate_norm = (inflation_rate-inflation_rate.min())/(inflation_rate.max()-inflation_rate.min())"
   ]
  },
  {
   "cell_type": "code",
   "execution_count": 23,
   "metadata": {},
   "outputs": [],
   "source": [
    "salary_increase_norm = (salary_increase-salary_increase.min())/(salary_increase.max()-salary_increase.min())"
   ]
  },
  {
   "cell_type": "code",
   "execution_count": 24,
   "metadata": {},
   "outputs": [
    {
     "data": {
      "image/png": "[encoded data removed]",
      "text/plain": [
       "<matplotlib.figure.Figure at 0x1a31104550>"
      ]
     },
     "metadata": {},
     "output_type": "display_data"
    }
   ],
   "source": [
    "plt.plot(salary_increase_norm)\n",
    "plt.plot(inflation_rate_norm)\n",
    "plt.show()"
   ]
  },
  {
   "cell_type": "code",
   "execution_count": 25,
   "metadata": {},
   "outputs": [
    {
     "data": {
      "text/plain": [
       "Ks_2sampResult(statistic=0.8, pvalue=0.0012162112998959323)"
      ]
     },
     "execution_count": 25,
     "metadata": {},
     "output_type": "execute_result"
    }
   ],
   "source": [
    "stats.ks_2samp(salary_increase_norm[\"Total Salary Paid\"][1:], inflation_rate_norm[\"Inflation Rate\"][1:])"
   ]
  },
  {
   "cell_type": "code",
   "execution_count": 26,
   "metadata": {},
   "outputs": [
    {
     "data": {
      "image/png": "[encoded data removed]",
      "text/plain": [
       "<matplotlib.figure.Figure at 0x1a31304630>"
      ]
     },
     "metadata": {},
     "output_type": "display_data"
    }
   ],
   "source": [
    "plt.plot(salary_increase_norm[1:].diff())\n",
    "plt.plot(inflation_rate_norm[1:].diff())\n",
    "plt.show()"
   ]
  },
  {
   "cell_type": "code",
   "execution_count": 27,
   "metadata": {},
   "outputs": [
    {
     "data": {
      "text/plain": [
       "Ks_2sampResult(statistic=0.20000000000000007, pvalue=0.9747892465409951)"
      ]
     },
     "execution_count": 27,
     "metadata": {},
     "output_type": "execute_result"
    }
   ],
   "source": [
    "stats.ks_2samp(salary_increase_norm[1:].diff()[\"Total Salary Paid\"], inflation_rate_norm[1:].diff()[\"Inflation Rate\"])"
   ]
  },
  {
   "cell_type": "code",
   "execution_count": 28,
   "metadata": {},
   "outputs": [
    {
     "data": {
      "text/plain": [
       "Fiscal Year\n",
       "2007-01-01         NaN\n",
       "2008-01-01    1.000000\n",
       "2009-01-01    0.394446\n",
       "2010-01-01    0.053975\n",
       "2011-01-01    0.000000\n",
       "2012-01-01    0.397800\n",
       "2013-01-01    0.217975\n",
       "2014-01-01    0.162628\n",
       "2015-01-01    0.156719\n",
       "2016-01-01    0.346516\n",
       "2017-01-01    0.250028\n",
       "Name: Total Salary Paid, dtype: float64"
      ]
     },
     "execution_count": 28,
     "metadata": {},
     "output_type": "execute_result"
    }
   ],
   "source": [
    "salary_increase_norm[\"Total Salary Paid\"]"
   ]
  },
  {
   "cell_type": "code",
   "execution_count": 29,
   "metadata": {},
   "outputs": [
    {
     "data": {
      "text/plain": [
       "(Fiscal Year\n",
       " 2007-01-01         NaN\n",
       " 2008-01-01    1.000000\n",
       " 2009-01-01    0.394446\n",
       " 2010-01-01    0.053975\n",
       " 2011-01-01    0.000000\n",
       " 2012-01-01    0.397800\n",
       " 2013-01-01    0.217975\n",
       " 2014-01-01    0.162628\n",
       " 2015-01-01    0.156719\n",
       " 2016-01-01    0.346516\n",
       " 2017-01-01    0.250028\n",
       " Name: Total Salary Paid, dtype: float64, Fiscal Year\n",
       " 2007-01-01    1.000000\n",
       " 2008-01-01    1.000000\n",
       " 2009-01-01    0.538462\n",
       " 2010-01-01    0.000000\n",
       " 2011-01-01    0.538462\n",
       " 2012-01-01    0.846154\n",
       " 2013-01-01    0.615385\n",
       " 2014-01-01    0.538462\n",
       " 2015-01-01    0.615385\n",
       " 2016-01-01    0.923077\n",
       " 2017-01-01    0.615385\n",
       " Name: Inflation Rate, dtype: float64)"
      ]
     },
     "execution_count": 29,
     "metadata": {},
     "output_type": "execute_result"
    }
   ],
   "source": [
    "salary_increase_norm[\"Total Salary Paid\"], inflation_rate_norm[\"Inflation Rate\"]"
   ]
  },
  {
   "cell_type": "code",
   "execution_count": 30,
   "metadata": {},
   "outputs": [
    {
     "data": {
      "text/html": [
       "<div>\n",
       "<style scoped>\n",
       "    .dataframe tbody tr th:only-of-type {\n",
       "        vertical-align: middle;\n",
       "    }\n",
       "\n",
       "    .dataframe tbody tr th {\n",
       "        vertical-align: top;\n",
       "    }\n",
       "\n",
       "    .dataframe thead th {\n",
       "        text-align: right;\n",
       "    }\n",
       "</style>\n",
       "<table border=\"1\" class=\"dataframe\">\n",
       "  <thead>\n",
       "    <tr style=\"text-align: right;\">\n",
       "      <th></th>\n",
       "    </tr>\n",
       "  </thead>\n",
       "  <tbody>\n",
       "  </tbody>\n",
       "</table>\n",
       "</div>"
      ],
      "text/plain": [
       "Empty DataFrame\n",
       "Columns: []\n",
       "Index: []"
      ]
     },
     "execution_count": 30,
     "metadata": {},
     "output_type": "execute_result"
    }
   ],
   "source": [
    "pd.DataFrame()"
   ]
  },
  {
   "cell_type": "code",
   "execution_count": null,
   "metadata": {},
   "outputs": [],
   "source": []
  },
  {
   "cell_type": "code",
   "execution_count": null,
   "metadata": {},
   "outputs": [],
   "source": []
  }
 ],
 "metadata": {
  "kernelspec": {
   "display_name": "Python 3",
   "language": "python",
   "name": "python3"
  },
  "language_info": {
   "codemirror_mode": {
    "name": "ipython",
    "version": 3
   },
   "file_extension": ".py",
   "mimetype": "text/x-python",
   "name": "python",
   "nbconvert_exporter": "python",
   "pygments_lexer": "ipython3",
   "version": "3.6.4"
  }
 },
 "nbformat": 4,
 "nbformat_minor": 2
}
