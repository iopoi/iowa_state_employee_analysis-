{
 "cells": [
  {
   "cell_type": "code",
   "execution_count": 489,
   "metadata": {},
   "outputs": [],
   "source": [
    "import math\n",
    "import numpy as np\n",
    "import pandas as pd\n",
    "from collections import Counter\n",
    "import matplotlib.pyplot as plt\n",
    "# from scipy import stats\n",
    "import scipy.stats as stats\n",
    "from sklearn import linear_model\n",
    "# from scipy.stats import linregress\n",
    "%matplotlib inline"
   ]
  },
  {
   "cell_type": "code",
   "execution_count": 2,
   "metadata": {},
   "outputs": [],
   "source": [
    "path = \"State_of_Iowa_Salary_Book.csv\""
   ]
  },
  {
   "cell_type": "code",
   "execution_count": 3,
   "metadata": {},
   "outputs": [],
   "source": [
    "def money_to_float(x):\n",
    "    try:\n",
    "        if type(x) == float:\n",
    "            return x\n",
    "        return float(x.strip('$'))\n",
    "    except ValueError:\n",
    "        return float('nan')\n",
    "\n",
    "def base_salary_to_float(x):\n",
    "    try:\n",
    "        if type(x) == float and math.isnan(x):\n",
    "            return (None, float('nan'))\n",
    "        elif type(x) == float:\n",
    "            return (None, x)\n",
    "        x = x.strip(\" \")\n",
    "        if x == \"\":\n",
    "            return (None, float('nan'))\n",
    "        elif x == \"TERMINATED\":\n",
    "            return (\"TERMINATED\", float('nan'))\n",
    "        elif x == \"Terminated\":\n",
    "            return (\"Terminated\", float('nan'))\n",
    "        elif x == \"-0-\":\n",
    "            return (\"-0-\", float('nan'))\n",
    "        elif x == \"ON LEAVE\":\n",
    "            return (\"ON LEAVE\", float('nan'))\n",
    "        elif x == \"nan\":\n",
    "            return (None, float('nan'))\n",
    "        elif x == float(\"nan\"):\n",
    "            return (None, float('nan'))\n",
    "        else:\n",
    "            s = x.replace('/', \" \").split(' ')\n",
    "            if len(s) < 2:\n",
    "                return (None, float(s[0].strip('$').replace(',', \"\")))\n",
    "            return (s[1], float(s[0].strip('$').replace(',', \"\")))\n",
    "    except:\n",
    "        # this is to show rows that failed the parsing\n",
    "        print(\"<-\"+x+\"->\", type(x))"
   ]
  },
  {
   "cell_type": "code",
   "execution_count": 4,
   "metadata": {
    "scrolled": true
   },
   "outputs": [
    {
     "name": "stdout",
     "output_type": "stream",
     "text": [
      "<-HR-> <class 'str'>\n",
      "<-YR-> <class 'str'>\n",
      "<-20.12HR-> <class 'str'>\n",
      "<-262.99DA-> <class 'str'>\n"
     ]
    },
    {
     "data": {
      "text/plain": [
       "0               (HR, 31.62)\n",
       "1         (TERMINATED, nan)\n",
       "2              (BW, 2212.8)\n",
       "3              (BW, 1226.4)\n",
       "4         (TERMINATED, nan)\n",
       "5         (TERMINATED, nan)\n",
       "6         (TERMINATED, nan)\n",
       "7         (TERMINATED, nan)\n",
       "8              (BW, 2194.4)\n",
       "9         (TERMINATED, nan)\n",
       "10        (TERMINATED, nan)\n",
       "11        (TERMINATED, nan)\n",
       "12             (BW, 3375.2)\n",
       "13        (TERMINATED, nan)\n",
       "14        (TERMINATED, nan)\n",
       "15             (BW, 3349.6)\n",
       "16           (YR, 144200.0)\n",
       "17             (BW, 1237.6)\n",
       "18             (BW, 2908.8)\n",
       "19             (BW, 3193.6)\n",
       "20        (TERMINATED, nan)\n",
       "21             (BW, 1598.4)\n",
       "22        (TERMINATED, nan)\n",
       "23        (TERMINATED, nan)\n",
       "24        (TERMINATED, nan)\n",
       "25        (TERMINATED, nan)\n",
       "26             (BW, 1180.8)\n",
       "27             (BW, 3087.2)\n",
       "28             (BW, 1437.6)\n",
       "29             (BW, 4792.0)\n",
       "                ...        \n",
       "665295          (HR, 23.91)\n",
       "665296        (HR, 25629.0)\n",
       "665297          (HR, 22.88)\n",
       "665298    (TERMINATED, nan)\n",
       "665299          (HR, 16.83)\n",
       "665300        (YR, 70158.0)\n",
       "665301          (HR, 17.56)\n",
       "665302        (YR, 53638.0)\n",
       "665303    (TERMINATED, nan)\n",
       "665304          (HR, 16.83)\n",
       "665305          (HR, 16.83)\n",
       "665306        (YR, 81255.0)\n",
       "665307        (YR, 87138.0)\n",
       "665308        (YR, 72101.0)\n",
       "665309          (HR, 16.83)\n",
       "665310          (HR, 16.83)\n",
       "665311          (HR, 16.83)\n",
       "665312        (YR, 59663.0)\n",
       "665313        (YR, 58609.0)\n",
       "665314          (HR, 20.45)\n",
       "665315          (HR, 21.44)\n",
       "665316    (TERMINATED, nan)\n",
       "665317        (YR, 66690.0)\n",
       "665318           (HR, 9.55)\n",
       "665319          (HR, 16.83)\n",
       "665320          (HR, 32.41)\n",
       "665321        (YR, 81255.0)\n",
       "665322          (HR, 20.95)\n",
       "665323          (HR, 18.75)\n",
       "665324          (HR, 16.83)\n",
       "Name: Base Salary, Length: 665325, dtype: object"
      ]
     },
     "execution_count": 4,
     "metadata": {},
     "output_type": "execute_result"
    }
   ],
   "source": [
    "# read csv\n",
    "data = pd.read_csv(path, parse_dates=[0,8], converters={'Total Salary Paid': money_to_float, 'Base Salary': base_salary_to_float, 'Travel & Subsistence': money_to_float})\n",
    "# split Base Salary tuple into two columns\n",
    "base_salary_parsed = data[\"Base Salary\"].apply(pd.Series).rename(columns={0:'Base Salary Payment Method', 1:'Base Salary Payment Amount'})\n",
    "data.insert(8, 'Base Salary Payment Method', base_salary_parsed['Base Salary Payment Method'])\n",
    "data.insert(9, 'Base Salary Payment Amount', base_salary_parsed['Base Salary Payment Amount'])\n",
    "# delete Base Salary tuple column\n",
    "data.pop(\"Base Salary\")"
   ]
  },
  {
   "cell_type": "code",
   "execution_count": 5,
   "metadata": {
    "scrolled": false
   },
   "outputs": [
    {
     "name": "stdout",
     "output_type": "stream",
     "text": [
      "['HR' 'TERMINATED' 'BW' 'YR' 'DA' nan '893.00' 'DAILY' 'AN' 'ON LEAVE'\n",
      " '-0-' 'HRLY' 'BM' 'PW' '' 'Terminated']\n"
     ]
    }
   ],
   "source": [
    "# shows the unique payment types\n",
    "print(data[\"Base Salary Payment Method\"].unique())\n",
    "\n",
    "# function to estimate hourly wages and hours worked, \n",
    "def hourly_estimates(x):\n",
    "    # dictionary containing conversions of method to number of hours\n",
    "    method_to_hour_estimate = {'HR': 1, 'BW': 80, 'YR': 2000, 'DA': 8, 'DAILY': 8, \n",
    "                               'AN': 2000, 'HRLY': 1, 'BM': 333.33, 'PW': 40}\n",
    "    # get data from row\n",
    "    method, amount_per_method, total = x[\"Base Salary Payment Method\"], x[\"Base Salary Payment Amount\"], x[\"Total Salary Paid\"]\n",
    "    # calc hourly wage and hours worked\n",
    "    try:\n",
    "        hourly_wage_estimate = amount_per_method / method_to_hour_estimate.get(method, np.nan) # if the dict does not have a conversion the default is NaN\n",
    "        hours_worked_estimate = total/hourly_wage_estimate\n",
    "    except ZeroDivisionError:\n",
    "        hourly_wage_estimate = np.nan\n",
    "        hours_worked_estimate = np.nan\n",
    "    # return tuple\n",
    "    return hourly_wage_estimate, hours_worked_estimate\n",
    "# hours_parsed is a dataframe containing all of the hourly estimates\n",
    "hour_parsed = data[[\"Base Salary Payment Method\", \"Base Salary Payment Amount\", \"Total Salary Paid\"]] \\\n",
    "                    .apply(hourly_estimates, axis=1).apply(pd.Series).rename(columns={0:'Hourly Wage Estimate', 1:'Hours Worked Estimate'})  # axis one means that you apply the function on the row instead of the column\n",
    "# if you were to do x.values it would give you the values of the complete row\n",
    "data.insert(11, 'Hourly Wage Estimate', hour_parsed['Hourly Wage Estimate'])\n",
    "data.insert(12, 'Hours Worked Estimate', hour_parsed['Hours Worked Estimate'])"
   ]
  },
  {
   "cell_type": "markdown",
   "metadata": {},
   "source": [
    "## Main Dataframe created"
   ]
  },
  {
   "cell_type": "markdown",
   "metadata": {},
   "source": [
    "## Average Salary vs Inflation\n",
    "\n",
    "Null Hypothesis: Does average salary "
   ]
  },
  {
   "cell_type": "code",
   "execution_count": 6,
   "metadata": {},
   "outputs": [],
   "source": [
    "# Salary calculations\n",
    "salary_mean = pd.DataFrame(data.groupby([\"Fiscal Year\"])[\"Total Salary Paid\"].mean())\n",
    "salary_increase = salary_mean.diff()/salary_mean\n",
    "salary_increase_change = salary_increase.diff()\n",
    "\n",
    "salary_mean_norm = (salary_mean-salary_mean.min())/(salary_mean.max()-salary_mean.min())\n",
    "salary_increase_norm = (salary_increase-salary_increase.min())/(salary_increase.max()-salary_increase.min())\n",
    "salary_increase_change_norm = (salary_increase_change-salary_increase_change.min())/(salary_increase_change.max()-salary_increase_change.min())"
   ]
  },
  {
   "cell_type": "code",
   "execution_count": 7,
   "metadata": {},
   "outputs": [],
   "source": [
    "# Inflation calculations\n",
    "inflation_rate_tuples = [(\"2007\",2.3), (\"2008\",2.3), (\"2009\",1.7), (\"2010\",1.0), (\"2011\",1.7),\n",
    "           (\"2012\",2.1), (\"2013\",1.8), (\"2014\",1.7), (\"2015\",1.8), (\"2016\",2.2), (\"2017\",1.8)]\n",
    "inflation_rate = pd.DataFrame(inflation_rate_tuples)\n",
    "inflation_rate.insert(0, 2, pd.to_datetime(pd.DataFrame(inflation_rate_tuples)[0], format='%Y'))\n",
    "inflation_rate.pop(0)\n",
    "inflation_rate = inflation_rate.rename({2:\"Fiscal Year\", 1: \"Inflation Rate\"}, axis=1)\n",
    "inflation_rate = inflation_rate.set_index(\"Fiscal Year\")\n",
    "inflation_rate = inflation_rate/100\n",
    "\n",
    "inflation = (inflation_rate+1).cumprod()\n",
    "# inflation_rate\n",
    "inflation_rate_change = inflation_rate.diff()\n",
    "\n",
    "inflation_norm = (inflation-inflation.min())/(inflation.max()-inflation.min())\n",
    "inflation_rate_norm = (inflation_rate-inflation_rate.min())/(inflation_rate.max()-inflation_rate.min())\n",
    "inflation_rate_change_norm = (inflation_rate_change-inflation_rate_change.min())/(inflation_rate_change.max()-inflation_rate_change.min())"
   ]
  },
  {
   "cell_type": "code",
   "execution_count": 110,
   "metadata": {
    "scrolled": true
   },
   "outputs": [
    {
     "data": {
      "image/png": "[encoded data removed]",
      "text/plain": [
       "<matplotlib.figure.Figure at 0x1a3b8b3f28>"
      ]
     },
     "metadata": {},
     "output_type": "display_data"
    },
    {
     "data": {
      "image/png": "[encoded data removed]",
      "text/plain": [
       "<matplotlib.figure.Figure at 0x1a3b9cc668>"
      ]
     },
     "metadata": {},
     "output_type": "display_data"
    },
    {
     "data": {
      "image/png": "[encoded data removed]",
      "text/plain": [
       "<matplotlib.figure.Figure at 0x1a3b9b5828>"
      ]
     },
     "metadata": {},
     "output_type": "display_data"
    }
   ],
   "source": [
    "r = stats.ks_2samp(salary_mean_norm[\"Total Salary Paid\"], inflation_norm[\"Inflation Rate\"])\n",
    "# print(r)\n",
    "plt.figure().text(1, 0.5,\n",
    "        \"KS Test:\\nstatistic = \"+str(round(r.statistic, 4))+\"\\n  pvalue = \"+str(round(r.pvalue, 4)),\n",
    "                 size=12)\n",
    "plt.title(\"Average Salary vs Inflation (normalized)\")\n",
    "plt.plot(salary_mean_norm)\n",
    "plt.plot(inflation_norm)\n",
    "plt.legend([\"salary mean (norm)\", \"inflation (norm)\"])\n",
    "plt.show()\n",
    "\n",
    "r = stats.ks_2samp(salary_increase_norm[1:][\"Total Salary Paid\"], inflation_rate_norm[1:][\"Inflation Rate\"])\n",
    "# print(r)\n",
    "plt.figure().text(1, 0.5,\n",
    "        \"KS Test:\\nstatistic = \"+str(round(r.statistic, 4))+\"\\n  pvalue = \"+str(round(r.pvalue, 4)),\n",
    "                 size=12)\n",
    "plt.title(\"Average Salary Increase vs Inflation Rate (normalized)\")\n",
    "plt.plot(salary_increase_norm[1:])\n",
    "plt.plot(inflation_rate_norm[1:])\n",
    "plt.legend([\"salary increase (norm)\", \"inflation rate (norm)\"])\n",
    "plt.show()\n",
    "\n",
    "r = stats.ks_2samp(salary_increase_change_norm[2:][\"Total Salary Paid\"], inflation_rate_change_norm[2:][\"Inflation Rate\"])\n",
    "# print(r)\n",
    "plt.figure().text(1, 0.5,\n",
    "        \"KS Test:\\nstatistic = \"+str(round(r.statistic, 4))+\"\\n  pvalue = \"+str(round(r.pvalue, 4)),\n",
    "                 size=12)\n",
    "plt.title(\"Change in Average Salary Increase vs Change in Inflation Rate (normalized)\", )\n",
    "# plt.annotate(\"hello\", xy=(0,0))\n",
    "plt.plot(salary_increase_change_norm[2:])\n",
    "plt.plot(inflation_rate_change_norm[2:])\n",
    "plt.legend([\"salary increase change (norm)\", \"inflation rate change (norm)\"])\n",
    "# plt.text(.05,0.0005, \"testing\", ha='center')\n",
    "\n",
    "plt.show()"
   ]
  },
  {
   "cell_type": "markdown",
   "metadata": {},
   "source": [
    "These plots show that total inflation moves with total salary over time. Also that the change in inflation rate moves with the change of salary increases."
   ]
  },
  {
   "cell_type": "code",
   "execution_count": null,
   "metadata": {},
   "outputs": [],
   "source": []
  },
  {
   "cell_type": "code",
   "execution_count": 467,
   "metadata": {},
   "outputs": [],
   "source": [
    "# TODO - get SLR to work on the three salary/inflation types"
   ]
  },
  {
   "cell_type": "code",
   "execution_count": null,
   "metadata": {},
   "outputs": [],
   "source": []
  },
  {
   "cell_type": "code",
   "execution_count": null,
   "metadata": {},
   "outputs": [],
   "source": []
  },
  {
   "cell_type": "markdown",
   "metadata": {},
   "source": [
    "# testing SLR"
   ]
  },
  {
   "cell_type": "code",
   "execution_count": null,
   "metadata": {},
   "outputs": [],
   "source": []
  },
  {
   "cell_type": "code",
   "execution_count": 141,
   "metadata": {},
   "outputs": [],
   "source": [
    "LR0 = linear_model.LinearRegression()\n",
    "LR1 = linear_model.LinearRegression()\n",
    "LR2 = linear_model.LinearRegression()\n",
    "\n",
    "\n"
   ]
  },
  {
   "cell_type": "code",
   "execution_count": 148,
   "metadata": {},
   "outputs": [],
   "source": [
    "LR0 = linear_model.LinearRegression()\n",
    "LR0.fit(salary_mean_norm, inflation_norm)\n",
    "pred_lr0 = LR0.predict(salary_mean_norm)\n",
    "coef_lr0 = LR0.coef_"
   ]
  },
  {
   "cell_type": "code",
   "execution_count": 151,
   "metadata": {},
   "outputs": [
    {
     "name": "stdout",
     "output_type": "stream",
     "text": [
      "[[-0.18865776]\n",
      " [ 0.21979277]\n",
      " [ 0.37272233]\n",
      " [ 0.36965897]\n",
      " [ 0.34214542]\n",
      " [ 0.50333379]\n",
      " [ 0.58039567]\n",
      " [ 0.63113351]\n",
      " [ 0.67964263]\n",
      " [ 0.83059249]\n",
      " [ 0.93356583]]\n",
      "[[1.12222359]]\n",
      "[-0.18865776]\n"
     ]
    }
   ],
   "source": [
    "print(pred_lr0)\n",
    "print(coef_lr0)\n",
    "print(LR0.intercept_)"
   ]
  },
  {
   "cell_type": "code",
   "execution_count": 469,
   "metadata": {},
   "outputs": [
    {
     "data": {
      "image/png": "[encoded data removed]",
      "text/plain": [
       "<matplotlib.figure.Figure at 0x1a71a80278>"
      ]
     },
     "metadata": {},
     "output_type": "display_data"
    }
   ],
   "source": [
    "plt.scatter(salary_mean_norm, inflation_norm, color='black', s=1)\n",
    "plt.plot(inflation_norm, pred_lr0, color='blue', linewidth=3)\n",
    "plt.show()"
   ]
  },
  {
   "cell_type": "code",
   "execution_count": null,
   "metadata": {},
   "outputs": [],
   "source": []
  },
  {
   "cell_type": "code",
   "execution_count": null,
   "metadata": {},
   "outputs": [],
   "source": []
  },
  {
   "cell_type": "code",
   "execution_count": 142,
   "metadata": {},
   "outputs": [
    {
     "data": {
      "text/plain": [
       "LinearRegression(copy_X=True, fit_intercept=True, n_jobs=1, normalize=False)"
      ]
     },
     "execution_count": 142,
     "metadata": {},
     "output_type": "execute_result"
    }
   ],
   "source": [
    "LR0.fit(salary_mean_norm, inflation_norm)"
   ]
  },
  {
   "cell_type": "code",
   "execution_count": 144,
   "metadata": {},
   "outputs": [
    {
     "data": {
      "text/plain": [
       "array([[44119.83985263],\n",
       "       [51505.90391403],\n",
       "       [54271.34912268],\n",
       "       [54215.95403424],\n",
       "       [53718.42296337],\n",
       "       [56633.21323155],\n",
       "       [58026.73330699],\n",
       "       [58944.23224672],\n",
       "       [59821.42896738],\n",
       "       [62551.07505906],\n",
       "       [64413.15540504]])"
      ]
     },
     "execution_count": 144,
     "metadata": {},
     "output_type": "execute_result"
    }
   ],
   "source": [
    "LR0.predict(salary_mean)"
   ]
  },
  {
   "cell_type": "code",
   "execution_count": 124,
   "metadata": {},
   "outputs": [],
   "source": [
    "d = salary_mean_norm[\"Total Salary Paid\"] - inflation_norm[\"Inflation Rate\"]"
   ]
  },
  {
   "cell_type": "code",
   "execution_count": null,
   "metadata": {},
   "outputs": [],
   "source": []
  },
  {
   "cell_type": "code",
   "execution_count": null,
   "metadata": {},
   "outputs": [],
   "source": [
    "# TODO - best attempt with trying SLR"
   ]
  },
  {
   "cell_type": "code",
   "execution_count": 490,
   "metadata": {},
   "outputs": [
    {
     "name": "stdout",
     "output_type": "stream",
     "text": [
      "SLR: 0.68, se: 0.19, T: 3.59\n"
     ]
    },
    {
     "data": {
      "image/png": "[encoded data removed]",
      "text/plain": [
       "<matplotlib.figure.Figure at 0x1a51a9c128>"
      ]
     },
     "metadata": {},
     "output_type": "display_data"
    }
   ],
   "source": [
    "train_x = salary_increase_norm[1:]  # sliced because of the NaN\n",
    "train_y = inflation_rate_norm[1:]  # sliced because of the NaN\n",
    "\n",
    "LR = linear_model.LinearRegression()\n",
    "LR.fit(train_x, train_y)\n",
    "pred = LR.predict(salary_increase_norm[1:])\n",
    "coef = LR.coef_[0][0]\n",
    "\n",
    "MAPE = 100 * sum(abs((p - y) / y) for y, p in zip(np.array(train_y), pred) if y != 0) / len([y for y in train_y if y != 0])\n",
    "se = math.sqrt(sum((p-y)**2 for y, p in zip(np.array(train_y), pred)) / len(pred))\n",
    "t_val = abs(coef / se)\n",
    "\n",
    "print(\"SLR: {0:.2f}, se: {1:.2f}, T: {2:.2f}\".format(coef, se, t_val))\n",
    "plt.scatter(train_x, train_y, color='black', s=1)\n",
    "plt.plot(train_x, pred, color='blue', linewidth=3)\n",
    "plt.show()"
   ]
  },
  {
   "cell_type": "code",
   "execution_count": null,
   "metadata": {},
   "outputs": [],
   "source": []
  },
  {
   "cell_type": "code",
   "execution_count": null,
   "metadata": {},
   "outputs": [],
   "source": []
  },
  {
   "cell_type": "code",
   "execution_count": 478,
   "metadata": {},
   "outputs": [],
   "source": []
  },
  {
   "cell_type": "code",
   "execution_count": 479,
   "metadata": {},
   "outputs": [],
   "source": []
  },
  {
   "cell_type": "code",
   "execution_count": null,
   "metadata": {},
   "outputs": [],
   "source": []
  },
  {
   "cell_type": "code",
   "execution_count": null,
   "metadata": {},
   "outputs": [],
   "source": []
  },
  {
   "cell_type": "code",
   "execution_count": null,
   "metadata": {},
   "outputs": [],
   "source": []
  },
  {
   "cell_type": "markdown",
   "metadata": {},
   "source": [
    "# end testing slr"
   ]
  },
  {
   "cell_type": "code",
   "execution_count": null,
   "metadata": {},
   "outputs": [],
   "source": []
  },
  {
   "cell_type": "code",
   "execution_count": null,
   "metadata": {},
   "outputs": [],
   "source": []
  },
  {
   "cell_type": "code",
   "execution_count": null,
   "metadata": {},
   "outputs": [],
   "source": []
  },
  {
   "cell_type": "code",
   "execution_count": null,
   "metadata": {},
   "outputs": [],
   "source": []
  },
  {
   "cell_type": "code",
   "execution_count": null,
   "metadata": {},
   "outputs": [],
   "source": []
  },
  {
   "cell_type": "code",
   "execution_count": null,
   "metadata": {},
   "outputs": [],
   "source": []
  },
  {
   "cell_type": "code",
   "execution_count": null,
   "metadata": {},
   "outputs": [],
   "source": []
  },
  {
   "cell_type": "markdown",
   "metadata": {},
   "source": [
    "## Looking at effects from 2008 stock market crash and other events\n",
    "\n",
    "Null Hypothesis: The effects of the recession will effect salaries from year to year"
   ]
  },
  {
   "cell_type": "code",
   "execution_count": 220,
   "metadata": {},
   "outputs": [
    {
     "data": {
      "text/html": [
       "<div>\n",
       "<style scoped>\n",
       "    .dataframe tbody tr th:only-of-type {\n",
       "        vertical-align: middle;\n",
       "    }\n",
       "\n",
       "    .dataframe tbody tr th {\n",
       "        vertical-align: top;\n",
       "    }\n",
       "\n",
       "    .dataframe thead th {\n",
       "        text-align: right;\n",
       "    }\n",
       "</style>\n",
       "<table border=\"1\" class=\"dataframe\">\n",
       "  <thead>\n",
       "    <tr style=\"text-align: right;\">\n",
       "      <th></th>\n",
       "      <th>Inflation Rate</th>\n",
       "    </tr>\n",
       "    <tr>\n",
       "      <th>Fiscal Year</th>\n",
       "      <th></th>\n",
       "    </tr>\n",
       "  </thead>\n",
       "  <tbody>\n",
       "    <tr>\n",
       "      <th>2007-01-01</th>\n",
       "      <td>1.023000</td>\n",
       "    </tr>\n",
       "    <tr>\n",
       "      <th>2008-01-01</th>\n",
       "      <td>1.046529</td>\n",
       "    </tr>\n",
       "    <tr>\n",
       "      <th>2009-01-01</th>\n",
       "      <td>1.064320</td>\n",
       "    </tr>\n",
       "    <tr>\n",
       "      <th>2010-01-01</th>\n",
       "      <td>1.074963</td>\n",
       "    </tr>\n",
       "    <tr>\n",
       "      <th>2011-01-01</th>\n",
       "      <td>1.093238</td>\n",
       "    </tr>\n",
       "    <tr>\n",
       "      <th>2012-01-01</th>\n",
       "      <td>1.116196</td>\n",
       "    </tr>\n",
       "    <tr>\n",
       "      <th>2013-01-01</th>\n",
       "      <td>1.136287</td>\n",
       "    </tr>\n",
       "    <tr>\n",
       "      <th>2014-01-01</th>\n",
       "      <td>1.155604</td>\n",
       "    </tr>\n",
       "    <tr>\n",
       "      <th>2015-01-01</th>\n",
       "      <td>1.176405</td>\n",
       "    </tr>\n",
       "    <tr>\n",
       "      <th>2016-01-01</th>\n",
       "      <td>1.202286</td>\n",
       "    </tr>\n",
       "    <tr>\n",
       "      <th>2017-01-01</th>\n",
       "      <td>1.223927</td>\n",
       "    </tr>\n",
       "  </tbody>\n",
       "</table>\n",
       "</div>"
      ],
      "text/plain": [
       "             Inflation Rate\n",
       "Fiscal Year                \n",
       "2007-01-01         1.023000\n",
       "2008-01-01         1.046529\n",
       "2009-01-01         1.064320\n",
       "2010-01-01         1.074963\n",
       "2011-01-01         1.093238\n",
       "2012-01-01         1.116196\n",
       "2013-01-01         1.136287\n",
       "2014-01-01         1.155604\n",
       "2015-01-01         1.176405\n",
       "2016-01-01         1.202286\n",
       "2017-01-01         1.223927"
      ]
     },
     "execution_count": 220,
     "metadata": {},
     "output_type": "execute_result"
    }
   ],
   "source": [
    "inflation"
   ]
  },
  {
   "cell_type": "code",
   "execution_count": 286,
   "metadata": {},
   "outputs": [],
   "source": [
    "def inflation_adjust(x):\n",
    "    i_rate = float(inflation.loc[x[\"Fiscal Year\"]])\n",
    "    r = []\n",
    "    for i, v in enumerate(x):\n",
    "        if i in [8, 10, 11, 13]:\n",
    "            r.append(v/i_rate)\n",
    "        else:\n",
    "            r.append(v)\n",
    "    return r\n",
    "data_inflation_adjusted = data.apply(inflation_adjust, axis=1)"
   ]
  },
  {
   "cell_type": "code",
   "execution_count": 242,
   "metadata": {},
   "outputs": [
    {
     "data": {
      "text/plain": [
       "1.023"
      ]
     },
     "execution_count": 242,
     "metadata": {},
     "output_type": "execute_result"
    }
   ],
   "source": [
    "float(inflation.loc['2007-01-01'].values)"
   ]
  },
  {
   "cell_type": "code",
   "execution_count": 392,
   "metadata": {},
   "outputs": [
    {
     "data": {
      "text/plain": [
       "<function matplotlib.pyplot.show>"
      ]
     },
     "execution_count": 392,
     "metadata": {},
     "output_type": "execute_result"
    },
    {
     "data": {
      "image/png": "[encoded data removed]",
      "text/plain": [
       "<matplotlib.figure.Figure at 0x1a909937f0>"
      ]
     },
     "metadata": {},
     "output_type": "display_data"
    }
   ],
   "source": [
    "plt.plot(data_inflation_adjusted.groupby(\"Fiscal Year\")[\"Total Salary Paid\"].mean())\n",
    "plt.plot(data_inflation_adjusted.groupby(\"Fiscal Year\")[\"Total Salary Paid\"].median())\n",
    "plt.legend([\"Total Salary - mean\", \"Total Salary - median\"])\n",
    "plt.title(\"Inflation Adjusted Total Salary\")\n",
    "plt.show"
   ]
  },
  {
   "cell_type": "code",
   "execution_count": 311,
   "metadata": {},
   "outputs": [
    {
     "data": {
      "image/png": "[encoded data removed]",
      "text/plain": [
       "<matplotlib.figure.Figure at 0x1a90f55dd8>"
      ]
     },
     "metadata": {},
     "output_type": "display_data"
    },
    {
     "data": {
      "image/png": "[encoded data removed]",
      "text/plain": [
       "<matplotlib.figure.Figure at 0x1a93612e48>"
      ]
     },
     "metadata": {},
     "output_type": "display_data"
    },
    {
     "data": {
      "image/png": "[encoded data removed]",
      "text/plain": [
       "<matplotlib.figure.Figure at 0x1aa2c76c88>"
      ]
     },
     "metadata": {},
     "output_type": "display_data"
    }
   ],
   "source": [
    "# cdfs for inflation adjusted total salaries\n",
    "\n",
    "# cdf with x-axis log scale\n",
    "plt.figure(figsize=(13, 6))\n",
    "plt.grid(True, which=\"both\")\n",
    "p = plt.plot(data_inflation_adjusted[\"Total Salary Paid\"].value_counts().sort_index().apply((lambda x: x/l)).cumsum().iloc[2:]) # the array slicing gets ride of negative salary\n",
    "plt.semilogx(True)\n",
    "plt.show()\n",
    "\n",
    "\n",
    "# pdf with x-axis log scale\n",
    "plt.figure(figsize=(13, 6))\n",
    "plt.grid(True, which=\"both\")\n",
    "p = plt.plot(data_inflation_adjusted[\"Total Salary Paid\"].value_counts().sort_index().apply((lambda x: x/l)).iloc[2:]) # the array slicing gets ride of negative salary\n",
    "plt.semilogx(True)\n",
    "plt.ylim([0, 0.005])\n",
    "plt.show()\n",
    "\n",
    "\n",
    "plt.figure(figsize=(14, 8))\n",
    "plt.grid(True, which=\"both\")\n",
    "# l = len(data[\"Total Salary Paid\"])  # this plots the full CDF on top of the yearly CDFs\n",
    "# plt.plot(data[\"Total Salary Paid\"].value_counts().sort_index().apply((lambda x: x/l)).cumsum(), label=\"all\", color=\"black\", alpha=0.3)\n",
    "colors = ['#FF0000', '#FF4500', '#FF4500', '#FFD700', '#9ACD32', '#228B22', '#228B22', '#008080', '#0000FF', '#00008B', '#4B0082']\n",
    "for k, i in enumerate(data_inflation_adjusted.groupby([\"Fiscal Year\"])):\n",
    "    title = i[0]\n",
    "    i = i[1]\n",
    "    l = len(i[\"Total Salary Paid\"])\n",
    "    plt.plot(i[\"Total Salary Paid\"].value_counts().sort_index().apply((lambda x: x/l)).cumsum(),\n",
    "            label=str(title)[:4],\n",
    "            color=colors[k],\n",
    "            alpha=0.5)\n",
    "plt.semilogx(True, basex=10)\n",
    "plt.legend(loc='best')\n",
    "plt.show()"
   ]
  },
  {
   "cell_type": "code",
   "execution_count": 345,
   "metadata": {},
   "outputs": [],
   "source": [
    "def WaldsTest(df1, df2):\n",
    "    w = (df1.mean() - df2.mean())/np.sqrt(df1.var()/len(df1) + df2.var()/len(df2))\n",
    "    p_value = 2 * (1 - stats.norm.cdf(abs(w)))\n",
    "    return w, p_value"
   ]
  },
  {
   "cell_type": "code",
   "execution_count": 357,
   "metadata": {},
   "outputs": [],
   "source": [
    "# def TTest(df):\n",
    "#     t = df.mean() / np.sqrt(df.var()/len(df))\n",
    "#     return t"
   ]
  },
  {
   "cell_type": "code",
   "execution_count": 340,
   "metadata": {},
   "outputs": [],
   "source": [
    "total_salary_by_year = [data_inflation_adjusted.loc[data_inflation_adjusted[\"Fiscal Year\"] == (str(i)+\"-01-01\")][\"Total Salary Paid\"] for i in range(2007,2018)]\n",
    "# pd.concat()  # use this to concat different years together"
   ]
  },
  {
   "cell_type": "code",
   "execution_count": 387,
   "metadata": {},
   "outputs": [
    {
     "name": "stdout",
     "output_type": "stream",
     "text": [
      "2007 2008 diff -26.582776570996028 0.0\n",
      "2008 2009 diff -7.317337227866538 2.5290880500961066e-13\n",
      "2009 2010 diff 2.2548702240844816 0.02414147579807535\n",
      "2010 2011 diff 5.076237909786543 3.849812066913927e-07\n",
      "2011 2012 diff -6.03722016476449 1.5679173515081857e-09\n",
      "2012 2013 same -1.2208178107949528 0.222155008655623\n",
      "2013 2014 same 0.21874647348697976 0.8268475449460473\n",
      "2014 2015 same 0.559736357332458 0.575659279414487\n",
      "2015 2016 diff -4.119903829845212 3.79030568347094e-05\n",
      "2016 2017 diff -2.069895952495265 0.03846208906109938\n"
     ]
    }
   ],
   "source": [
    "for i in range(len(total_salary_by_year)-1):\n",
    "    w, p = WaldsTest(total_salary_by_year[i], total_salary_by_year[i+1])\n",
    "    if p < 0.05:\n",
    "        s = \"diff\"\n",
    "    else:\n",
    "        s = \"same\"\n",
    "    print(i+2007, i+2007+1, s, w, p)\n",
    "\n",
    "# the dataset is quite large so errors tend to be small, \n",
    "# the results below show that there are still years that are very similar to one another"
   ]
  },
  {
   "cell_type": "code",
   "execution_count": 384,
   "metadata": {},
   "outputs": [
    {
     "name": "stdout",
     "output_type": "stream",
     "text": [
      "(2007, 2008) (2008, 2013)\n",
      "wald stat -40.36348505364705 p-value 0.0\n",
      "(2008, 2013) (2013, 2017)\n",
      "wald stat -8.906900393239514 p-value 0.0\n",
      "(2013, 2017) (2017, 2018)\n",
      "wald stat -6.048230778718599 p-value 1.464450782862059e-09\n"
     ]
    }
   ],
   "source": [
    "# pre recession, effects of recession, market rising, election\n",
    "# 2007, 2008-2012, 2013-2016, 2017\n",
    "\n",
    "the_gaps = [(2007,2007+1),(2008, 2012+1),(2013, 2016+1),(2017, 2017+1)]\n",
    "\n",
    "for i in range(len(the_gaps)-1):\n",
    "    a1 = the_gaps[i][0]-2007\n",
    "    a2 = the_gaps[i][1]-2007\n",
    "    b1 = the_gaps[i+1][0]-2007\n",
    "    b2 = the_gaps[i+1][1]-2007\n",
    "    d1 = pd.concat(total_salary_by_year[a1:a2])\n",
    "    d2 = pd.concat(total_salary_by_year[b1:b2])\n",
    "    w, p = WaldsTest(d1, d2)\n",
    "    print(the_gaps[i], the_gaps[i+1])\n",
    "    print(\"wald stat\", w, \"p-value\", p)\n",
    "\n",
    "# each group of years are different from each other"
   ]
  },
  {
   "cell_type": "code",
   "execution_count": null,
   "metadata": {},
   "outputs": [],
   "source": []
  },
  {
   "cell_type": "markdown",
   "metadata": {},
   "source": [
    "## Looking at salaries and Effective Federal Funds Rate"
   ]
  },
  {
   "cell_type": "code",
   "execution_count": 464,
   "metadata": {},
   "outputs": [],
   "source": [
    "effr_path = \"effr.csv\"\n",
    "# effr_data = pd.read_csv(effr_path, parse_dates=True, infer_datetime_format=True, header=0, converters={'\"EFFR (PERCENT)\"': money_to_float})\n",
    "# dp = lambda x: pd.datetime.strptime(str(x), '%m/%d/%Y')\n",
    "effr_data = pd.read_csv(effr_path)\n",
    "def effr_parser(x):\n",
    "    try:\n",
    "        t = pd.datetime.strptime(str(x[0]).split('[')[0], '%m/%d/%y')\n",
    "    except ValueError:\n",
    "        t = pd.datetime.strptime(str(x[0]).split('[')[0], '%Y-%m-%d')\n",
    "    t = t.year\n",
    "    n = np.float(x[1])\n",
    "    return [t, n]\n",
    "effr_data = effr_data.apply(effr_parser, axis=1)\n",
    "effr_data = effr_data.set_index(\"DATE\")\n",
    "effr_data = effr_data.sort_index()\n",
    "effr_data = effr_data.groupby(\"DATE\").mean()\n",
    "\n",
    "# effr_data_by_year = effr_data.apply(lambda x: (x[0].year, x[1]), axis=1).groupby(\"DATE\").mean()"
   ]
  },
  {
   "cell_type": "code",
   "execution_count": 465,
   "metadata": {},
   "outputs": [
    {
     "data": {
      "text/html": [
       "<div>\n",
       "<style scoped>\n",
       "    .dataframe tbody tr th:only-of-type {\n",
       "        vertical-align: middle;\n",
       "    }\n",
       "\n",
       "    .dataframe tbody tr th {\n",
       "        vertical-align: top;\n",
       "    }\n",
       "\n",
       "    .dataframe thead th {\n",
       "        text-align: right;\n",
       "    }\n",
       "</style>\n",
       "<table border=\"1\" class=\"dataframe\">\n",
       "  <thead>\n",
       "    <tr style=\"text-align: right;\">\n",
       "      <th></th>\n",
       "      <th>EFFR\n",
       "(PERCENT)</th>\n",
       "    </tr>\n",
       "    <tr>\n",
       "      <th>DATE</th>\n",
       "      <th></th>\n",
       "    </tr>\n",
       "  </thead>\n",
       "  <tbody>\n",
       "    <tr>\n",
       "      <th>2007.0</th>\n",
       "      <td>5.026454</td>\n",
       "    </tr>\n",
       "    <tr>\n",
       "      <th>2008.0</th>\n",
       "      <td>1.939048</td>\n",
       "    </tr>\n",
       "    <tr>\n",
       "      <th>2009.0</th>\n",
       "      <td>0.159722</td>\n",
       "    </tr>\n",
       "    <tr>\n",
       "      <th>2010.0</th>\n",
       "      <td>0.177024</td>\n",
       "    </tr>\n",
       "    <tr>\n",
       "      <th>2011.0</th>\n",
       "      <td>0.101833</td>\n",
       "    </tr>\n",
       "    <tr>\n",
       "      <th>2012.0</th>\n",
       "      <td>0.142112</td>\n",
       "    </tr>\n",
       "    <tr>\n",
       "      <th>2013.0</th>\n",
       "      <td>0.107809</td>\n",
       "    </tr>\n",
       "    <tr>\n",
       "      <th>2014.0</th>\n",
       "      <td>0.089004</td>\n",
       "    </tr>\n",
       "    <tr>\n",
       "      <th>2015.0</th>\n",
       "      <td>0.134286</td>\n",
       "    </tr>\n",
       "    <tr>\n",
       "      <th>2016.0</th>\n",
       "      <td>0.394661</td>\n",
       "    </tr>\n",
       "    <tr>\n",
       "      <th>2017.0</th>\n",
       "      <td>1.003705</td>\n",
       "    </tr>\n",
       "  </tbody>\n",
       "</table>\n",
       "</div>"
      ],
      "text/plain": [
       "        EFFR\\n(PERCENT)\n",
       "DATE                   \n",
       "2007.0         5.026454\n",
       "2008.0         1.939048\n",
       "2009.0         0.159722\n",
       "2010.0         0.177024\n",
       "2011.0         0.101833\n",
       "2012.0         0.142112\n",
       "2013.0         0.107809\n",
       "2014.0         0.089004\n",
       "2015.0         0.134286\n",
       "2016.0         0.394661\n",
       "2017.0         1.003705"
      ]
     },
     "execution_count": 465,
     "metadata": {},
     "output_type": "execute_result"
    }
   ],
   "source": [
    "effr_data"
   ]
  },
  {
   "cell_type": "code",
   "execution_count": 466,
   "metadata": {},
   "outputs": [
    {
     "data": {
      "text/plain": [
       "[<matplotlib.lines.Line2D at 0x1a41430898>]"
      ]
     },
     "execution_count": 466,
     "metadata": {},
     "output_type": "execute_result"
    },
    {
     "data": {
      "image/png": "[encoded data removed]",
      "text/plain": [
       "<matplotlib.figure.Figure at 0x1aa30a9a58>"
      ]
     },
     "metadata": {},
     "output_type": "display_data"
    }
   ],
   "source": [
    "plt.plot(effr_data)"
   ]
  },
  {
   "cell_type": "code",
   "execution_count": 468,
   "metadata": {},
   "outputs": [],
   "source": [
    "# TODO - get SLR to work on this"
   ]
  },
  {
   "cell_type": "code",
   "execution_count": null,
   "metadata": {},
   "outputs": [],
   "source": []
  },
  {
   "cell_type": "code",
   "execution_count": null,
   "metadata": {},
   "outputs": [],
   "source": []
  },
  {
   "cell_type": "code",
   "execution_count": null,
   "metadata": {},
   "outputs": [],
   "source": []
  },
  {
   "cell_type": "code",
   "execution_count": null,
   "metadata": {},
   "outputs": [],
   "source": []
  },
  {
   "cell_type": "markdown",
   "metadata": {},
   "source": [
    "# scrap from trying to get SLR to work"
   ]
  },
  {
   "cell_type": "code",
   "execution_count": null,
   "metadata": {},
   "outputs": [],
   "source": []
  },
  {
   "cell_type": "code",
   "execution_count": 165,
   "metadata": {},
   "outputs": [
    {
     "ename": "IndexError",
     "evalue": "tuple index out of range",
     "output_type": "error",
     "traceback": [
      "\u001b[0;31m---------------------------------------------------------------------------\u001b[0m",
      "\u001b[0;31mIndexError\u001b[0m                                Traceback (most recent call last)",
      "\u001b[0;32m<ipython-input-165-789ffb1d371b>\u001b[0m in \u001b[0;36m<module>\u001b[0;34m()\u001b[0m\n\u001b[0;32m----> 1\u001b[0;31m \u001b[0mlinregress\u001b[0m\u001b[0;34m(\u001b[0m\u001b[0mnp\u001b[0m\u001b[0;34m.\u001b[0m\u001b[0marray\u001b[0m\u001b[0;34m(\u001b[0m\u001b[0msalary_mean\u001b[0m\u001b[0;34m[\u001b[0m\u001b[0;34m\"Total Salary Paid\"\u001b[0m\u001b[0;34m]\u001b[0m\u001b[0;34m)\u001b[0m\u001b[0;34m)\u001b[0m\u001b[0;34m\u001b[0m\u001b[0m\n\u001b[0m",
      "\u001b[0;32m/anaconda3/lib/python3.6/site-packages/scipy/stats/_stats_mstats_common.py\u001b[0m in \u001b[0;36mlinregress\u001b[0;34m(x, y)\u001b[0m\n\u001b[1;32m     73\u001b[0m         \u001b[0;32mif\u001b[0m \u001b[0mx\u001b[0m\u001b[0;34m.\u001b[0m\u001b[0mshape\u001b[0m\u001b[0;34m[\u001b[0m\u001b[0;36m0\u001b[0m\u001b[0;34m]\u001b[0m \u001b[0;34m==\u001b[0m \u001b[0;36m2\u001b[0m\u001b[0;34m:\u001b[0m\u001b[0;34m\u001b[0m\u001b[0m\n\u001b[1;32m     74\u001b[0m             \u001b[0mx\u001b[0m\u001b[0;34m,\u001b[0m \u001b[0my\u001b[0m \u001b[0;34m=\u001b[0m \u001b[0mx\u001b[0m\u001b[0;34m\u001b[0m\u001b[0m\n\u001b[0;32m---> 75\u001b[0;31m         \u001b[0;32melif\u001b[0m \u001b[0mx\u001b[0m\u001b[0;34m.\u001b[0m\u001b[0mshape\u001b[0m\u001b[0;34m[\u001b[0m\u001b[0;36m1\u001b[0m\u001b[0;34m]\u001b[0m \u001b[0;34m==\u001b[0m \u001b[0;36m2\u001b[0m\u001b[0;34m:\u001b[0m\u001b[0;34m\u001b[0m\u001b[0m\n\u001b[0m\u001b[1;32m     76\u001b[0m             \u001b[0mx\u001b[0m\u001b[0;34m,\u001b[0m \u001b[0my\u001b[0m \u001b[0;34m=\u001b[0m \u001b[0mx\u001b[0m\u001b[0;34m.\u001b[0m\u001b[0mT\u001b[0m\u001b[0;34m\u001b[0m\u001b[0m\n\u001b[1;32m     77\u001b[0m         \u001b[0;32melse\u001b[0m\u001b[0;34m:\u001b[0m\u001b[0;34m\u001b[0m\u001b[0m\n",
      "\u001b[0;31mIndexError\u001b[0m: tuple index out of range"
     ]
    }
   ],
   "source": [
    "linregress(np.array(salary_mean[\"Total Salary Paid\"]))"
   ]
  },
  {
   "cell_type": "code",
   "execution_count": 168,
   "metadata": {},
   "outputs": [],
   "source": [
    "from scipy import linspace"
   ]
  },
  {
   "cell_type": "code",
   "execution_count": 173,
   "metadata": {},
   "outputs": [
    {
     "data": {
      "text/plain": [
       "array([ 0.,  1.,  2.,  3.,  4.,  5.,  6.,  7.,  8.,  9., 10.])"
      ]
     },
     "execution_count": 173,
     "metadata": {},
     "output_type": "execute_result"
    }
   ],
   "source": [
    "linspace(0,10,11)"
   ]
  },
  {
   "cell_type": "code",
   "execution_count": 174,
   "metadata": {},
   "outputs": [
    {
     "data": {
      "text/plain": [
       "array([[39314.82906565],\n",
       "       [45896.4623022 ],\n",
       "       [48360.71741126],\n",
       "       [48311.35551131],\n",
       "       [47868.01153203],\n",
       "       [50465.34623521],\n",
       "       [51707.09528695],\n",
       "       [52524.66760504],\n",
       "       [53306.32709834],\n",
       "       [55738.68204296],\n",
       "       [57397.95954074]])"
      ]
     },
     "execution_count": 174,
     "metadata": {},
     "output_type": "execute_result"
    }
   ],
   "source": [
    "salary_mean.values"
   ]
  },
  {
   "cell_type": "code",
   "execution_count": 175,
   "metadata": {},
   "outputs": [
    {
     "ename": "ValueError",
     "evalue": "all the input array dimensions except for the concatenation axis must match exactly",
     "output_type": "error",
     "traceback": [
      "\u001b[0;31m---------------------------------------------------------------------------\u001b[0m",
      "\u001b[0;31mValueError\u001b[0m                                Traceback (most recent call last)",
      "\u001b[0;32m<ipython-input-175-486943c62cc8>\u001b[0m in \u001b[0;36m<module>\u001b[0;34m()\u001b[0m\n\u001b[0;32m----> 1\u001b[0;31m \u001b[0mlinregress\u001b[0m\u001b[0;34m(\u001b[0m\u001b[0mlinspace\u001b[0m\u001b[0;34m(\u001b[0m\u001b[0;36m0\u001b[0m\u001b[0;34m,\u001b[0m\u001b[0;36m10\u001b[0m\u001b[0;34m,\u001b[0m\u001b[0;36m11\u001b[0m\u001b[0;34m)\u001b[0m\u001b[0;34m,\u001b[0m \u001b[0msalary_mean\u001b[0m\u001b[0;34m.\u001b[0m\u001b[0mvalues\u001b[0m\u001b[0;34m)\u001b[0m\u001b[0;34m\u001b[0m\u001b[0m\n\u001b[0m",
      "\u001b[0;32m/anaconda3/lib/python3.6/site-packages/scipy/stats/_stats_mstats_common.py\u001b[0m in \u001b[0;36mlinregress\u001b[0;34m(x, y)\u001b[0m\n\u001b[1;32m     91\u001b[0m \u001b[0;34m\u001b[0m\u001b[0m\n\u001b[1;32m     92\u001b[0m     \u001b[0;31m# average sum of squares:\u001b[0m\u001b[0;34m\u001b[0m\u001b[0;34m\u001b[0m\u001b[0m\n\u001b[0;32m---> 93\u001b[0;31m     \u001b[0mssxm\u001b[0m\u001b[0;34m,\u001b[0m \u001b[0mssxym\u001b[0m\u001b[0;34m,\u001b[0m \u001b[0mssyxm\u001b[0m\u001b[0;34m,\u001b[0m \u001b[0mssym\u001b[0m \u001b[0;34m=\u001b[0m \u001b[0mnp\u001b[0m\u001b[0;34m.\u001b[0m\u001b[0mcov\u001b[0m\u001b[0;34m(\u001b[0m\u001b[0mx\u001b[0m\u001b[0;34m,\u001b[0m \u001b[0my\u001b[0m\u001b[0;34m,\u001b[0m \u001b[0mbias\u001b[0m\u001b[0;34m=\u001b[0m\u001b[0;36m1\u001b[0m\u001b[0;34m)\u001b[0m\u001b[0;34m.\u001b[0m\u001b[0mflat\u001b[0m\u001b[0;34m\u001b[0m\u001b[0m\n\u001b[0m\u001b[1;32m     94\u001b[0m     \u001b[0mr_num\u001b[0m \u001b[0;34m=\u001b[0m \u001b[0mssxym\u001b[0m\u001b[0;34m\u001b[0m\u001b[0m\n\u001b[1;32m     95\u001b[0m     \u001b[0mr_den\u001b[0m \u001b[0;34m=\u001b[0m \u001b[0mnp\u001b[0m\u001b[0;34m.\u001b[0m\u001b[0msqrt\u001b[0m\u001b[0;34m(\u001b[0m\u001b[0mssxm\u001b[0m \u001b[0;34m*\u001b[0m \u001b[0mssym\u001b[0m\u001b[0;34m)\u001b[0m\u001b[0;34m\u001b[0m\u001b[0m\n",
      "\u001b[0;32m/anaconda3/lib/python3.6/site-packages/numpy/lib/function_base.py\u001b[0m in \u001b[0;36mcov\u001b[0;34m(m, y, rowvar, bias, ddof, fweights, aweights)\u001b[0m\n\u001b[1;32m   3042\u001b[0m         \u001b[0;32mif\u001b[0m \u001b[0;32mnot\u001b[0m \u001b[0mrowvar\u001b[0m \u001b[0;32mand\u001b[0m \u001b[0my\u001b[0m\u001b[0;34m.\u001b[0m\u001b[0mshape\u001b[0m\u001b[0;34m[\u001b[0m\u001b[0;36m0\u001b[0m\u001b[0;34m]\u001b[0m \u001b[0;34m!=\u001b[0m \u001b[0;36m1\u001b[0m\u001b[0;34m:\u001b[0m\u001b[0;34m\u001b[0m\u001b[0m\n\u001b[1;32m   3043\u001b[0m             \u001b[0my\u001b[0m \u001b[0;34m=\u001b[0m \u001b[0my\u001b[0m\u001b[0;34m.\u001b[0m\u001b[0mT\u001b[0m\u001b[0;34m\u001b[0m\u001b[0m\n\u001b[0;32m-> 3044\u001b[0;31m         \u001b[0mX\u001b[0m \u001b[0;34m=\u001b[0m \u001b[0mnp\u001b[0m\u001b[0;34m.\u001b[0m\u001b[0mconcatenate\u001b[0m\u001b[0;34m(\u001b[0m\u001b[0;34m(\u001b[0m\u001b[0mX\u001b[0m\u001b[0;34m,\u001b[0m \u001b[0my\u001b[0m\u001b[0;34m)\u001b[0m\u001b[0;34m,\u001b[0m \u001b[0maxis\u001b[0m\u001b[0;34m=\u001b[0m\u001b[0;36m0\u001b[0m\u001b[0;34m)\u001b[0m\u001b[0;34m\u001b[0m\u001b[0m\n\u001b[0m\u001b[1;32m   3045\u001b[0m \u001b[0;34m\u001b[0m\u001b[0m\n\u001b[1;32m   3046\u001b[0m     \u001b[0;32mif\u001b[0m \u001b[0mddof\u001b[0m \u001b[0;32mis\u001b[0m \u001b[0;32mNone\u001b[0m\u001b[0;34m:\u001b[0m\u001b[0;34m\u001b[0m\u001b[0m\n",
      "\u001b[0;31mValueError\u001b[0m: all the input array dimensions except for the concatenation axis must match exactly"
     ]
    }
   ],
   "source": [
    "linregress(linspace(0,10,11), salary_mean.values)"
   ]
  },
  {
   "cell_type": "code",
   "execution_count": 188,
   "metadata": {},
   "outputs": [
    {
     "data": {
      "text/plain": [
       "(1, 11)"
      ]
     },
     "execution_count": 188,
     "metadata": {},
     "output_type": "execute_result"
    }
   ],
   "source": [
    "np.column_stack(salary_mean[\"Total Salary Paid\"]).shape"
   ]
  },
  {
   "cell_type": "code",
   "execution_count": 195,
   "metadata": {},
   "outputs": [
    {
     "name": "stderr",
     "output_type": "stream",
     "text": [
      "/anaconda3/lib/python3.6/site-packages/scipy/stats/_stats_mstats_common.py:117: RuntimeWarning: invalid value encountered in sqrt\n",
      "  t = r * np.sqrt(df / ((1.0 - r + TINY)*(1.0 + r + TINY)))\n",
      "/anaconda3/lib/python3.6/site-packages/scipy/stats/_stats_mstats_common.py:119: RuntimeWarning: invalid value encountered in sqrt\n",
      "  sterrest = np.sqrt((1 - r**2) * ssym / ssxm / df)\n"
     ]
    },
    {
     "data": {
      "text/plain": [
       "LinregressResult(slope=0.07887163551697175, intercept=0.20101507310449546, rvalue=0.9477292670550389, pvalue=nan, stderr=nan)"
      ]
     },
     "execution_count": 195,
     "metadata": {},
     "output_type": "execute_result"
    }
   ],
   "source": [
    "linregress(np.column_stack(linspace(0,10,11)), np.column_stack(salary_mean_norm[\"Total Salary Paid\"]))"
   ]
  },
  {
   "cell_type": "code",
   "execution_count": 178,
   "metadata": {},
   "outputs": [
    {
     "data": {
      "text/plain": [
       "array([[ 0.,  1.,  2.,  3.,  4.,  5.,  6.,  7.,  8.,  9., 10.]])"
      ]
     },
     "execution_count": 178,
     "metadata": {},
     "output_type": "execute_result"
    }
   ],
   "source": [
    "np.column_stack(linspace(0,10,11))"
   ]
  },
  {
   "cell_type": "code",
   "execution_count": 179,
   "metadata": {},
   "outputs": [
    {
     "data": {
      "text/plain": [
       "(11, 1)"
      ]
     },
     "execution_count": 179,
     "metadata": {},
     "output_type": "execute_result"
    }
   ],
   "source": [
    "salary_mean.shape"
   ]
  },
  {
   "cell_type": "code",
   "execution_count": 197,
   "metadata": {},
   "outputs": [
    {
     "data": {
      "text/plain": [
       "array([[39314.82906565, 45896.4623022 , 48360.71741126, 48311.35551131,\n",
       "        47868.01153203, 50465.34623521, 51707.09528695, 52524.66760504,\n",
       "        53306.32709834, 55738.68204296, 57397.95954074]])"
      ]
     },
     "execution_count": 197,
     "metadata": {},
     "output_type": "execute_result"
    }
   ],
   "source": [
    "np.column_stack(salary_mean[\"Total Salary Paid\"])"
   ]
  },
  {
   "cell_type": "code",
   "execution_count": 198,
   "metadata": {},
   "outputs": [
    {
     "name": "stderr",
     "output_type": "stream",
     "text": [
      "/anaconda3/lib/python3.6/site-packages/scipy/stats/_stats_mstats_common.py:117: RuntimeWarning: invalid value encountered in sqrt\n",
      "  t = r * np.sqrt(df / ((1.0 - r + TINY)*(1.0 + r + TINY)))\n",
      "/anaconda3/lib/python3.6/site-packages/scipy/stats/_stats_mstats_common.py:119: RuntimeWarning: invalid value encountered in sqrt\n",
      "  sterrest = np.sqrt((1 - r**2) * ssym / ssxm / df)\n"
     ]
    },
    {
     "data": {
      "text/plain": [
       "LinregressResult(slope=0.07887163551697175, intercept=0.20101507310449546, rvalue=0.9477292670550389, pvalue=nan, stderr=nan)"
      ]
     },
     "execution_count": 198,
     "metadata": {},
     "output_type": "execute_result"
    }
   ],
   "source": [
    "linregress(np.column_stack(linspace(0,10,11)), np.column_stack(salary_mean_norm[\"Total Salary Paid\"]))"
   ]
  },
  {
   "cell_type": "code",
   "execution_count": 199,
   "metadata": {},
   "outputs": [
    {
     "data": {
      "text/plain": [
       "array([[ 0.,  1.,  2.,  3.,  4.,  5.,  6.,  7.,  8.,  9., 10.]])"
      ]
     },
     "execution_count": 199,
     "metadata": {},
     "output_type": "execute_result"
    }
   ],
   "source": [
    "np.column_stack(linspace(0,10,11))"
   ]
  },
  {
   "cell_type": "code",
   "execution_count": 200,
   "metadata": {},
   "outputs": [
    {
     "data": {
      "text/plain": [
       "array([[0.        , 0.36396537, 0.50023907, 0.49750935, 0.47299235,\n",
       "        0.61662538, 0.6852943 , 0.73050618, 0.77373207, 0.90824169,\n",
       "        1.        ]])"
      ]
     },
     "execution_count": 200,
     "metadata": {},
     "output_type": "execute_result"
    }
   ],
   "source": [
    "np.column_stack(salary_mean_norm[\"Total Salary Paid\"])"
   ]
  },
  {
   "cell_type": "code",
   "execution_count": 208,
   "metadata": {},
   "outputs": [
    {
     "ename": "TypeError",
     "evalue": "column_stack() takes 1 positional argument but 3 were given",
     "output_type": "error",
     "traceback": [
      "\u001b[0;31m---------------------------------------------------------------------------\u001b[0m",
      "\u001b[0;31mTypeError\u001b[0m                                 Traceback (most recent call last)",
      "\u001b[0;32m<ipython-input-208-e98d323ee10a>\u001b[0m in \u001b[0;36m<module>\u001b[0;34m()\u001b[0m\n\u001b[0;32m----> 1\u001b[0;31m \u001b[0mlinregress\u001b[0m\u001b[0;34m(\u001b[0m\u001b[0mnp\u001b[0m\u001b[0;34m.\u001b[0m\u001b[0mcolumn_stack\u001b[0m\u001b[0;34m(\u001b[0m\u001b[0;36m0\u001b[0m\u001b[0;34m,\u001b[0m \u001b[0;36m10\u001b[0m\u001b[0;34m,\u001b[0m \u001b[0;36m11\u001b[0m\u001b[0;34m)\u001b[0m\u001b[0;34m,\u001b[0m \u001b[0mnp\u001b[0m\u001b[0;34m.\u001b[0m\u001b[0mcolumn_stack\u001b[0m\u001b[0;34m(\u001b[0m\u001b[0minflation_norm\u001b[0m\u001b[0;34m[\u001b[0m\u001b[0;34m\"Inflation Rate\"\u001b[0m\u001b[0;34m]\u001b[0m\u001b[0;34m.\u001b[0m\u001b[0mvalues\u001b[0m\u001b[0;34m)\u001b[0m\u001b[0;34m)\u001b[0m\u001b[0;34m\u001b[0m\u001b[0m\n\u001b[0m",
      "\u001b[0;31mTypeError\u001b[0m: column_stack() takes 1 positional argument but 3 were given"
     ]
    }
   ],
   "source": [
    "linregress(np.column_stack(0, 10, 11), np.column_stack(inflation_norm[\"Inflation Rate\"].values))"
   ]
  },
  {
   "cell_type": "code",
   "execution_count": 214,
   "metadata": {},
   "outputs": [
    {
     "data": {
      "text/plain": [
       "[<matplotlib.lines.Line2D at 0x1a3fc63128>]"
      ]
     },
     "execution_count": 214,
     "metadata": {},
     "output_type": "execute_result"
    },
    {
     "data": {
      "image/png": "[encoded data removed]",
      "text/plain": [
       "<matplotlib.figure.Figure at 0x1a3fe318d0>"
      ]
     },
     "metadata": {},
     "output_type": "display_data"
    }
   ],
   "source": [
    "plt.plot(inflation_rate_norm[\"Inflation Rate\"])"
   ]
  },
  {
   "cell_type": "code",
   "execution_count": 216,
   "metadata": {
    "scrolled": true
   },
   "outputs": [
    {
     "name": "stderr",
     "output_type": "stream",
     "text": [
      "/anaconda3/lib/python3.6/site-packages/scipy/stats/_stats_mstats_common.py:117: RuntimeWarning: invalid value encountered in sqrt\n",
      "  t = r * np.sqrt(df / ((1.0 - r + TINY)*(1.0 + r + TINY)))\n",
      "/anaconda3/lib/python3.6/site-packages/scipy/stats/_stats_mstats_common.py:119: RuntimeWarning: invalid value encountered in sqrt\n",
      "  sterrest = np.sqrt((1 - r**2) * ssym / ssxm / df)\n"
     ]
    },
    {
     "data": {
      "text/plain": [
       "LinregressResult(slope=0.07887163551697175, intercept=0.20101507310449546, rvalue=0.9477292670550389, pvalue=nan, stderr=nan)"
      ]
     },
     "execution_count": 216,
     "metadata": {},
     "output_type": "execute_result"
    }
   ],
   "source": [
    "linregress(np.column_stack(linspace(0,10,11)), np.column_stack(salary_mean_norm[\"Total Salary Paid\"]))"
   ]
  },
  {
   "cell_type": "code",
   "execution_count": 217,
   "metadata": {},
   "outputs": [
    {
     "data": {
      "text/plain": [
       "Fiscal Year\n",
       "2007-01-01    0.000000\n",
       "2008-01-01    0.363965\n",
       "2009-01-01    0.500239\n",
       "2010-01-01    0.497509\n",
       "2011-01-01    0.472992\n",
       "2012-01-01    0.616625\n",
       "2013-01-01    0.685294\n",
       "2014-01-01    0.730506\n",
       "2015-01-01    0.773732\n",
       "2016-01-01    0.908242\n",
       "2017-01-01    1.000000\n",
       "Name: Total Salary Paid, dtype: float64"
      ]
     },
     "execution_count": 217,
     "metadata": {},
     "output_type": "execute_result"
    }
   ],
   "source": [
    "salary_mean_norm[\"Total Salary Paid\"]"
   ]
  },
  {
   "cell_type": "code",
   "execution_count": 218,
   "metadata": {},
   "outputs": [
    {
     "data": {
      "text/plain": [
       "array([ 0.,  1.,  2.,  3.,  4.,  5.,  6.,  7.,  8.,  9., 10.])"
      ]
     },
     "execution_count": 218,
     "metadata": {},
     "output_type": "execute_result"
    }
   ],
   "source": [
    "linspace(0,10,11)"
   ]
  },
  {
   "cell_type": "code",
   "execution_count": 219,
   "metadata": {},
   "outputs": [
    {
     "data": {
      "text/plain": [
       "Fiscal Year\n",
       "2007-01-01    1.000000\n",
       "2008-01-01    1.000000\n",
       "2009-01-01    0.538462\n",
       "2010-01-01    0.000000\n",
       "2011-01-01    0.538462\n",
       "2012-01-01    0.846154\n",
       "2013-01-01    0.615385\n",
       "2014-01-01    0.538462\n",
       "2015-01-01    0.615385\n",
       "2016-01-01    0.923077\n",
       "2017-01-01    0.615385\n",
       "Name: Inflation Rate, dtype: float64"
      ]
     },
     "execution_count": 219,
     "metadata": {},
     "output_type": "execute_result"
    }
   ],
   "source": [
    "inflation_rate_norm[\"Inflation Rate\"]"
   ]
  },
  {
   "cell_type": "code",
   "execution_count": null,
   "metadata": {},
   "outputs": [],
   "source": []
  },
  {
   "cell_type": "code",
   "execution_count": null,
   "metadata": {},
   "outputs": [],
   "source": []
  }
 ],
 "metadata": {
  "kernelspec": {
   "display_name": "Python 3",
   "language": "python",
   "name": "python3"
  },
  "language_info": {
   "codemirror_mode": {
    "name": "ipython",
    "version": 3
   },
   "file_extension": ".py",
   "mimetype": "text/x-python",
   "name": "python",
   "nbconvert_exporter": "python",
   "pygments_lexer": "ipython3",
   "version": "3.6.4"
  }
 },
 "nbformat": 4,
 "nbformat_minor": 2
}
