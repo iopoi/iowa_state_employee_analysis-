{
 "cells": [
  {
   "cell_type": "markdown",
   "metadata": {},
   "source": [
    "# 1) Dataset Exploration"
   ]
  },
  {
   "cell_type": "code",
   "execution_count": 4,
   "metadata": {
    "collapsed": false
   },
   "outputs": [],
   "source": [
    "import math\n",
    "import numpy as np\n",
    "import pandas as pd\n",
    "import matplotlib.pyplot as plt\n",
    "import seaborn as sns\n",
    "from scipy import stats\n",
    "from scipy.interpolate import UnivariateSpline\n",
    "\n",
    "color = sns.color_palette()\n",
    "\n",
    "%matplotlib inline"
   ]
  },
  {
   "cell_type": "code",
   "execution_count": 5,
   "metadata": {
    "collapsed": true
   },
   "outputs": [],
   "source": [
    "path = \"iowa_data.csv\""
   ]
  },
  {
   "cell_type": "code",
   "execution_count": 6,
   "metadata": {
    "collapsed": false,
    "scrolled": true
   },
   "outputs": [],
   "source": [
    "# read csv\n",
    "data = pd.read_csv(path)"
   ]
  },
  {
   "cell_type": "code",
   "execution_count": 7,
   "metadata": {
    "collapsed": false
   },
   "outputs": [
    {
     "data": {
      "text/plain": [
       "Index([u'Fiscal Year', u'Department', u'Agency/Institution', u'Name',\n",
       "       u'Gender', u'Place of Residence', u'Position',\n",
       "       u'Base Salary Payment Method', u'Base Salary Payment Amount',\n",
       "       u'Base Salary Date', u'Total Salary Paid', u'Travel & Subsistence'],\n",
       "      dtype='object')"
      ]
     },
     "execution_count": 7,
     "metadata": {},
     "output_type": "execute_result"
    }
   ],
   "source": [
    "data.columns"
   ]
  },
  {
   "cell_type": "code",
   "execution_count": 8,
   "metadata": {
    "collapsed": false
   },
   "outputs": [
    {
     "data": {
      "text/plain": [
       "(665325, 12)"
      ]
     },
     "execution_count": 8,
     "metadata": {},
     "output_type": "execute_result"
    }
   ],
   "source": [
    "data.shape"
   ]
  },
  {
   "cell_type": "code",
   "execution_count": 9,
   "metadata": {
    "collapsed": false
   },
   "outputs": [
    {
     "data": {
      "text/html": [
       "<div>\n",
       "<style>\n",
       "    .dataframe thead tr:only-child th {\n",
       "        text-align: right;\n",
       "    }\n",
       "\n",
       "    .dataframe thead th {\n",
       "        text-align: left;\n",
       "    }\n",
       "\n",
       "    .dataframe tbody tr th {\n",
       "        vertical-align: top;\n",
       "    }\n",
       "</style>\n",
       "<table border=\"1\" class=\"dataframe\">\n",
       "  <thead>\n",
       "    <tr style=\"text-align: right;\">\n",
       "      <th></th>\n",
       "      <th>Fiscal Year</th>\n",
       "      <th>Department</th>\n",
       "      <th>Agency/Institution</th>\n",
       "      <th>Name</th>\n",
       "      <th>Gender</th>\n",
       "      <th>Place of Residence</th>\n",
       "      <th>Position</th>\n",
       "      <th>Base Salary Payment Method</th>\n",
       "      <th>Base Salary Payment Amount</th>\n",
       "      <th>Base Salary Date</th>\n",
       "      <th>Total Salary Paid</th>\n",
       "      <th>Travel &amp; Subsistence</th>\n",
       "    </tr>\n",
       "  </thead>\n",
       "  <tbody>\n",
       "    <tr>\n",
       "      <th>0</th>\n",
       "      <td>2007-01-01</td>\n",
       "      <td>Administrative Services, Department of</td>\n",
       "      <td>NaN</td>\n",
       "      <td>ABELS BEVERLY J</td>\n",
       "      <td>F</td>\n",
       "      <td>POLK</td>\n",
       "      <td>ADVANCED PERSONNEL MGMT</td>\n",
       "      <td>HR</td>\n",
       "      <td>31.62</td>\n",
       "      <td>2007-07-01</td>\n",
       "      <td>6462.34</td>\n",
       "      <td>NaN</td>\n",
       "    </tr>\n",
       "    <tr>\n",
       "      <th>1</th>\n",
       "      <td>2007-01-01</td>\n",
       "      <td>Administrative Services, Department of</td>\n",
       "      <td>NaN</td>\n",
       "      <td>ABRAMS JERRY A</td>\n",
       "      <td>M</td>\n",
       "      <td>WAPELLO</td>\n",
       "      <td>EARLY OUT POSITION</td>\n",
       "      <td>TERMINATED</td>\n",
       "      <td>NaN</td>\n",
       "      <td>2007-07-01</td>\n",
       "      <td>4242.82</td>\n",
       "      <td>NaN</td>\n",
       "    </tr>\n",
       "    <tr>\n",
       "      <th>2</th>\n",
       "      <td>2007-01-01</td>\n",
       "      <td>Administrative Services, Department of</td>\n",
       "      <td>NaN</td>\n",
       "      <td>ADAMS CAROL L</td>\n",
       "      <td>F</td>\n",
       "      <td>MITCHELL</td>\n",
       "      <td>ADVANCED PERSONNEL MGMT</td>\n",
       "      <td>BW</td>\n",
       "      <td>2212.80</td>\n",
       "      <td>2007-07-01</td>\n",
       "      <td>55065.60</td>\n",
       "      <td>924.44</td>\n",
       "    </tr>\n",
       "    <tr>\n",
       "      <th>3</th>\n",
       "      <td>2007-01-01</td>\n",
       "      <td>Administrative Services, Department of</td>\n",
       "      <td>NaN</td>\n",
       "      <td>ADAMS JEANNIE R</td>\n",
       "      <td>F</td>\n",
       "      <td>POLK</td>\n",
       "      <td>ACCOUNTING TECHNICIAN 2</td>\n",
       "      <td>BW</td>\n",
       "      <td>1226.40</td>\n",
       "      <td>2007-07-01</td>\n",
       "      <td>30800.83</td>\n",
       "      <td>6.80</td>\n",
       "    </tr>\n",
       "    <tr>\n",
       "      <th>4</th>\n",
       "      <td>2007-01-01</td>\n",
       "      <td>Administrative Services, Department of</td>\n",
       "      <td>NaN</td>\n",
       "      <td>ADAMS NED J</td>\n",
       "      <td>M</td>\n",
       "      <td>POLK</td>\n",
       "      <td>EARLY OUT POSITION</td>\n",
       "      <td>TERMINATED</td>\n",
       "      <td>NaN</td>\n",
       "      <td>2007-07-01</td>\n",
       "      <td>10634.33</td>\n",
       "      <td>NaN</td>\n",
       "    </tr>\n",
       "  </tbody>\n",
       "</table>\n",
       "</div>"
      ],
      "text/plain": [
       "  Fiscal Year                               Department Agency/Institution  \\\n",
       "0  2007-01-01  Administrative Services, Department of                 NaN   \n",
       "1  2007-01-01  Administrative Services, Department of                 NaN   \n",
       "2  2007-01-01  Administrative Services, Department of                 NaN   \n",
       "3  2007-01-01  Administrative Services, Department of                 NaN   \n",
       "4  2007-01-01  Administrative Services, Department of                 NaN   \n",
       "\n",
       "              Name Gender Place of Residence                 Position  \\\n",
       "0  ABELS BEVERLY J      F               POLK  ADVANCED PERSONNEL MGMT   \n",
       "1   ABRAMS JERRY A      M            WAPELLO       EARLY OUT POSITION   \n",
       "2    ADAMS CAROL L      F           MITCHELL  ADVANCED PERSONNEL MGMT   \n",
       "3  ADAMS JEANNIE R      F               POLK  ACCOUNTING TECHNICIAN 2   \n",
       "4      ADAMS NED J      M               POLK       EARLY OUT POSITION   \n",
       "\n",
       "  Base Salary Payment Method  Base Salary Payment Amount Base Salary Date  \\\n",
       "0                         HR                       31.62       2007-07-01   \n",
       "1                 TERMINATED                         NaN       2007-07-01   \n",
       "2                         BW                     2212.80       2007-07-01   \n",
       "3                         BW                     1226.40       2007-07-01   \n",
       "4                 TERMINATED                         NaN       2007-07-01   \n",
       "\n",
       "   Total Salary Paid  Travel & Subsistence  \n",
       "0            6462.34                   NaN  \n",
       "1            4242.82                   NaN  \n",
       "2           55065.60                924.44  \n",
       "3           30800.83                  6.80  \n",
       "4           10634.33                   NaN  "
      ]
     },
     "execution_count": 9,
     "metadata": {},
     "output_type": "execute_result"
    }
   ],
   "source": [
    "data.head()"
   ]
  },
  {
   "cell_type": "code",
   "execution_count": 10,
   "metadata": {
    "collapsed": false
   },
   "outputs": [
    {
     "data": {
      "image/png": "[encoded data removed]",
      "text/plain": [
       "<matplotlib.figure.Figure at 0x140480f0>"
      ]
     },
     "metadata": {},
     "output_type": "display_data"
    }
   ],
   "source": [
    "plt.figure(figsize=(8,6))\n",
    "plt.scatter(range(data.shape[0]), np.sort(data[\"Total Salary Paid\"].values))\n",
    "plt.xlabel('index', fontsize=12)\n",
    "plt.ylabel('total salary paid', fontsize=12)\n",
    "plt.title(\"Total Salary Paid\")\n",
    "plt.show()"
   ]
  },
  {
   "cell_type": "code",
   "execution_count": 11,
   "metadata": {
    "collapsed": false
   },
   "outputs": [
    {
     "data": {
      "text/plain": [
       "array(['2007-07-01', '2008-07-01', '2009-07-01', '2010-07-01',\n",
       "       '2011-07-01', '2012-07-01', '2013-07-01', '2014-07-01',\n",
       "       '2015-07-01', '2016-07-01', '2017-07-01'], dtype=object)"
      ]
     },
     "execution_count": 11,
     "metadata": {},
     "output_type": "execute_result"
    }
   ],
   "source": [
    "data[\"Base Salary Date\"].unique()"
   ]
  },
  {
   "cell_type": "markdown",
   "metadata": {},
   "source": [
    "Everyone starts in July"
   ]
  },
  {
   "cell_type": "code",
   "execution_count": 12,
   "metadata": {
    "collapsed": false
   },
   "outputs": [
    {
     "data": {
      "image/png": "[encoded data removed]",
      "text/plain": [
       "<matplotlib.figure.Figure at 0x1404f2e8>"
      ]
     },
     "metadata": {},
     "output_type": "display_data"
    }
   ],
   "source": [
    "data[\"Base Salary Date\"] = pd.to_datetime(data[\"Base Salary Date\"], errors=\"coerce\")\n",
    "data[\"Start Month\"] =  data[\"Base Salary Date\"].dt.month\n",
    "cnt_srs = data[\"Start Month\"].value_counts()\n",
    "plt.figure(figsize=(12,6))\n",
    "sns.barplot(cnt_srs.index, cnt_srs.values, alpha=0.8, color=color[3])\n",
    "plt.xticks(rotation='vertical')\n",
    "plt.xlabel('Month of Start Date', fontsize=12)\n",
    "plt.ylabel('Frequency', fontsize=12)\n",
    "plt.title(\"Start Months\")\n",
    "plt.show()"
   ]
  },
  {
   "cell_type": "markdown",
   "metadata": {},
   "source": [
    "Most names/people only appear 1 in the dataset, only 1 person appeared 32 times"
   ]
  },
  {
   "cell_type": "code",
   "execution_count": 13,
   "metadata": {
    "collapsed": false
   },
   "outputs": [
    {
     "data": {
      "text/plain": [
       "JONES JULIE A           32\n",
       "OLSON SUSAN M           30\n",
       "TAYLOR RICHARD D        25\n",
       "WILLIAMS JOHN W         24\n",
       "KATES,KENNETH PHILIP    24\n",
       "Name: Name, dtype: int64"
      ]
     },
     "execution_count": 13,
     "metadata": {},
     "output_type": "execute_result"
    }
   ],
   "source": [
    "data[\"Name\"].value_counts().head()"
   ]
  },
  {
   "cell_type": "code",
   "execution_count": 14,
   "metadata": {
    "collapsed": false
   },
   "outputs": [
    {
     "data": {
      "text/plain": [
       "1     72774\n",
       "2     25917\n",
       "10    13737\n",
       "3     13488\n",
       "11    10468\n",
       "4      9716\n",
       "9      7136\n",
       "5      6662\n",
       "6      5337\n",
       "7      4702\n",
       "8      4385\n",
       "12      649\n",
       "13      129\n",
       "14       32\n",
       "15       17\n",
       "16       10\n",
       "20       10\n",
       "17        9\n",
       "19        9\n",
       "21        6\n",
       "18        4\n",
       "22        3\n",
       "24        3\n",
       "23        2\n",
       "30        1\n",
       "25        1\n",
       "32        1\n",
       "Name: Name, dtype: int64"
      ]
     },
     "execution_count": 14,
     "metadata": {},
     "output_type": "execute_result"
    }
   ],
   "source": [
    "(data[\"Name\"].value_counts().reset_index())['Name'].value_counts()"
   ]
  },
  {
   "cell_type": "markdown",
   "metadata": {},
   "source": [
    "Oddly enough less people started working after 2007, what could have happened?"
   ]
  },
  {
   "cell_type": "code",
   "execution_count": 15,
   "metadata": {
    "collapsed": false
   },
   "outputs": [
    {
     "data": {
      "image/png": "[encoded data removed]",
      "text/plain": [
       "<matplotlib.figure.Figure at 0x3e99198>"
      ]
     },
     "metadata": {},
     "output_type": "display_data"
    }
   ],
   "source": [
    "data[\"Start Year\"] =  data[\"Base Salary Date\"].dt.year\n",
    "cnt_srs = data[\"Start Year\"].value_counts()\n",
    "plt.figure(figsize=(12,6))\n",
    "sns.barplot(cnt_srs.index, cnt_srs.values, alpha=0.8, color=color[3])\n",
    "plt.xticks(rotation='vertical')\n",
    "plt.xlabel('Year of Start Date', fontsize=12)\n",
    "plt.ylabel('Frequency', fontsize=12)\n",
    "plt.title(\"Start Years\")\n",
    "plt.show()"
   ]
  },
  {
   "cell_type": "markdown",
   "metadata": {},
   "source": [
    "Which columns are missing the most data?"
   ]
  },
  {
   "cell_type": "code",
   "execution_count": 16,
   "metadata": {
    "collapsed": false
   },
   "outputs": [
    {
     "data": {
      "image/png": "[encoded data removed]",
      "text/plain": [
       "<matplotlib.figure.Figure at 0x11742a58>"
      ]
     },
     "metadata": {},
     "output_type": "display_data"
    }
   ],
   "source": [
    "missing_df = data.isnull().sum(axis=0).reset_index()\n",
    "missing_df.columns = ['column_name', 'missing_count']\n",
    "missing_df = missing_df.loc[missing_df['missing_count']>0]\n",
    "missing_df = missing_df.sort_values(by='missing_count')\n",
    "\n",
    "ind = np.arange(missing_df.shape[0])\n",
    "width = 0.9\n",
    "fig, ax = plt.subplots(figsize=(12,18))\n",
    "rects = ax.barh(ind, missing_df.missing_count.values, color='blue')\n",
    "ax.set_yticks(ind)\n",
    "ax.set_yticklabels(missing_df.column_name.values, rotation='horizontal')\n",
    "ax.set_xlabel(\"Count of missing values\")\n",
    "ax.set_title(\"Number of missing values in each column\")\n",
    "plt.show()"
   ]
  },
  {
   "cell_type": "code",
   "execution_count": 17,
   "metadata": {
    "collapsed": false
   },
   "outputs": [
    {
     "data": {
      "text/html": [
       "<div>\n",
       "<style>\n",
       "    .dataframe thead tr:only-child th {\n",
       "        text-align: right;\n",
       "    }\n",
       "\n",
       "    .dataframe thead th {\n",
       "        text-align: left;\n",
       "    }\n",
       "\n",
       "    .dataframe tbody tr th {\n",
       "        vertical-align: top;\n",
       "    }\n",
       "</style>\n",
       "<table border=\"1\" class=\"dataframe\">\n",
       "  <thead>\n",
       "    <tr style=\"text-align: right;\">\n",
       "      <th></th>\n",
       "      <th>column_name</th>\n",
       "      <th>missing_count</th>\n",
       "    </tr>\n",
       "  </thead>\n",
       "  <tbody>\n",
       "    <tr>\n",
       "      <th>4</th>\n",
       "      <td>Gender</td>\n",
       "      <td>270</td>\n",
       "    </tr>\n",
       "    <tr>\n",
       "      <th>10</th>\n",
       "      <td>Total Salary Paid</td>\n",
       "      <td>635</td>\n",
       "    </tr>\n",
       "    <tr>\n",
       "      <th>6</th>\n",
       "      <td>Position</td>\n",
       "      <td>1418</td>\n",
       "    </tr>\n",
       "    <tr>\n",
       "      <th>5</th>\n",
       "      <td>Place of Residence</td>\n",
       "      <td>7425</td>\n",
       "    </tr>\n",
       "    <tr>\n",
       "      <th>8</th>\n",
       "      <td>Base Salary Payment Amount</td>\n",
       "      <td>110124</td>\n",
       "    </tr>\n",
       "    <tr>\n",
       "      <th>11</th>\n",
       "      <td>Travel &amp; Subsistence</td>\n",
       "      <td>113190</td>\n",
       "    </tr>\n",
       "    <tr>\n",
       "      <th>7</th>\n",
       "      <td>Base Salary Payment Method</td>\n",
       "      <td>353712</td>\n",
       "    </tr>\n",
       "    <tr>\n",
       "      <th>2</th>\n",
       "      <td>Agency/Institution</td>\n",
       "      <td>456930</td>\n",
       "    </tr>\n",
       "  </tbody>\n",
       "</table>\n",
       "</div>"
      ],
      "text/plain": [
       "                   column_name  missing_count\n",
       "4                       Gender            270\n",
       "10           Total Salary Paid            635\n",
       "6                     Position           1418\n",
       "5           Place of Residence           7425\n",
       "8   Base Salary Payment Amount         110124\n",
       "11        Travel & Subsistence         113190\n",
       "7   Base Salary Payment Method         353712\n",
       "2           Agency/Institution         456930"
      ]
     },
     "execution_count": 17,
     "metadata": {},
     "output_type": "execute_result"
    }
   ],
   "source": [
    "missing_df"
   ]
  },
  {
   "cell_type": "code",
   "execution_count": 18,
   "metadata": {
    "collapsed": false
   },
   "outputs": [
    {
     "data": {
      "text/html": [
       "<div>\n",
       "<style>\n",
       "    .dataframe thead tr:only-child th {\n",
       "        text-align: right;\n",
       "    }\n",
       "\n",
       "    .dataframe thead th {\n",
       "        text-align: left;\n",
       "    }\n",
       "\n",
       "    .dataframe tbody tr th {\n",
       "        vertical-align: top;\n",
       "    }\n",
       "</style>\n",
       "<table border=\"1\" class=\"dataframe\">\n",
       "  <thead>\n",
       "    <tr style=\"text-align: right;\">\n",
       "      <th></th>\n",
       "      <th>Count</th>\n",
       "      <th>Column Type</th>\n",
       "    </tr>\n",
       "  </thead>\n",
       "  <tbody>\n",
       "    <tr>\n",
       "      <th>0</th>\n",
       "      <td>Fiscal Year</td>\n",
       "      <td>object</td>\n",
       "    </tr>\n",
       "    <tr>\n",
       "      <th>1</th>\n",
       "      <td>Department</td>\n",
       "      <td>object</td>\n",
       "    </tr>\n",
       "    <tr>\n",
       "      <th>2</th>\n",
       "      <td>Agency/Institution</td>\n",
       "      <td>object</td>\n",
       "    </tr>\n",
       "    <tr>\n",
       "      <th>3</th>\n",
       "      <td>Name</td>\n",
       "      <td>object</td>\n",
       "    </tr>\n",
       "    <tr>\n",
       "      <th>4</th>\n",
       "      <td>Gender</td>\n",
       "      <td>object</td>\n",
       "    </tr>\n",
       "    <tr>\n",
       "      <th>5</th>\n",
       "      <td>Place of Residence</td>\n",
       "      <td>object</td>\n",
       "    </tr>\n",
       "    <tr>\n",
       "      <th>6</th>\n",
       "      <td>Position</td>\n",
       "      <td>object</td>\n",
       "    </tr>\n",
       "    <tr>\n",
       "      <th>7</th>\n",
       "      <td>Base Salary Payment Method</td>\n",
       "      <td>object</td>\n",
       "    </tr>\n",
       "    <tr>\n",
       "      <th>8</th>\n",
       "      <td>Base Salary Payment Amount</td>\n",
       "      <td>float64</td>\n",
       "    </tr>\n",
       "    <tr>\n",
       "      <th>9</th>\n",
       "      <td>Base Salary Date</td>\n",
       "      <td>datetime64[ns]</td>\n",
       "    </tr>\n",
       "    <tr>\n",
       "      <th>10</th>\n",
       "      <td>Total Salary Paid</td>\n",
       "      <td>float64</td>\n",
       "    </tr>\n",
       "    <tr>\n",
       "      <th>11</th>\n",
       "      <td>Travel &amp; Subsistence</td>\n",
       "      <td>float64</td>\n",
       "    </tr>\n",
       "    <tr>\n",
       "      <th>12</th>\n",
       "      <td>Start Month</td>\n",
       "      <td>int64</td>\n",
       "    </tr>\n",
       "    <tr>\n",
       "      <th>13</th>\n",
       "      <td>Start Year</td>\n",
       "      <td>int64</td>\n",
       "    </tr>\n",
       "  </tbody>\n",
       "</table>\n",
       "</div>"
      ],
      "text/plain": [
       "                         Count     Column Type\n",
       "0                  Fiscal Year          object\n",
       "1                   Department          object\n",
       "2           Agency/Institution          object\n",
       "3                         Name          object\n",
       "4                       Gender          object\n",
       "5           Place of Residence          object\n",
       "6                     Position          object\n",
       "7   Base Salary Payment Method          object\n",
       "8   Base Salary Payment Amount         float64\n",
       "9             Base Salary Date  datetime64[ns]\n",
       "10           Total Salary Paid         float64\n",
       "11        Travel & Subsistence         float64\n",
       "12                 Start Month           int64\n",
       "13                  Start Year           int64"
      ]
     },
     "execution_count": 18,
     "metadata": {},
     "output_type": "execute_result"
    }
   ],
   "source": [
    "dtype_df = data.dtypes.reset_index()\n",
    "dtype_df.columns = [\"Count\", \"Column Type\"]\n",
    "dtype_df"
   ]
  },
  {
   "cell_type": "markdown",
   "metadata": {},
   "source": [
    "All the tax years start in January"
   ]
  },
  {
   "cell_type": "code",
   "execution_count": 19,
   "metadata": {
    "collapsed": false
   },
   "outputs": [
    {
     "data": {
      "image/png": "[encoded data removed]",
      "text/plain": [
       "<matplotlib.figure.Figure at 0x13849320>"
      ]
     },
     "metadata": {},
     "output_type": "display_data"
    }
   ],
   "source": [
    "data[\"Fiscal Year\"] = pd.to_datetime(data[\"Fiscal Year\"], errors=\"coerce\")\n",
    "data[\"Tax Year\"] =  data[\"Fiscal Year\"].dt.year\n",
    "cnt_srs = data[\"Tax Year\"].value_counts()\n",
    "plt.figure(figsize=(12,6))\n",
    "sns.barplot(cnt_srs.index, cnt_srs.values, alpha=0.8, color=color[3])\n",
    "plt.xticks(rotation='vertical')\n",
    "plt.xlabel('Tax Year', fontsize=12)\n",
    "plt.ylabel('Frequency', fontsize=12)\n",
    "plt.title(\"Tax Years\")\n",
    "plt.show()"
   ]
  },
  {
   "cell_type": "code",
   "execution_count": 20,
   "metadata": {
    "collapsed": false
   },
   "outputs": [
    {
     "data": {
      "image/png": "[encoded data removed]",
      "text/plain": [
       "<matplotlib.figure.Figure at 0xffb2f28>"
      ]
     },
     "metadata": {},
     "output_type": "display_data"
    }
   ],
   "source": [
    "data[\"Tax Month\"] =  data[\"Fiscal Year\"].dt.month\n",
    "cnt_srs = data[\"Tax Month\"].value_counts()\n",
    "plt.figure(figsize=(12,6))\n",
    "sns.barplot(cnt_srs.index, cnt_srs.values, alpha=0.8, color=color[3])\n",
    "plt.xticks(rotation='vertical')\n",
    "plt.xlabel('Tax Month', fontsize=12)\n",
    "plt.ylabel('Frequency', fontsize=12)\n",
    "plt.title(\"Tax Months\")\n",
    "plt.show()"
   ]
  },
  {
   "cell_type": "markdown",
   "metadata": {},
   "source": [
    "Conclusion: the tax year and salary year can be combined into one column"
   ]
  },
  {
   "cell_type": "markdown",
   "metadata": {},
   "source": [
    "The other gender types are insignificant compared to the main gender types, will probably drop them from the analysis"
   ]
  },
  {
   "cell_type": "code",
   "execution_count": 21,
   "metadata": {
    "collapsed": false
   },
   "outputs": [
    {
     "data": {
      "image/png": "[encoded data removed]",
      "text/plain": [
       "<matplotlib.figure.Figure at 0xffb2978>"
      ]
     },
     "metadata": {},
     "output_type": "display_data"
    }
   ],
   "source": [
    "plt.figure(figsize=(12,8))\n",
    "sns.countplot(x=\"Gender\", data=data)\n",
    "plt.ylabel('Count', fontsize=12)\n",
    "plt.xlabel('Gender', fontsize=12)\n",
    "plt.xticks(rotation='vertical')\n",
    "plt.title(\"Frequency of Gender\", fontsize=15)\n",
    "plt.show()"
   ]
  },
  {
   "cell_type": "code",
   "execution_count": 22,
   "metadata": {
    "collapsed": false
   },
   "outputs": [
    {
     "data": {
      "text/plain": [
       "F     365135\n",
       "M     299869\n",
       "*         44\n",
       "U          5\n",
       "FM         1\n",
       "m          1\n",
       "Name: Gender, dtype: int64"
      ]
     },
     "execution_count": 22,
     "metadata": {},
     "output_type": "execute_result"
    }
   ],
   "source": [
    "data.Gender.value_counts()"
   ]
  },
  {
   "cell_type": "code",
   "execution_count": 23,
   "metadata": {
    "collapsed": false
   },
   "outputs": [
    {
     "data": {
      "image/png": "[encoded data removed]",
      "text/plain": [
       "<matplotlib.figure.Figure at 0x13ad7cf8>"
      ]
     },
     "metadata": {},
     "output_type": "display_data"
    }
   ],
   "source": [
    "plt.figure(figsize=(12,8))\n",
    "sns.countplot(x=\"Base Salary Payment Method\", data=data)\n",
    "plt.ylabel('Count', fontsize=12)\n",
    "plt.xlabel('Payment Method', fontsize=12)\n",
    "plt.xticks(rotation='vertical')\n",
    "plt.title(\"Frequency of Payment Methods\", fontsize=15)\n",
    "plt.show()"
   ]
  },
  {
   "cell_type": "code",
   "execution_count": 24,
   "metadata": {
    "collapsed": false
   },
   "outputs": [
    {
     "data": {
      "text/plain": [
       "BW            222943\n",
       "TERMINATED     41706\n",
       "HR             21943\n",
       "-0-            14655\n",
       "YR              7834\n",
       "DA              2190\n",
       "HRLY             106\n",
       "AN                86\n",
       "DAILY             64\n",
       "ON LEAVE          50\n",
       "Terminated        32\n",
       "PW                 2\n",
       "BM                 1\n",
       "893.00             1\n",
       "Name: Base Salary Payment Method, dtype: int64"
      ]
     },
     "execution_count": 24,
     "metadata": {},
     "output_type": "execute_result"
    }
   ],
   "source": [
    "data[\"Base Salary Payment Method\"].value_counts()"
   ]
  },
  {
   "cell_type": "markdown",
   "metadata": {},
   "source": [
    "Change the Terminated to TERMINATED, not documented very well\n",
    "Can we drop this column and just calculate hourly rate, hours worked?\n",
    "(As mentioned in chat)"
   ]
  },
  {
   "cell_type": "code",
   "execution_count": 25,
   "metadata": {
    "collapsed": false
   },
   "outputs": [
    {
     "data": {
      "text/plain": [
       "BW            222943\n",
       "TERMINATED     41738\n",
       "HR             21943\n",
       "-0-            14655\n",
       "YR              7834\n",
       "DA              2190\n",
       "HRLY             106\n",
       "AN                86\n",
       "DAILY             64\n",
       "ON LEAVE          50\n",
       "PW                 2\n",
       "BM                 1\n",
       "893.00             1\n",
       "Name: Base Salary Payment Method, dtype: int64"
      ]
     },
     "execution_count": 25,
     "metadata": {},
     "output_type": "execute_result"
    }
   ],
   "source": [
    "data.loc[data[\"Base Salary Payment Method\"] == \"Terminated\", \"Base Salary Payment Method\"] = \"TERMINATED\"\n",
    "data[\"Base Salary Payment Method\"].value_counts()"
   ]
  },
  {
   "cell_type": "code",
   "execution_count": 26,
   "metadata": {
    "collapsed": false
   },
   "outputs": [
    {
     "data": {
      "text/plain": [
       "2000.00     435\n",
       "1600.00     423\n",
       "39437.84    397\n",
       "1000.00     373\n",
       "1500.00     363\n",
       "Name: Total Salary Paid, dtype: int64"
      ]
     },
     "execution_count": 26,
     "metadata": {},
     "output_type": "execute_result"
    }
   ],
   "source": [
    "data[\"Total Salary Paid\"].value_counts().head()"
   ]
  },
  {
   "cell_type": "code",
   "execution_count": 27,
   "metadata": {
    "collapsed": false
   },
   "outputs": [
    {
     "data": {
      "text/plain": [
       "84838.00    1\n",
       "63413.64    1\n",
       "56620.76    1\n",
       "59190.36    1\n",
       "65833.00    1\n",
       "Name: Total Salary Paid, dtype: int64"
      ]
     },
     "execution_count": 27,
     "metadata": {},
     "output_type": "execute_result"
    }
   ],
   "source": [
    "data[\"Total Salary Paid\"].value_counts().tail()"
   ]
  },
  {
   "cell_type": "markdown",
   "metadata": {},
   "source": [
    "635/665325 0.09 % of the data, we can choose to drop them  "
   ]
  },
  {
   "cell_type": "code",
   "execution_count": 28,
   "metadata": {
    "collapsed": false
   },
   "outputs": [],
   "source": [
    "missing_base_sal_df = data.loc[data[\"Total Salary Paid\"].isnull()]"
   ]
  },
  {
   "cell_type": "code",
   "execution_count": 29,
   "metadata": {
    "collapsed": false
   },
   "outputs": [
    {
     "data": {
      "text/html": [
       "<div>\n",
       "<style>\n",
       "    .dataframe thead tr:only-child th {\n",
       "        text-align: right;\n",
       "    }\n",
       "\n",
       "    .dataframe thead th {\n",
       "        text-align: left;\n",
       "    }\n",
       "\n",
       "    .dataframe tbody tr th {\n",
       "        vertical-align: top;\n",
       "    }\n",
       "</style>\n",
       "<table border=\"1\" class=\"dataframe\">\n",
       "  <thead>\n",
       "    <tr style=\"text-align: right;\">\n",
       "      <th></th>\n",
       "      <th>Fiscal Year</th>\n",
       "      <th>Department</th>\n",
       "      <th>Agency/Institution</th>\n",
       "      <th>Name</th>\n",
       "      <th>Gender</th>\n",
       "      <th>Place of Residence</th>\n",
       "      <th>Position</th>\n",
       "      <th>Base Salary Payment Method</th>\n",
       "      <th>Base Salary Payment Amount</th>\n",
       "      <th>Base Salary Date</th>\n",
       "      <th>Total Salary Paid</th>\n",
       "      <th>Travel &amp; Subsistence</th>\n",
       "      <th>Start Month</th>\n",
       "      <th>Start Year</th>\n",
       "      <th>Tax Year</th>\n",
       "      <th>Tax Month</th>\n",
       "    </tr>\n",
       "  </thead>\n",
       "  <tbody>\n",
       "    <tr>\n",
       "      <th>11881</th>\n",
       "      <td>2007-01-01</td>\n",
       "      <td>Iowa State University</td>\n",
       "      <td>NaN</td>\n",
       "      <td>CANNON ANN M</td>\n",
       "      <td>F</td>\n",
       "      <td>STORY</td>\n",
       "      <td>NaN</td>\n",
       "      <td>NaN</td>\n",
       "      <td>2763.98</td>\n",
       "      <td>2007-07-01</td>\n",
       "      <td>NaN</td>\n",
       "      <td>NaN</td>\n",
       "      <td>7</td>\n",
       "      <td>2007</td>\n",
       "      <td>2007</td>\n",
       "      <td>1</td>\n",
       "    </tr>\n",
       "    <tr>\n",
       "      <th>14257</th>\n",
       "      <td>2007-01-01</td>\n",
       "      <td>Iowa State University</td>\n",
       "      <td>NaN</td>\n",
       "      <td>ALEKSANDROVA SVETLIN</td>\n",
       "      <td>F</td>\n",
       "      <td>STORY</td>\n",
       "      <td>NaN</td>\n",
       "      <td>NaN</td>\n",
       "      <td>2734.78</td>\n",
       "      <td>2007-07-01</td>\n",
       "      <td>NaN</td>\n",
       "      <td>NaN</td>\n",
       "      <td>7</td>\n",
       "      <td>2007</td>\n",
       "      <td>2007</td>\n",
       "      <td>1</td>\n",
       "    </tr>\n",
       "    <tr>\n",
       "      <th>14263</th>\n",
       "      <td>2007-01-01</td>\n",
       "      <td>Iowa State University</td>\n",
       "      <td>NaN</td>\n",
       "      <td>ALEXANDER KATHRINE M</td>\n",
       "      <td>F</td>\n",
       "      <td>STORY</td>\n",
       "      <td>NaN</td>\n",
       "      <td>NaN</td>\n",
       "      <td>18409.20</td>\n",
       "      <td>2007-07-01</td>\n",
       "      <td>NaN</td>\n",
       "      <td>NaN</td>\n",
       "      <td>7</td>\n",
       "      <td>2007</td>\n",
       "      <td>2007</td>\n",
       "      <td>1</td>\n",
       "    </tr>\n",
       "    <tr>\n",
       "      <th>14319</th>\n",
       "      <td>2007-01-01</td>\n",
       "      <td>Iowa State University</td>\n",
       "      <td>NaN</td>\n",
       "      <td>ALMONTE ANA M</td>\n",
       "      <td>F</td>\n",
       "      <td>INGHAM</td>\n",
       "      <td>NaN</td>\n",
       "      <td>NaN</td>\n",
       "      <td>1790.71</td>\n",
       "      <td>2007-07-01</td>\n",
       "      <td>NaN</td>\n",
       "      <td>NaN</td>\n",
       "      <td>7</td>\n",
       "      <td>2007</td>\n",
       "      <td>2007</td>\n",
       "      <td>1</td>\n",
       "    </tr>\n",
       "    <tr>\n",
       "      <th>14330</th>\n",
       "      <td>2007-01-01</td>\n",
       "      <td>Iowa State University</td>\n",
       "      <td>NaN</td>\n",
       "      <td>ALTENHOFEN LINDSEY M</td>\n",
       "      <td>F</td>\n",
       "      <td>STORY</td>\n",
       "      <td>NaN</td>\n",
       "      <td>NaN</td>\n",
       "      <td>7493.61</td>\n",
       "      <td>2007-07-01</td>\n",
       "      <td>NaN</td>\n",
       "      <td>NaN</td>\n",
       "      <td>7</td>\n",
       "      <td>2007</td>\n",
       "      <td>2007</td>\n",
       "      <td>1</td>\n",
       "    </tr>\n",
       "    <tr>\n",
       "      <th>14352</th>\n",
       "      <td>2007-01-01</td>\n",
       "      <td>Iowa State University</td>\n",
       "      <td>NaN</td>\n",
       "      <td>AMOAKO RANDY OSEI</td>\n",
       "      <td>M</td>\n",
       "      <td>STORY</td>\n",
       "      <td>NaN</td>\n",
       "      <td>NaN</td>\n",
       "      <td>1777.72</td>\n",
       "      <td>2007-07-01</td>\n",
       "      <td>NaN</td>\n",
       "      <td>NaN</td>\n",
       "      <td>7</td>\n",
       "      <td>2007</td>\n",
       "      <td>2007</td>\n",
       "      <td>1</td>\n",
       "    </tr>\n",
       "    <tr>\n",
       "      <th>14363</th>\n",
       "      <td>2007-01-01</td>\n",
       "      <td>Iowa State University</td>\n",
       "      <td>NaN</td>\n",
       "      <td>ANDERSEN ASHLEY N</td>\n",
       "      <td>F</td>\n",
       "      <td>BROWARD</td>\n",
       "      <td>NaN</td>\n",
       "      <td>NaN</td>\n",
       "      <td>2254.25</td>\n",
       "      <td>2007-07-01</td>\n",
       "      <td>NaN</td>\n",
       "      <td>NaN</td>\n",
       "      <td>7</td>\n",
       "      <td>2007</td>\n",
       "      <td>2007</td>\n",
       "      <td>1</td>\n",
       "    </tr>\n",
       "    <tr>\n",
       "      <th>14377</th>\n",
       "      <td>2007-01-01</td>\n",
       "      <td>Iowa State University</td>\n",
       "      <td>NaN</td>\n",
       "      <td>ANDERSON ANTOINETTE</td>\n",
       "      <td>F</td>\n",
       "      <td>HINDS</td>\n",
       "      <td>NaN</td>\n",
       "      <td>NaN</td>\n",
       "      <td>2250.00</td>\n",
       "      <td>2007-07-01</td>\n",
       "      <td>NaN</td>\n",
       "      <td>NaN</td>\n",
       "      <td>7</td>\n",
       "      <td>2007</td>\n",
       "      <td>2007</td>\n",
       "      <td>1</td>\n",
       "    </tr>\n",
       "    <tr>\n",
       "      <th>14382</th>\n",
       "      <td>2007-01-01</td>\n",
       "      <td>Iowa State University</td>\n",
       "      <td>NaN</td>\n",
       "      <td>ANDERSON BETH ELLEN</td>\n",
       "      <td>F</td>\n",
       "      <td>STORY</td>\n",
       "      <td>NaN</td>\n",
       "      <td>NaN</td>\n",
       "      <td>3386.11</td>\n",
       "      <td>2007-07-01</td>\n",
       "      <td>NaN</td>\n",
       "      <td>NaN</td>\n",
       "      <td>7</td>\n",
       "      <td>2007</td>\n",
       "      <td>2007</td>\n",
       "      <td>1</td>\n",
       "    </tr>\n",
       "    <tr>\n",
       "      <th>14424</th>\n",
       "      <td>2007-01-01</td>\n",
       "      <td>Iowa State University</td>\n",
       "      <td>NaN</td>\n",
       "      <td>ANDERSON KARSTEN L</td>\n",
       "      <td>M</td>\n",
       "      <td>OLMSTED</td>\n",
       "      <td>NaN</td>\n",
       "      <td>NaN</td>\n",
       "      <td>1829.00</td>\n",
       "      <td>2007-07-01</td>\n",
       "      <td>NaN</td>\n",
       "      <td>NaN</td>\n",
       "      <td>7</td>\n",
       "      <td>2007</td>\n",
       "      <td>2007</td>\n",
       "      <td>1</td>\n",
       "    </tr>\n",
       "  </tbody>\n",
       "</table>\n",
       "</div>"
      ],
      "text/plain": [
       "      Fiscal Year             Department Agency/Institution  \\\n",
       "11881  2007-01-01  Iowa State University                NaN   \n",
       "14257  2007-01-01  Iowa State University                NaN   \n",
       "14263  2007-01-01  Iowa State University                NaN   \n",
       "14319  2007-01-01  Iowa State University                NaN   \n",
       "14330  2007-01-01  Iowa State University                NaN   \n",
       "14352  2007-01-01  Iowa State University                NaN   \n",
       "14363  2007-01-01  Iowa State University                NaN   \n",
       "14377  2007-01-01  Iowa State University                NaN   \n",
       "14382  2007-01-01  Iowa State University                NaN   \n",
       "14424  2007-01-01  Iowa State University                NaN   \n",
       "\n",
       "                       Name Gender Place of Residence Position  \\\n",
       "11881          CANNON ANN M      F              STORY      NaN   \n",
       "14257  ALEKSANDROVA SVETLIN      F              STORY      NaN   \n",
       "14263  ALEXANDER KATHRINE M      F              STORY      NaN   \n",
       "14319         ALMONTE ANA M      F             INGHAM      NaN   \n",
       "14330  ALTENHOFEN LINDSEY M      F              STORY      NaN   \n",
       "14352     AMOAKO RANDY OSEI      M              STORY      NaN   \n",
       "14363     ANDERSEN ASHLEY N      F            BROWARD      NaN   \n",
       "14377   ANDERSON ANTOINETTE      F              HINDS      NaN   \n",
       "14382   ANDERSON BETH ELLEN      F              STORY      NaN   \n",
       "14424    ANDERSON KARSTEN L      M            OLMSTED      NaN   \n",
       "\n",
       "      Base Salary Payment Method  Base Salary Payment Amount Base Salary Date  \\\n",
       "11881                        NaN                     2763.98       2007-07-01   \n",
       "14257                        NaN                     2734.78       2007-07-01   \n",
       "14263                        NaN                    18409.20       2007-07-01   \n",
       "14319                        NaN                     1790.71       2007-07-01   \n",
       "14330                        NaN                     7493.61       2007-07-01   \n",
       "14352                        NaN                     1777.72       2007-07-01   \n",
       "14363                        NaN                     2254.25       2007-07-01   \n",
       "14377                        NaN                     2250.00       2007-07-01   \n",
       "14382                        NaN                     3386.11       2007-07-01   \n",
       "14424                        NaN                     1829.00       2007-07-01   \n",
       "\n",
       "       Total Salary Paid  Travel & Subsistence  Start Month  Start Year  \\\n",
       "11881                NaN                   NaN            7        2007   \n",
       "14257                NaN                   NaN            7        2007   \n",
       "14263                NaN                   NaN            7        2007   \n",
       "14319                NaN                   NaN            7        2007   \n",
       "14330                NaN                   NaN            7        2007   \n",
       "14352                NaN                   NaN            7        2007   \n",
       "14363                NaN                   NaN            7        2007   \n",
       "14377                NaN                   NaN            7        2007   \n",
       "14382                NaN                   NaN            7        2007   \n",
       "14424                NaN                   NaN            7        2007   \n",
       "\n",
       "       Tax Year  Tax Month  \n",
       "11881      2007          1  \n",
       "14257      2007          1  \n",
       "14263      2007          1  \n",
       "14319      2007          1  \n",
       "14330      2007          1  \n",
       "14352      2007          1  \n",
       "14363      2007          1  \n",
       "14377      2007          1  \n",
       "14382      2007          1  \n",
       "14424      2007          1  "
      ]
     },
     "execution_count": 29,
     "metadata": {},
     "output_type": "execute_result"
    }
   ],
   "source": [
    "missing_base_sal_df.head(10)"
   ]
  },
  {
   "cell_type": "markdown",
   "metadata": {},
   "source": [
    "Very similar graph to total salary paid"
   ]
  },
  {
   "cell_type": "code",
   "execution_count": 30,
   "metadata": {
    "collapsed": false
   },
   "outputs": [
    {
     "data": {
      "image/png": "[encoded data removed]",
      "text/plain": [
       "<matplotlib.figure.Figure at 0x121c6c18>"
      ]
     },
     "metadata": {},
     "output_type": "display_data"
    }
   ],
   "source": [
    "plt.figure(figsize=(8,6))\n",
    "plt.scatter(range(missing_base_sal_df.shape[0]), np.sort(missing_base_sal_df[\"Base Salary Payment Amount\"].values))\n",
    "plt.xlabel('index', fontsize=12)\n",
    "plt.ylabel('Base Salary Amount', fontsize=12)\n",
    "plt.title(\"Base Salary Amounts\")\n",
    "plt.show()"
   ]
  },
  {
   "cell_type": "markdown",
   "metadata": {},
   "source": [
    "What if we replace the missing total salary paid with the base salary;\n",
    "only 1 base salary is missing out of the 635 rows whose total paid salary is null"
   ]
  },
  {
   "cell_type": "code",
   "execution_count": 31,
   "metadata": {
    "collapsed": false
   },
   "outputs": [
    {
     "data": {
      "text/plain": [
       "1"
      ]
     },
     "execution_count": 31,
     "metadata": {},
     "output_type": "execute_result"
    }
   ],
   "source": [
    "missing_base_sal_df[\"Base Salary Payment Amount\"].isnull().sum()"
   ]
  },
  {
   "cell_type": "markdown",
   "metadata": {},
   "source": [
    "All of the data have same start year and tax year, combine them into one column"
   ]
  },
  {
   "cell_type": "code",
   "execution_count": 32,
   "metadata": {
    "collapsed": false
   },
   "outputs": [
    {
     "data": {
      "text/plain": [
       "665325"
      ]
     },
     "execution_count": 32,
     "metadata": {},
     "output_type": "execute_result"
    }
   ],
   "source": [
    "np.sum(data[\"Start Year\"] == data [\"Tax Year\"])"
   ]
  },
  {
   "cell_type": "code",
   "execution_count": 33,
   "metadata": {
    "collapsed": false
   },
   "outputs": [],
   "source": [
    "data.rename(index=str,columns={\"Start Year\":\"Year\"},inplace=True)\n",
    "data.drop([\"Fiscal Year\", \"Base Salary Date\", \"Start Month\", \"Tax Year\", \"Tax Month\"],axis=1,inplace=True)"
   ]
  },
  {
   "cell_type": "markdown",
   "metadata": {},
   "source": [
    "Drop the rows that have nan total salary paid of nan, 665325-635=664690"
   ]
  },
  {
   "cell_type": "code",
   "execution_count": 34,
   "metadata": {
    "collapsed": false
   },
   "outputs": [
    {
     "data": {
      "text/plain": [
       "(664690, 11)"
      ]
     },
     "execution_count": 34,
     "metadata": {},
     "output_type": "execute_result"
    }
   ],
   "source": [
    "data.dropna(subset=[\"Total Salary Paid\"], inplace=True)\n",
    "data.shape"
   ]
  },
  {
   "cell_type": "code",
   "execution_count": 35,
   "metadata": {
    "collapsed": false
   },
   "outputs": [
    {
     "data": {
      "text/html": [
       "<div>\n",
       "<style>\n",
       "    .dataframe thead tr:only-child th {\n",
       "        text-align: right;\n",
       "    }\n",
       "\n",
       "    .dataframe thead th {\n",
       "        text-align: left;\n",
       "    }\n",
       "\n",
       "    .dataframe tbody tr th {\n",
       "        vertical-align: top;\n",
       "    }\n",
       "</style>\n",
       "<table border=\"1\" class=\"dataframe\">\n",
       "  <thead>\n",
       "    <tr style=\"text-align: right;\">\n",
       "      <th></th>\n",
       "      <th>Department</th>\n",
       "      <th>Agency/Institution</th>\n",
       "      <th>Name</th>\n",
       "      <th>Gender</th>\n",
       "      <th>Place of Residence</th>\n",
       "      <th>Position</th>\n",
       "      <th>Base Salary Payment Method</th>\n",
       "      <th>Base Salary Payment Amount</th>\n",
       "      <th>Total Salary Paid</th>\n",
       "      <th>Travel &amp; Subsistence</th>\n",
       "      <th>Year</th>\n",
       "    </tr>\n",
       "  </thead>\n",
       "  <tbody>\n",
       "    <tr>\n",
       "      <th>0</th>\n",
       "      <td>Administrative Services, Department of</td>\n",
       "      <td>NaN</td>\n",
       "      <td>ABELS BEVERLY J</td>\n",
       "      <td>F</td>\n",
       "      <td>POLK</td>\n",
       "      <td>ADVANCED PERSONNEL MGMT</td>\n",
       "      <td>HR</td>\n",
       "      <td>31.62</td>\n",
       "      <td>6462.34</td>\n",
       "      <td>NaN</td>\n",
       "      <td>2007</td>\n",
       "    </tr>\n",
       "    <tr>\n",
       "      <th>1</th>\n",
       "      <td>Administrative Services, Department of</td>\n",
       "      <td>NaN</td>\n",
       "      <td>ABRAMS JERRY A</td>\n",
       "      <td>M</td>\n",
       "      <td>WAPELLO</td>\n",
       "      <td>EARLY OUT POSITION</td>\n",
       "      <td>TERMINATED</td>\n",
       "      <td>NaN</td>\n",
       "      <td>4242.82</td>\n",
       "      <td>NaN</td>\n",
       "      <td>2007</td>\n",
       "    </tr>\n",
       "    <tr>\n",
       "      <th>2</th>\n",
       "      <td>Administrative Services, Department of</td>\n",
       "      <td>NaN</td>\n",
       "      <td>ADAMS CAROL L</td>\n",
       "      <td>F</td>\n",
       "      <td>MITCHELL</td>\n",
       "      <td>ADVANCED PERSONNEL MGMT</td>\n",
       "      <td>BW</td>\n",
       "      <td>2212.80</td>\n",
       "      <td>55065.60</td>\n",
       "      <td>924.44</td>\n",
       "      <td>2007</td>\n",
       "    </tr>\n",
       "    <tr>\n",
       "      <th>3</th>\n",
       "      <td>Administrative Services, Department of</td>\n",
       "      <td>NaN</td>\n",
       "      <td>ADAMS JEANNIE R</td>\n",
       "      <td>F</td>\n",
       "      <td>POLK</td>\n",
       "      <td>ACCOUNTING TECHNICIAN 2</td>\n",
       "      <td>BW</td>\n",
       "      <td>1226.40</td>\n",
       "      <td>30800.83</td>\n",
       "      <td>6.80</td>\n",
       "      <td>2007</td>\n",
       "    </tr>\n",
       "    <tr>\n",
       "      <th>4</th>\n",
       "      <td>Administrative Services, Department of</td>\n",
       "      <td>NaN</td>\n",
       "      <td>ADAMS NED J</td>\n",
       "      <td>M</td>\n",
       "      <td>POLK</td>\n",
       "      <td>EARLY OUT POSITION</td>\n",
       "      <td>TERMINATED</td>\n",
       "      <td>NaN</td>\n",
       "      <td>10634.33</td>\n",
       "      <td>NaN</td>\n",
       "      <td>2007</td>\n",
       "    </tr>\n",
       "  </tbody>\n",
       "</table>\n",
       "</div>"
      ],
      "text/plain": [
       "                                Department Agency/Institution  \\\n",
       "0  Administrative Services, Department of                 NaN   \n",
       "1  Administrative Services, Department of                 NaN   \n",
       "2  Administrative Services, Department of                 NaN   \n",
       "3  Administrative Services, Department of                 NaN   \n",
       "4  Administrative Services, Department of                 NaN   \n",
       "\n",
       "              Name Gender Place of Residence                 Position  \\\n",
       "0  ABELS BEVERLY J      F               POLK  ADVANCED PERSONNEL MGMT   \n",
       "1   ABRAMS JERRY A      M            WAPELLO       EARLY OUT POSITION   \n",
       "2    ADAMS CAROL L      F           MITCHELL  ADVANCED PERSONNEL MGMT   \n",
       "3  ADAMS JEANNIE R      F               POLK  ACCOUNTING TECHNICIAN 2   \n",
       "4      ADAMS NED J      M               POLK       EARLY OUT POSITION   \n",
       "\n",
       "  Base Salary Payment Method  Base Salary Payment Amount  Total Salary Paid  \\\n",
       "0                         HR                       31.62            6462.34   \n",
       "1                 TERMINATED                         NaN            4242.82   \n",
       "2                         BW                     2212.80           55065.60   \n",
       "3                         BW                     1226.40           30800.83   \n",
       "4                 TERMINATED                         NaN           10634.33   \n",
       "\n",
       "   Travel & Subsistence  Year  \n",
       "0                   NaN  2007  \n",
       "1                   NaN  2007  \n",
       "2                924.44  2007  \n",
       "3                  6.80  2007  \n",
       "4                   NaN  2007  "
      ]
     },
     "execution_count": 35,
     "metadata": {},
     "output_type": "execute_result"
    }
   ],
   "source": [
    "data.head()"
   ]
  },
  {
   "cell_type": "markdown",
   "metadata": {},
   "source": [
    "Algo 1\n",
    "\n",
    "Determine part time/full time using iowa minimum wage\n",
    "\n",
    "1 year = 8760 hours = 52 weeks\n",
    "\n",
    "part time = less than 30 hours per week\n",
    "\n",
    "full time = more than 40 hours per week\n",
    "\n",
    "\n",
    "Minimum Wage Rates 2007-17\n",
    "\n",
    "2007 - 5.15\n",
    "\n",
    "2008-17 - 7.25\n",
    "\n",
    "Consistency between the two genders"
   ]
  },
  {
   "cell_type": "code",
   "execution_count": 36,
   "metadata": {
    "collapsed": true
   },
   "outputs": [],
   "source": [
    "#  if total paid/min wage = hours worked > 40*52 = hours worked a year if full time, consider as full time\n",
    "# 0 full time\n",
    "# 1 is part time\n",
    "def part_full_label(row):\n",
    "    full = 50*40 # 50 instead of 52, bc min 2 weeks off\n",
    "    if row[\"Year\"] == 2007:\n",
    "        if row[\"Total Salary Paid\"]/5.15 > full:\n",
    "            return 0\n",
    "        return 1\n",
    "    \n",
    "    if row[\"Total Salary Paid\"]/7.25 > full:\n",
    "        return 0\n",
    "    return 1\n",
    "    "
   ]
  },
  {
   "cell_type": "markdown",
   "metadata": {},
   "source": [
    "Algo 2 (Nick's algo)"
   ]
  },
  {
   "cell_type": "code",
   "execution_count": 37,
   "metadata": {
    "collapsed": true
   },
   "outputs": [],
   "source": [
    "def hourly_estimates(x):\n",
    "    # dictionary containing conversions of method to number of hours\n",
    "    method_to_hour_estimate = {'HR': 1, 'BW': 80, 'YR': 2000, 'DA': 8, 'DAILY': 8, \n",
    "                               'AN': 2000, 'HRLY': 1, 'BM': 333.33, 'PW': 40}\n",
    "    # get data from row\n",
    "    method, amount_per_method, total = x[\"Base Salary Payment Method\"], x[\"Base Salary Payment Amount\"], x[\"Total Salary Paid\"]\n",
    "    # calc hourly wage and hours worked\n",
    "    try:\n",
    "        hourly_wage_estimate = amount_per_method / method_to_hour_estimate.get(method, np.nan) # if the dict does not have a conversion the default is NaN\n",
    "        hours_worked_estimate = total/hourly_wage_estimate\n",
    "    except ZeroDivisionError:\n",
    "        hourly_wage_estimate = np.nan\n",
    "        hours_worked_estimate = np.nan\n",
    "    # return tuple\n",
    "    return hourly_wage_estimate, hours_worked_estimate"
   ]
  },
  {
   "cell_type": "code",
   "execution_count": 38,
   "metadata": {
    "collapsed": true
   },
   "outputs": [],
   "source": [
    "def part_full_label2(row):    \n",
    "    if np.isnan(row[\"Hour's Worked Estimate\"]):\n",
    "        full = 50*40\n",
    "        if row[\"Year\"] == 2007:\n",
    "            if row[\"Total Salary Paid\"]/5.15 > full:\n",
    "                return 0\n",
    "            return 1\n",
    "\n",
    "        if row[\"Total Salary Paid\"]/7.25 > full:\n",
    "            return 0\n",
    "        return 1\n",
    "    if row[\"Hour's Worked Estimate\"] > 40:        \n",
    "        return 0\n",
    "    return 1    "
   ]
  },
  {
   "cell_type": "code",
   "execution_count": 39,
   "metadata": {
    "collapsed": false
   },
   "outputs": [
    {
     "data": {
      "text/html": [
       "<div>\n",
       "<style>\n",
       "    .dataframe thead tr:only-child th {\n",
       "        text-align: right;\n",
       "    }\n",
       "\n",
       "    .dataframe thead th {\n",
       "        text-align: left;\n",
       "    }\n",
       "\n",
       "    .dataframe tbody tr th {\n",
       "        vertical-align: top;\n",
       "    }\n",
       "</style>\n",
       "<table border=\"1\" class=\"dataframe\">\n",
       "  <thead>\n",
       "    <tr style=\"text-align: right;\">\n",
       "      <th></th>\n",
       "      <th>Department</th>\n",
       "      <th>Agency/Institution</th>\n",
       "      <th>Name</th>\n",
       "      <th>Gender</th>\n",
       "      <th>Place of Residence</th>\n",
       "      <th>Position</th>\n",
       "      <th>Base Salary Payment Method</th>\n",
       "      <th>Base Salary Payment Amount</th>\n",
       "      <th>Total Salary Paid</th>\n",
       "      <th>Travel &amp; Subsistence</th>\n",
       "      <th>Year</th>\n",
       "      <th>Employment Type</th>\n",
       "    </tr>\n",
       "  </thead>\n",
       "  <tbody>\n",
       "    <tr>\n",
       "      <th>0</th>\n",
       "      <td>Administrative Services, Department of</td>\n",
       "      <td>NaN</td>\n",
       "      <td>ABELS BEVERLY J</td>\n",
       "      <td>F</td>\n",
       "      <td>POLK</td>\n",
       "      <td>ADVANCED PERSONNEL MGMT</td>\n",
       "      <td>HR</td>\n",
       "      <td>31.62</td>\n",
       "      <td>6462.34</td>\n",
       "      <td>NaN</td>\n",
       "      <td>2007</td>\n",
       "      <td>1</td>\n",
       "    </tr>\n",
       "    <tr>\n",
       "      <th>1</th>\n",
       "      <td>Administrative Services, Department of</td>\n",
       "      <td>NaN</td>\n",
       "      <td>ABRAMS JERRY A</td>\n",
       "      <td>M</td>\n",
       "      <td>WAPELLO</td>\n",
       "      <td>EARLY OUT POSITION</td>\n",
       "      <td>TERMINATED</td>\n",
       "      <td>NaN</td>\n",
       "      <td>4242.82</td>\n",
       "      <td>NaN</td>\n",
       "      <td>2007</td>\n",
       "      <td>1</td>\n",
       "    </tr>\n",
       "    <tr>\n",
       "      <th>2</th>\n",
       "      <td>Administrative Services, Department of</td>\n",
       "      <td>NaN</td>\n",
       "      <td>ADAMS CAROL L</td>\n",
       "      <td>F</td>\n",
       "      <td>MITCHELL</td>\n",
       "      <td>ADVANCED PERSONNEL MGMT</td>\n",
       "      <td>BW</td>\n",
       "      <td>2212.80</td>\n",
       "      <td>55065.60</td>\n",
       "      <td>924.44</td>\n",
       "      <td>2007</td>\n",
       "      <td>0</td>\n",
       "    </tr>\n",
       "    <tr>\n",
       "      <th>3</th>\n",
       "      <td>Administrative Services, Department of</td>\n",
       "      <td>NaN</td>\n",
       "      <td>ADAMS JEANNIE R</td>\n",
       "      <td>F</td>\n",
       "      <td>POLK</td>\n",
       "      <td>ACCOUNTING TECHNICIAN 2</td>\n",
       "      <td>BW</td>\n",
       "      <td>1226.40</td>\n",
       "      <td>30800.83</td>\n",
       "      <td>6.80</td>\n",
       "      <td>2007</td>\n",
       "      <td>0</td>\n",
       "    </tr>\n",
       "    <tr>\n",
       "      <th>4</th>\n",
       "      <td>Administrative Services, Department of</td>\n",
       "      <td>NaN</td>\n",
       "      <td>ADAMS NED J</td>\n",
       "      <td>M</td>\n",
       "      <td>POLK</td>\n",
       "      <td>EARLY OUT POSITION</td>\n",
       "      <td>TERMINATED</td>\n",
       "      <td>NaN</td>\n",
       "      <td>10634.33</td>\n",
       "      <td>NaN</td>\n",
       "      <td>2007</td>\n",
       "      <td>0</td>\n",
       "    </tr>\n",
       "  </tbody>\n",
       "</table>\n",
       "</div>"
      ],
      "text/plain": [
       "                                Department Agency/Institution  \\\n",
       "0  Administrative Services, Department of                 NaN   \n",
       "1  Administrative Services, Department of                 NaN   \n",
       "2  Administrative Services, Department of                 NaN   \n",
       "3  Administrative Services, Department of                 NaN   \n",
       "4  Administrative Services, Department of                 NaN   \n",
       "\n",
       "              Name Gender Place of Residence                 Position  \\\n",
       "0  ABELS BEVERLY J      F               POLK  ADVANCED PERSONNEL MGMT   \n",
       "1   ABRAMS JERRY A      M            WAPELLO       EARLY OUT POSITION   \n",
       "2    ADAMS CAROL L      F           MITCHELL  ADVANCED PERSONNEL MGMT   \n",
       "3  ADAMS JEANNIE R      F               POLK  ACCOUNTING TECHNICIAN 2   \n",
       "4      ADAMS NED J      M               POLK       EARLY OUT POSITION   \n",
       "\n",
       "  Base Salary Payment Method  Base Salary Payment Amount  Total Salary Paid  \\\n",
       "0                         HR                       31.62            6462.34   \n",
       "1                 TERMINATED                         NaN            4242.82   \n",
       "2                         BW                     2212.80           55065.60   \n",
       "3                         BW                     1226.40           30800.83   \n",
       "4                 TERMINATED                         NaN           10634.33   \n",
       "\n",
       "   Travel & Subsistence  Year  Employment Type  \n",
       "0                   NaN  2007                1  \n",
       "1                   NaN  2007                1  \n",
       "2                924.44  2007                0  \n",
       "3                  6.80  2007                0  \n",
       "4                   NaN  2007                0  "
      ]
     },
     "execution_count": 39,
     "metadata": {},
     "output_type": "execute_result"
    }
   ],
   "source": [
    "data[\"Employment Type\"] = data.apply(lambda row: part_full_label(row), axis=1)\n",
    "data.head()"
   ]
  },
  {
   "cell_type": "code",
   "execution_count": 40,
   "metadata": {
    "collapsed": false
   },
   "outputs": [
    {
     "data": {
      "text/html": [
       "<div>\n",
       "<style>\n",
       "    .dataframe thead tr:only-child th {\n",
       "        text-align: right;\n",
       "    }\n",
       "\n",
       "    .dataframe thead th {\n",
       "        text-align: left;\n",
       "    }\n",
       "\n",
       "    .dataframe tbody tr th {\n",
       "        vertical-align: top;\n",
       "    }\n",
       "</style>\n",
       "<table border=\"1\" class=\"dataframe\">\n",
       "  <thead>\n",
       "    <tr style=\"text-align: right;\">\n",
       "      <th></th>\n",
       "      <th>Department</th>\n",
       "      <th>Agency/Institution</th>\n",
       "      <th>Name</th>\n",
       "      <th>Gender</th>\n",
       "      <th>Place of Residence</th>\n",
       "      <th>Position</th>\n",
       "      <th>Base Salary Payment Method</th>\n",
       "      <th>Base Salary Payment Amount</th>\n",
       "      <th>Total Salary Paid</th>\n",
       "      <th>Travel &amp; Subsistence</th>\n",
       "      <th>Year</th>\n",
       "      <th>Employment Type</th>\n",
       "      <th>Hour's Worked Estimate</th>\n",
       "      <th>Hourly Wage Estimate</th>\n",
       "    </tr>\n",
       "  </thead>\n",
       "  <tbody>\n",
       "    <tr>\n",
       "      <th>0</th>\n",
       "      <td>Administrative Services, Department of</td>\n",
       "      <td>NaN</td>\n",
       "      <td>ABELS BEVERLY J</td>\n",
       "      <td>F</td>\n",
       "      <td>POLK</td>\n",
       "      <td>ADVANCED PERSONNEL MGMT</td>\n",
       "      <td>HR</td>\n",
       "      <td>31.62</td>\n",
       "      <td>6462.34</td>\n",
       "      <td>NaN</td>\n",
       "      <td>2007</td>\n",
       "      <td>1</td>\n",
       "      <td>31.62</td>\n",
       "      <td>204.375079</td>\n",
       "    </tr>\n",
       "    <tr>\n",
       "      <th>1</th>\n",
       "      <td>Administrative Services, Department of</td>\n",
       "      <td>NaN</td>\n",
       "      <td>ABRAMS JERRY A</td>\n",
       "      <td>M</td>\n",
       "      <td>WAPELLO</td>\n",
       "      <td>EARLY OUT POSITION</td>\n",
       "      <td>TERMINATED</td>\n",
       "      <td>NaN</td>\n",
       "      <td>4242.82</td>\n",
       "      <td>NaN</td>\n",
       "      <td>2007</td>\n",
       "      <td>1</td>\n",
       "      <td>NaN</td>\n",
       "      <td>NaN</td>\n",
       "    </tr>\n",
       "    <tr>\n",
       "      <th>2</th>\n",
       "      <td>Administrative Services, Department of</td>\n",
       "      <td>NaN</td>\n",
       "      <td>ADAMS CAROL L</td>\n",
       "      <td>F</td>\n",
       "      <td>MITCHELL</td>\n",
       "      <td>ADVANCED PERSONNEL MGMT</td>\n",
       "      <td>BW</td>\n",
       "      <td>2212.80</td>\n",
       "      <td>55065.60</td>\n",
       "      <td>924.44</td>\n",
       "      <td>2007</td>\n",
       "      <td>0</td>\n",
       "      <td>27.66</td>\n",
       "      <td>1990.802603</td>\n",
       "    </tr>\n",
       "    <tr>\n",
       "      <th>3</th>\n",
       "      <td>Administrative Services, Department of</td>\n",
       "      <td>NaN</td>\n",
       "      <td>ADAMS JEANNIE R</td>\n",
       "      <td>F</td>\n",
       "      <td>POLK</td>\n",
       "      <td>ACCOUNTING TECHNICIAN 2</td>\n",
       "      <td>BW</td>\n",
       "      <td>1226.40</td>\n",
       "      <td>30800.83</td>\n",
       "      <td>6.80</td>\n",
       "      <td>2007</td>\n",
       "      <td>0</td>\n",
       "      <td>15.33</td>\n",
       "      <td>2009.186562</td>\n",
       "    </tr>\n",
       "    <tr>\n",
       "      <th>4</th>\n",
       "      <td>Administrative Services, Department of</td>\n",
       "      <td>NaN</td>\n",
       "      <td>ADAMS NED J</td>\n",
       "      <td>M</td>\n",
       "      <td>POLK</td>\n",
       "      <td>EARLY OUT POSITION</td>\n",
       "      <td>TERMINATED</td>\n",
       "      <td>NaN</td>\n",
       "      <td>10634.33</td>\n",
       "      <td>NaN</td>\n",
       "      <td>2007</td>\n",
       "      <td>0</td>\n",
       "      <td>NaN</td>\n",
       "      <td>NaN</td>\n",
       "    </tr>\n",
       "  </tbody>\n",
       "</table>\n",
       "</div>"
      ],
      "text/plain": [
       "                                Department Agency/Institution  \\\n",
       "0  Administrative Services, Department of                 NaN   \n",
       "1  Administrative Services, Department of                 NaN   \n",
       "2  Administrative Services, Department of                 NaN   \n",
       "3  Administrative Services, Department of                 NaN   \n",
       "4  Administrative Services, Department of                 NaN   \n",
       "\n",
       "              Name Gender Place of Residence                 Position  \\\n",
       "0  ABELS BEVERLY J      F               POLK  ADVANCED PERSONNEL MGMT   \n",
       "1   ABRAMS JERRY A      M            WAPELLO       EARLY OUT POSITION   \n",
       "2    ADAMS CAROL L      F           MITCHELL  ADVANCED PERSONNEL MGMT   \n",
       "3  ADAMS JEANNIE R      F               POLK  ACCOUNTING TECHNICIAN 2   \n",
       "4      ADAMS NED J      M               POLK       EARLY OUT POSITION   \n",
       "\n",
       "  Base Salary Payment Method  Base Salary Payment Amount  Total Salary Paid  \\\n",
       "0                         HR                       31.62            6462.34   \n",
       "1                 TERMINATED                         NaN            4242.82   \n",
       "2                         BW                     2212.80           55065.60   \n",
       "3                         BW                     1226.40           30800.83   \n",
       "4                 TERMINATED                         NaN           10634.33   \n",
       "\n",
       "   Travel & Subsistence  Year  Employment Type  Hour's Worked Estimate  \\\n",
       "0                   NaN  2007                1                   31.62   \n",
       "1                   NaN  2007                1                     NaN   \n",
       "2                924.44  2007                0                   27.66   \n",
       "3                  6.80  2007                0                   15.33   \n",
       "4                   NaN  2007                0                     NaN   \n",
       "\n",
       "   Hourly Wage Estimate  \n",
       "0            204.375079  \n",
       "1                   NaN  \n",
       "2           1990.802603  \n",
       "3           2009.186562  \n",
       "4                   NaN  "
      ]
     },
     "execution_count": 40,
     "metadata": {},
     "output_type": "execute_result"
    }
   ],
   "source": [
    "data[[\"Hour's Worked Estimate\",\"Hourly Wage Estimate\"]] = data.apply(lambda row: hourly_estimates(row), axis=1).apply(pd.Series)\n",
    "data.head()"
   ]
  },
  {
   "cell_type": "code",
   "execution_count": 41,
   "metadata": {
    "collapsed": false
   },
   "outputs": [
    {
     "data": {
      "text/plain": [
       "0    540796\n",
       "1    123894\n",
       "Name: Employment Type, dtype: int64"
      ]
     },
     "execution_count": 41,
     "metadata": {},
     "output_type": "execute_result"
    }
   ],
   "source": [
    "data[\"Employment Type\"].value_counts()"
   ]
  },
  {
   "cell_type": "code",
   "execution_count": 42,
   "metadata": {
    "collapsed": false
   },
   "outputs": [
    {
     "data": {
      "text/html": [
       "<div>\n",
       "<style>\n",
       "    .dataframe thead tr:only-child th {\n",
       "        text-align: right;\n",
       "    }\n",
       "\n",
       "    .dataframe thead th {\n",
       "        text-align: left;\n",
       "    }\n",
       "\n",
       "    .dataframe tbody tr th {\n",
       "        vertical-align: top;\n",
       "    }\n",
       "</style>\n",
       "<table border=\"1\" class=\"dataframe\">\n",
       "  <thead>\n",
       "    <tr style=\"text-align: right;\">\n",
       "      <th></th>\n",
       "      <th>Department</th>\n",
       "      <th>Agency/Institution</th>\n",
       "      <th>Name</th>\n",
       "      <th>Gender</th>\n",
       "      <th>Place of Residence</th>\n",
       "      <th>Position</th>\n",
       "      <th>Base Salary Payment Method</th>\n",
       "      <th>Base Salary Payment Amount</th>\n",
       "      <th>Total Salary Paid</th>\n",
       "      <th>Travel &amp; Subsistence</th>\n",
       "      <th>Year</th>\n",
       "      <th>Employment Type</th>\n",
       "      <th>Hour's Worked Estimate</th>\n",
       "      <th>Hourly Wage Estimate</th>\n",
       "      <th>Employment Type 2</th>\n",
       "    </tr>\n",
       "  </thead>\n",
       "  <tbody>\n",
       "    <tr>\n",
       "      <th>0</th>\n",
       "      <td>Administrative Services, Department of</td>\n",
       "      <td>NaN</td>\n",
       "      <td>ABELS BEVERLY J</td>\n",
       "      <td>F</td>\n",
       "      <td>POLK</td>\n",
       "      <td>ADVANCED PERSONNEL MGMT</td>\n",
       "      <td>HR</td>\n",
       "      <td>31.62</td>\n",
       "      <td>6462.34</td>\n",
       "      <td>NaN</td>\n",
       "      <td>2007</td>\n",
       "      <td>1</td>\n",
       "      <td>31.62</td>\n",
       "      <td>204.375079</td>\n",
       "      <td>1</td>\n",
       "    </tr>\n",
       "    <tr>\n",
       "      <th>1</th>\n",
       "      <td>Administrative Services, Department of</td>\n",
       "      <td>NaN</td>\n",
       "      <td>ABRAMS JERRY A</td>\n",
       "      <td>M</td>\n",
       "      <td>WAPELLO</td>\n",
       "      <td>EARLY OUT POSITION</td>\n",
       "      <td>TERMINATED</td>\n",
       "      <td>NaN</td>\n",
       "      <td>4242.82</td>\n",
       "      <td>NaN</td>\n",
       "      <td>2007</td>\n",
       "      <td>1</td>\n",
       "      <td>NaN</td>\n",
       "      <td>NaN</td>\n",
       "      <td>1</td>\n",
       "    </tr>\n",
       "    <tr>\n",
       "      <th>2</th>\n",
       "      <td>Administrative Services, Department of</td>\n",
       "      <td>NaN</td>\n",
       "      <td>ADAMS CAROL L</td>\n",
       "      <td>F</td>\n",
       "      <td>MITCHELL</td>\n",
       "      <td>ADVANCED PERSONNEL MGMT</td>\n",
       "      <td>BW</td>\n",
       "      <td>2212.80</td>\n",
       "      <td>55065.60</td>\n",
       "      <td>924.44</td>\n",
       "      <td>2007</td>\n",
       "      <td>0</td>\n",
       "      <td>27.66</td>\n",
       "      <td>1990.802603</td>\n",
       "      <td>1</td>\n",
       "    </tr>\n",
       "    <tr>\n",
       "      <th>3</th>\n",
       "      <td>Administrative Services, Department of</td>\n",
       "      <td>NaN</td>\n",
       "      <td>ADAMS JEANNIE R</td>\n",
       "      <td>F</td>\n",
       "      <td>POLK</td>\n",
       "      <td>ACCOUNTING TECHNICIAN 2</td>\n",
       "      <td>BW</td>\n",
       "      <td>1226.40</td>\n",
       "      <td>30800.83</td>\n",
       "      <td>6.80</td>\n",
       "      <td>2007</td>\n",
       "      <td>0</td>\n",
       "      <td>15.33</td>\n",
       "      <td>2009.186562</td>\n",
       "      <td>1</td>\n",
       "    </tr>\n",
       "    <tr>\n",
       "      <th>4</th>\n",
       "      <td>Administrative Services, Department of</td>\n",
       "      <td>NaN</td>\n",
       "      <td>ADAMS NED J</td>\n",
       "      <td>M</td>\n",
       "      <td>POLK</td>\n",
       "      <td>EARLY OUT POSITION</td>\n",
       "      <td>TERMINATED</td>\n",
       "      <td>NaN</td>\n",
       "      <td>10634.33</td>\n",
       "      <td>NaN</td>\n",
       "      <td>2007</td>\n",
       "      <td>0</td>\n",
       "      <td>NaN</td>\n",
       "      <td>NaN</td>\n",
       "      <td>0</td>\n",
       "    </tr>\n",
       "  </tbody>\n",
       "</table>\n",
       "</div>"
      ],
      "text/plain": [
       "                                Department Agency/Institution  \\\n",
       "0  Administrative Services, Department of                 NaN   \n",
       "1  Administrative Services, Department of                 NaN   \n",
       "2  Administrative Services, Department of                 NaN   \n",
       "3  Administrative Services, Department of                 NaN   \n",
       "4  Administrative Services, Department of                 NaN   \n",
       "\n",
       "              Name Gender Place of Residence                 Position  \\\n",
       "0  ABELS BEVERLY J      F               POLK  ADVANCED PERSONNEL MGMT   \n",
       "1   ABRAMS JERRY A      M            WAPELLO       EARLY OUT POSITION   \n",
       "2    ADAMS CAROL L      F           MITCHELL  ADVANCED PERSONNEL MGMT   \n",
       "3  ADAMS JEANNIE R      F               POLK  ACCOUNTING TECHNICIAN 2   \n",
       "4      ADAMS NED J      M               POLK       EARLY OUT POSITION   \n",
       "\n",
       "  Base Salary Payment Method  Base Salary Payment Amount  Total Salary Paid  \\\n",
       "0                         HR                       31.62            6462.34   \n",
       "1                 TERMINATED                         NaN            4242.82   \n",
       "2                         BW                     2212.80           55065.60   \n",
       "3                         BW                     1226.40           30800.83   \n",
       "4                 TERMINATED                         NaN           10634.33   \n",
       "\n",
       "   Travel & Subsistence  Year  Employment Type  Hour's Worked Estimate  \\\n",
       "0                   NaN  2007                1                   31.62   \n",
       "1                   NaN  2007                1                     NaN   \n",
       "2                924.44  2007                0                   27.66   \n",
       "3                  6.80  2007                0                   15.33   \n",
       "4                   NaN  2007                0                     NaN   \n",
       "\n",
       "   Hourly Wage Estimate  Employment Type 2  \n",
       "0            204.375079                  1  \n",
       "1                   NaN                  1  \n",
       "2           1990.802603                  1  \n",
       "3           2009.186562                  1  \n",
       "4                   NaN                  0  "
      ]
     },
     "execution_count": 42,
     "metadata": {},
     "output_type": "execute_result"
    }
   ],
   "source": [
    "data[\"Employment Type 2\"] = data.apply(lambda row: part_full_label2(row), axis=1)\n",
    "data.head()"
   ]
  },
  {
   "cell_type": "code",
   "execution_count": 43,
   "metadata": {
    "collapsed": false
   },
   "outputs": [
    {
     "data": {
      "text/plain": [
       "1    334329\n",
       "0    330361\n",
       "Name: Employment Type 2, dtype: int64"
      ]
     },
     "execution_count": 43,
     "metadata": {},
     "output_type": "execute_result"
    }
   ],
   "source": [
    "data[\"Employment Type 2\"].value_counts()"
   ]
  },
  {
   "cell_type": "code",
   "execution_count": 44,
   "metadata": {
    "collapsed": true
   },
   "outputs": [],
   "source": [
    "data.to_csv(\"iowa_salary_data.csv\", index=False)"
   ]
  },
  {
   "cell_type": "markdown",
   "metadata": {},
   "source": [
    "# 2) Hypotheses Testing"
   ]
  },
  {
   "cell_type": "code",
   "execution_count": 45,
   "metadata": {
    "collapsed": false
   },
   "outputs": [],
   "source": [
    "path = \"iowa_salary_data.csv\"\n",
    "data = pd.read_csv(path)"
   ]
  },
  {
   "cell_type": "code",
   "execution_count": 46,
   "metadata": {
    "collapsed": false
   },
   "outputs": [
    {
     "data": {
      "text/plain": [
       "Index([u'Department', u'Agency/Institution', u'Name', u'Gender',\n",
       "       u'Place of Residence', u'Position', u'Base Salary Payment Method',\n",
       "       u'Base Salary Payment Amount', u'Total Salary Paid',\n",
       "       u'Travel & Subsistence', u'Year', u'Employment Type',\n",
       "       u'Hour's Worked Estimate', u'Hourly Wage Estimate',\n",
       "       u'Employment Type 2'],\n",
       "      dtype='object')"
      ]
     },
     "execution_count": 46,
     "metadata": {},
     "output_type": "execute_result"
    }
   ],
   "source": [
    "data.columns"
   ]
  },
  {
   "cell_type": "code",
   "execution_count": 47,
   "metadata": {
    "collapsed": false
   },
   "outputs": [
    {
     "data": {
      "text/plain": [
       "(664690, 15)"
      ]
     },
     "execution_count": 47,
     "metadata": {},
     "output_type": "execute_result"
    }
   ],
   "source": [
    "data.shape"
   ]
  },
  {
   "cell_type": "code",
   "execution_count": 48,
   "metadata": {
    "collapsed": false
   },
   "outputs": [
    {
     "data": {
      "text/plain": [
       "F      364728\n",
       "M      299643\n",
       "nan       269\n",
       "*          43\n",
       "U           5\n",
       "FM          1\n",
       "m           1\n",
       "Name: Gender, dtype: int64"
      ]
     },
     "execution_count": 48,
     "metadata": {},
     "output_type": "execute_result"
    }
   ],
   "source": [
    "data.Gender = data.Gender.astype(str)\n",
    "data.Gender.value_counts()"
   ]
  },
  {
   "cell_type": "markdown",
   "metadata": {},
   "source": [
    "319/664690 = 0.04 % of total data, even so, we are only focusing on two genders"
   ]
  },
  {
   "cell_type": "code",
   "execution_count": 49,
   "metadata": {
    "collapsed": false
   },
   "outputs": [],
   "source": [
    "f_data = data.loc[data[\"Gender\"] == \"F\"]\n",
    "m_data = data.loc[data[\"Gender\"] == \"M\"]"
   ]
  },
  {
   "cell_type": "code",
   "execution_count": 50,
   "metadata": {
    "collapsed": false
   },
   "outputs": [
    {
     "data": {
      "text/html": [
       "<div>\n",
       "<style>\n",
       "    .dataframe thead tr:only-child th {\n",
       "        text-align: right;\n",
       "    }\n",
       "\n",
       "    .dataframe thead th {\n",
       "        text-align: left;\n",
       "    }\n",
       "\n",
       "    .dataframe tbody tr th {\n",
       "        vertical-align: top;\n",
       "    }\n",
       "</style>\n",
       "<table border=\"1\" class=\"dataframe\">\n",
       "  <thead>\n",
       "    <tr style=\"text-align: right;\">\n",
       "      <th></th>\n",
       "      <th>Department</th>\n",
       "      <th>Agency/Institution</th>\n",
       "      <th>Name</th>\n",
       "      <th>Gender</th>\n",
       "      <th>Place of Residence</th>\n",
       "      <th>Position</th>\n",
       "      <th>Base Salary Payment Method</th>\n",
       "      <th>Base Salary Payment Amount</th>\n",
       "      <th>Total Salary Paid</th>\n",
       "      <th>Travel &amp; Subsistence</th>\n",
       "      <th>Year</th>\n",
       "      <th>Employment Type</th>\n",
       "      <th>Hour's Worked Estimate</th>\n",
       "      <th>Hourly Wage Estimate</th>\n",
       "      <th>Employment Type 2</th>\n",
       "    </tr>\n",
       "  </thead>\n",
       "  <tbody>\n",
       "    <tr>\n",
       "      <th>0</th>\n",
       "      <td>Administrative Services, Department of</td>\n",
       "      <td>NaN</td>\n",
       "      <td>ABELS BEVERLY J</td>\n",
       "      <td>F</td>\n",
       "      <td>POLK</td>\n",
       "      <td>ADVANCED PERSONNEL MGMT</td>\n",
       "      <td>HR</td>\n",
       "      <td>31.62</td>\n",
       "      <td>6462.34</td>\n",
       "      <td>NaN</td>\n",
       "      <td>2007</td>\n",
       "      <td>1</td>\n",
       "      <td>31.62</td>\n",
       "      <td>204.375079</td>\n",
       "      <td>1</td>\n",
       "    </tr>\n",
       "    <tr>\n",
       "      <th>2</th>\n",
       "      <td>Administrative Services, Department of</td>\n",
       "      <td>NaN</td>\n",
       "      <td>ADAMS CAROL L</td>\n",
       "      <td>F</td>\n",
       "      <td>MITCHELL</td>\n",
       "      <td>ADVANCED PERSONNEL MGMT</td>\n",
       "      <td>BW</td>\n",
       "      <td>2212.80</td>\n",
       "      <td>55065.60</td>\n",
       "      <td>924.44</td>\n",
       "      <td>2007</td>\n",
       "      <td>0</td>\n",
       "      <td>27.66</td>\n",
       "      <td>1990.802603</td>\n",
       "      <td>1</td>\n",
       "    </tr>\n",
       "    <tr>\n",
       "      <th>3</th>\n",
       "      <td>Administrative Services, Department of</td>\n",
       "      <td>NaN</td>\n",
       "      <td>ADAMS JEANNIE R</td>\n",
       "      <td>F</td>\n",
       "      <td>POLK</td>\n",
       "      <td>ACCOUNTING TECHNICIAN 2</td>\n",
       "      <td>BW</td>\n",
       "      <td>1226.40</td>\n",
       "      <td>30800.83</td>\n",
       "      <td>6.80</td>\n",
       "      <td>2007</td>\n",
       "      <td>0</td>\n",
       "      <td>15.33</td>\n",
       "      <td>2009.186562</td>\n",
       "      <td>1</td>\n",
       "    </tr>\n",
       "    <tr>\n",
       "      <th>7</th>\n",
       "      <td>Administrative Services, Department of</td>\n",
       "      <td>NaN</td>\n",
       "      <td>ALLEN ROSALIE R</td>\n",
       "      <td>F</td>\n",
       "      <td>CHEROKEE</td>\n",
       "      <td>EARLY OUT POSITION</td>\n",
       "      <td>TERMINATED</td>\n",
       "      <td>NaN</td>\n",
       "      <td>2588.47</td>\n",
       "      <td>NaN</td>\n",
       "      <td>2007</td>\n",
       "      <td>1</td>\n",
       "      <td>NaN</td>\n",
       "      <td>NaN</td>\n",
       "      <td>1</td>\n",
       "    </tr>\n",
       "    <tr>\n",
       "      <th>8</th>\n",
       "      <td>Administrative Services, Department of</td>\n",
       "      <td>NaN</td>\n",
       "      <td>ALLEN SANDRA L</td>\n",
       "      <td>F</td>\n",
       "      <td>POLK</td>\n",
       "      <td>INFO TECH SPECIALIST 2</td>\n",
       "      <td>BW</td>\n",
       "      <td>2194.40</td>\n",
       "      <td>56205.58</td>\n",
       "      <td>65.28</td>\n",
       "      <td>2007</td>\n",
       "      <td>0</td>\n",
       "      <td>27.43</td>\n",
       "      <td>2049.055049</td>\n",
       "      <td>1</td>\n",
       "    </tr>\n",
       "  </tbody>\n",
       "</table>\n",
       "</div>"
      ],
      "text/plain": [
       "                                Department Agency/Institution  \\\n",
       "0  Administrative Services, Department of                 NaN   \n",
       "2  Administrative Services, Department of                 NaN   \n",
       "3  Administrative Services, Department of                 NaN   \n",
       "7  Administrative Services, Department of                 NaN   \n",
       "8  Administrative Services, Department of                 NaN   \n",
       "\n",
       "              Name Gender Place of Residence                 Position  \\\n",
       "0  ABELS BEVERLY J      F               POLK  ADVANCED PERSONNEL MGMT   \n",
       "2    ADAMS CAROL L      F           MITCHELL  ADVANCED PERSONNEL MGMT   \n",
       "3  ADAMS JEANNIE R      F               POLK  ACCOUNTING TECHNICIAN 2   \n",
       "7  ALLEN ROSALIE R      F           CHEROKEE       EARLY OUT POSITION   \n",
       "8   ALLEN SANDRA L      F               POLK   INFO TECH SPECIALIST 2   \n",
       "\n",
       "  Base Salary Payment Method  Base Salary Payment Amount  Total Salary Paid  \\\n",
       "0                         HR                       31.62            6462.34   \n",
       "2                         BW                     2212.80           55065.60   \n",
       "3                         BW                     1226.40           30800.83   \n",
       "7                 TERMINATED                         NaN            2588.47   \n",
       "8                         BW                     2194.40           56205.58   \n",
       "\n",
       "   Travel & Subsistence  Year  Employment Type  Hour's Worked Estimate  \\\n",
       "0                   NaN  2007                1                   31.62   \n",
       "2                924.44  2007                0                   27.66   \n",
       "3                  6.80  2007                0                   15.33   \n",
       "7                   NaN  2007                1                     NaN   \n",
       "8                 65.28  2007                0                   27.43   \n",
       "\n",
       "   Hourly Wage Estimate  Employment Type 2  \n",
       "0            204.375079                  1  \n",
       "2           1990.802603                  1  \n",
       "3           2009.186562                  1  \n",
       "7                   NaN                  1  \n",
       "8           2049.055049                  1  "
      ]
     },
     "execution_count": 50,
     "metadata": {},
     "output_type": "execute_result"
    }
   ],
   "source": [
    "f_data.head()"
   ]
  },
  {
   "cell_type": "code",
   "execution_count": 51,
   "metadata": {
    "collapsed": false
   },
   "outputs": [
    {
     "data": {
      "text/html": [
       "<div>\n",
       "<style>\n",
       "    .dataframe thead tr:only-child th {\n",
       "        text-align: right;\n",
       "    }\n",
       "\n",
       "    .dataframe thead th {\n",
       "        text-align: left;\n",
       "    }\n",
       "\n",
       "    .dataframe tbody tr th {\n",
       "        vertical-align: top;\n",
       "    }\n",
       "</style>\n",
       "<table border=\"1\" class=\"dataframe\">\n",
       "  <thead>\n",
       "    <tr style=\"text-align: right;\">\n",
       "      <th></th>\n",
       "      <th>Department</th>\n",
       "      <th>Agency/Institution</th>\n",
       "      <th>Name</th>\n",
       "      <th>Gender</th>\n",
       "      <th>Place of Residence</th>\n",
       "      <th>Position</th>\n",
       "      <th>Base Salary Payment Method</th>\n",
       "      <th>Base Salary Payment Amount</th>\n",
       "      <th>Total Salary Paid</th>\n",
       "      <th>Travel &amp; Subsistence</th>\n",
       "      <th>Year</th>\n",
       "      <th>Employment Type</th>\n",
       "      <th>Hour's Worked Estimate</th>\n",
       "      <th>Hourly Wage Estimate</th>\n",
       "      <th>Employment Type 2</th>\n",
       "    </tr>\n",
       "  </thead>\n",
       "  <tbody>\n",
       "    <tr>\n",
       "      <th>1</th>\n",
       "      <td>Administrative Services, Department of</td>\n",
       "      <td>NaN</td>\n",
       "      <td>ABRAMS JERRY A</td>\n",
       "      <td>M</td>\n",
       "      <td>WAPELLO</td>\n",
       "      <td>EARLY OUT POSITION</td>\n",
       "      <td>TERMINATED</td>\n",
       "      <td>NaN</td>\n",
       "      <td>4242.82</td>\n",
       "      <td>NaN</td>\n",
       "      <td>2007</td>\n",
       "      <td>1</td>\n",
       "      <td>NaN</td>\n",
       "      <td>NaN</td>\n",
       "      <td>1</td>\n",
       "    </tr>\n",
       "    <tr>\n",
       "      <th>4</th>\n",
       "      <td>Administrative Services, Department of</td>\n",
       "      <td>NaN</td>\n",
       "      <td>ADAMS NED J</td>\n",
       "      <td>M</td>\n",
       "      <td>POLK</td>\n",
       "      <td>EARLY OUT POSITION</td>\n",
       "      <td>TERMINATED</td>\n",
       "      <td>NaN</td>\n",
       "      <td>10634.33</td>\n",
       "      <td>NaN</td>\n",
       "      <td>2007</td>\n",
       "      <td>0</td>\n",
       "      <td>NaN</td>\n",
       "      <td>NaN</td>\n",
       "      <td>0</td>\n",
       "    </tr>\n",
       "    <tr>\n",
       "      <th>5</th>\n",
       "      <td>Administrative Services, Department of</td>\n",
       "      <td>NaN</td>\n",
       "      <td>ADAMSON DAVID A</td>\n",
       "      <td>M</td>\n",
       "      <td>POLK</td>\n",
       "      <td>CONSTRUCTION/DESIGN ENGN</td>\n",
       "      <td>TERMINATED</td>\n",
       "      <td>NaN</td>\n",
       "      <td>77647.67</td>\n",
       "      <td>364.22</td>\n",
       "      <td>2007</td>\n",
       "      <td>0</td>\n",
       "      <td>NaN</td>\n",
       "      <td>NaN</td>\n",
       "      <td>0</td>\n",
       "    </tr>\n",
       "    <tr>\n",
       "      <th>6</th>\n",
       "      <td>Administrative Services, Department of</td>\n",
       "      <td>NaN</td>\n",
       "      <td>ALLEN DANIEL S</td>\n",
       "      <td>M</td>\n",
       "      <td>POLK</td>\n",
       "      <td>CUSTODIAL WORKER</td>\n",
       "      <td>TERMINATED</td>\n",
       "      <td>NaN</td>\n",
       "      <td>10520.28</td>\n",
       "      <td>7.48</td>\n",
       "      <td>2007</td>\n",
       "      <td>0</td>\n",
       "      <td>NaN</td>\n",
       "      <td>NaN</td>\n",
       "      <td>0</td>\n",
       "    </tr>\n",
       "    <tr>\n",
       "      <th>9</th>\n",
       "      <td>Administrative Services, Department of</td>\n",
       "      <td>NaN</td>\n",
       "      <td>ALLERHEILIGEN RICHARD D</td>\n",
       "      <td>M</td>\n",
       "      <td>NaN</td>\n",
       "      <td>EARLY OUT POSITION</td>\n",
       "      <td>TERMINATED</td>\n",
       "      <td>NaN</td>\n",
       "      <td>1522.67</td>\n",
       "      <td>NaN</td>\n",
       "      <td>2007</td>\n",
       "      <td>1</td>\n",
       "      <td>NaN</td>\n",
       "      <td>NaN</td>\n",
       "      <td>1</td>\n",
       "    </tr>\n",
       "  </tbody>\n",
       "</table>\n",
       "</div>"
      ],
      "text/plain": [
       "                                Department Agency/Institution  \\\n",
       "1  Administrative Services, Department of                 NaN   \n",
       "4  Administrative Services, Department of                 NaN   \n",
       "5  Administrative Services, Department of                 NaN   \n",
       "6  Administrative Services, Department of                 NaN   \n",
       "9  Administrative Services, Department of                 NaN   \n",
       "\n",
       "                      Name Gender Place of Residence  \\\n",
       "1           ABRAMS JERRY A      M            WAPELLO   \n",
       "4              ADAMS NED J      M               POLK   \n",
       "5          ADAMSON DAVID A      M               POLK   \n",
       "6           ALLEN DANIEL S      M               POLK   \n",
       "9  ALLERHEILIGEN RICHARD D      M                NaN   \n",
       "\n",
       "                   Position Base Salary Payment Method  \\\n",
       "1        EARLY OUT POSITION                 TERMINATED   \n",
       "4        EARLY OUT POSITION                 TERMINATED   \n",
       "5  CONSTRUCTION/DESIGN ENGN                 TERMINATED   \n",
       "6          CUSTODIAL WORKER                 TERMINATED   \n",
       "9        EARLY OUT POSITION                 TERMINATED   \n",
       "\n",
       "   Base Salary Payment Amount  Total Salary Paid  Travel & Subsistence  Year  \\\n",
       "1                         NaN            4242.82                   NaN  2007   \n",
       "4                         NaN           10634.33                   NaN  2007   \n",
       "5                         NaN           77647.67                364.22  2007   \n",
       "6                         NaN           10520.28                  7.48  2007   \n",
       "9                         NaN            1522.67                   NaN  2007   \n",
       "\n",
       "   Employment Type  Hour's Worked Estimate  Hourly Wage Estimate  \\\n",
       "1                1                     NaN                   NaN   \n",
       "4                0                     NaN                   NaN   \n",
       "5                0                     NaN                   NaN   \n",
       "6                0                     NaN                   NaN   \n",
       "9                1                     NaN                   NaN   \n",
       "\n",
       "   Employment Type 2  \n",
       "1                  1  \n",
       "4                  0  \n",
       "5                  0  \n",
       "6                  0  \n",
       "9                  1  "
      ]
     },
     "execution_count": 51,
     "metadata": {},
     "output_type": "execute_result"
    }
   ],
   "source": [
    "m_data.head()"
   ]
  },
  {
   "cell_type": "markdown",
   "metadata": {},
   "source": [
    "### A) Part/Full Time: Male vs Females\n",
    "Null: same % of females/males work part time\n",
    "\n",
    "Alt: diff % of females/males work part time\n",
    "\n",
    "Same for full time"
   ]
  },
  {
   "cell_type": "markdown",
   "metadata": {},
   "source": [
    "Since we will be comparing percentages, we will drop those that didn't get paid"
   ]
  },
  {
   "cell_type": "code",
   "execution_count": 52,
   "metadata": {
    "collapsed": false
   },
   "outputs": [
    {
     "data": {
      "text/plain": [
       "(27, 15)"
      ]
     },
     "execution_count": 52,
     "metadata": {},
     "output_type": "execute_result"
    }
   ],
   "source": [
    "f_data.loc[f_data[\"Total Salary Paid\"] <= 0].shape"
   ]
  },
  {
   "cell_type": "code",
   "execution_count": 53,
   "metadata": {
    "collapsed": false
   },
   "outputs": [
    {
     "data": {
      "text/plain": [
       "(15, 15)"
      ]
     },
     "execution_count": 53,
     "metadata": {},
     "output_type": "execute_result"
    }
   ],
   "source": [
    "m_data.loc[m_data[\"Total Salary Paid\"] <= 0].shape"
   ]
  },
  {
   "cell_type": "code",
   "execution_count": 54,
   "metadata": {
    "collapsed": false
   },
   "outputs": [
    {
     "data": {
      "text/plain": [
       "(0, 15)"
      ]
     },
     "execution_count": 54,
     "metadata": {},
     "output_type": "execute_result"
    }
   ],
   "source": [
    "f_data.loc[np.isnan(f_data[\"Total Salary Paid\"])].shape"
   ]
  },
  {
   "cell_type": "code",
   "execution_count": 55,
   "metadata": {
    "collapsed": true
   },
   "outputs": [],
   "source": [
    "f_data = f_data.loc[f_data[\"Total Salary Paid\"] > 0]\n",
    "m_data = m_data.loc[m_data[\"Total Salary Paid\"] > 0]"
   ]
  },
  {
   "cell_type": "code",
   "execution_count": 56,
   "metadata": {
    "collapsed": false
   },
   "outputs": [
    {
     "data": {
      "text/plain": [
       "(0, 15)"
      ]
     },
     "execution_count": 56,
     "metadata": {},
     "output_type": "execute_result"
    }
   ],
   "source": [
    "f_data.loc[f_data[\"Total Salary Paid\"] <= 0].shape"
   ]
  },
  {
   "cell_type": "code",
   "execution_count": 57,
   "metadata": {
    "collapsed": false
   },
   "outputs": [
    {
     "data": {
      "text/plain": [
       "(0, 15)"
      ]
     },
     "execution_count": 57,
     "metadata": {},
     "output_type": "execute_result"
    }
   ],
   "source": [
    "m_data.loc[m_data[\"Total Salary Paid\"] <= 0].shape"
   ]
  },
  {
   "cell_type": "markdown",
   "metadata": {},
   "source": [
    "Wald's Test for 2 independent populations, using sample mean and sample variance\n",
    "\n",
    "F~Bernoulli(p1)\n",
    "M~Bernoullu(p2) \n",
    "\n",
    "Assumption: p1 and p2 are asymptotically normal\n",
    "\n",
    "Parametric inference\n",
    "\n",
    "(p1^ - p2^)/sqrt(var(F) - var(M))\n",
    "\n",
    "(p1^ - p2^)/sqrt(p1^(1-p1^)/n - p2^(1-p2^)/m)"
   ]
  },
  {
   "cell_type": "code",
   "execution_count": 58,
   "metadata": {
    "collapsed": false
   },
   "outputs": [],
   "source": [
    "# part 0 full time\n",
    "# part 1 part time\n",
    "def walds_test(data1, data2, part=0, dis=None):\n",
    "    w = 0\n",
    "    x_mean = np.sum([1 for ind in data1 if ind == part])/float(len(data1))\n",
    "    y_mean = np.sum([1 for ind in data2 if ind == part])/float(len(data2))\n",
    "    print(x_mean)\n",
    "    print(y_mean)\n",
    "    if dis == \"Bernoulli\":\n",
    "        x_var = x_mean*(1-x_mean)\n",
    "        y_var = y_mean*(1-y_mean)\n",
    "        print(x_var)\n",
    "        print(y_var)\n",
    "    w = (x_mean-y_mean)/(np.sqrt(x_var/len(data1)+y_var/len(data2)))\n",
    "    return w"
   ]
  },
  {
   "cell_type": "markdown",
   "metadata": {},
   "source": [
    "#### Full Time Algo 1v2"
   ]
  },
  {
   "cell_type": "code",
   "execution_count": 59,
   "metadata": {
    "collapsed": false
   },
   "outputs": [
    {
     "name": "stdout",
     "output_type": "stream",
     "text": [
      "('female full times:', 301187)\n",
      "('female total:', 364701)\n",
      "('male full times:', 239474)\n",
      "('male total:', 299628)\n"
     ]
    }
   ],
   "source": [
    "f_full = f_data.loc[f_data[\"Employment Type\"] == 0].shape[0]\n",
    "m_full = m_data.loc[m_data[\"Employment Type\"] == 0].shape[0]\n",
    "f_total = f_data.shape[0]\n",
    "m_total = m_data.shape[0]\n",
    "print(\"female full times:\",f_full)\n",
    "print(\"female total:\",f_total)\n",
    "print(\"male full times:\",m_full)\n",
    "print(\"male total:\",m_total)"
   ]
  },
  {
   "cell_type": "code",
   "execution_count": 60,
   "metadata": {
    "collapsed": false
   },
   "outputs": [
    {
     "name": "stdout",
     "output_type": "stream",
     "text": [
      "('female full time mean:', 0.8258463782660316)\n",
      "('male full time mean:', 0.7992377214412538)\n"
     ]
    }
   ],
   "source": [
    "f_full_mean = f_full/float(f_total)\n",
    "m_full_mean = m_full/float(m_total)\n",
    "print(\"female full time mean:\", f_full_mean)\n",
    "print(\"male full time mean:\", m_full_mean)"
   ]
  },
  {
   "cell_type": "code",
   "execution_count": 61,
   "metadata": {
    "collapsed": false
   },
   "outputs": [
    {
     "name": "stdout",
     "output_type": "stream",
     "text": [
      "0.825846378266\n",
      "0.799237721441\n",
      "0.143824137771\n",
      "0.160456786067\n"
     ]
    },
    {
     "data": {
      "text/plain": [
       "27.593645606248188"
      ]
     },
     "execution_count": 61,
     "metadata": {},
     "output_type": "execute_result"
    }
   ],
   "source": [
    "walds_test(f_data[\"Employment Type\"],m_data[\"Employment Type\"], part=0,dis=\"Bernoulli\")"
   ]
  },
  {
   "cell_type": "code",
   "execution_count": 62,
   "metadata": {
    "collapsed": false
   },
   "outputs": [
    {
     "name": "stdout",
     "output_type": "stream",
     "text": [
      "0.513631714747\n",
      "0.47693139493\n",
      "0.249814176353\n",
      "0.24946783946\n"
     ]
    },
    {
     "data": {
      "text/plain": [
       "29.791660443927299"
      ]
     },
     "execution_count": 62,
     "metadata": {},
     "output_type": "execute_result"
    }
   ],
   "source": [
    "walds_test(f_data[\"Employment Type 2\"],m_data[\"Employment Type 2\"], part=0,dis=\"Bernoulli\")"
   ]
  },
  {
   "cell_type": "code",
   "execution_count": 63,
   "metadata": {
    "collapsed": false
   },
   "outputs": [
    {
     "name": "stdout",
     "output_type": "stream",
     "text": [
      "0.174153621734\n",
      "0.200762278559\n",
      "0.143824137771\n",
      "0.160456786067\n"
     ]
    },
    {
     "data": {
      "text/plain": [
       "-27.593645606248248"
      ]
     },
     "execution_count": 63,
     "metadata": {},
     "output_type": "execute_result"
    }
   ],
   "source": [
    "walds_test(f_data[\"Employment Type\"],m_data[\"Employment Type\"], part=1,dis=\"Bernoulli\")"
   ]
  },
  {
   "cell_type": "code",
   "execution_count": 64,
   "metadata": {
    "collapsed": false
   },
   "outputs": [
    {
     "name": "stdout",
     "output_type": "stream",
     "text": [
      "0.486368285253\n",
      "0.52306860507\n",
      "0.249814176353\n",
      "0.24946783946\n"
     ]
    },
    {
     "data": {
      "text/plain": [
       "-29.791660443927299"
      ]
     },
     "execution_count": 64,
     "metadata": {},
     "output_type": "execute_result"
    }
   ],
   "source": [
    "walds_test(f_data[\"Employment Type 2\"],m_data[\"Employment Type 2\"], part=1,dis=\"Bernoulli\")"
   ]
  },
  {
   "cell_type": "markdown",
   "metadata": {},
   "source": [
    "Conclusion: Reject H0 since 27 and 29 are both greater than Za/2\n",
    "\n",
    "\n",
    "Null: Less Females work full time than males\n",
    "For one-sided, H1: f_full - m_full <= 0, since -27 < -Za we conclude that f_full - m_full > 0; ie more females full time\n",
    "\n",
    "by symmetry, less females part time"
   ]
  },
  {
   "cell_type": "markdown",
   "metadata": {},
   "source": [
    "### B) Total Mean Earnings/Distributions: Male vs Females\n",
    "Null: same dis females/males earnings\n",
    "\n",
    "Alt: diff dis females/males earnings\n",
    "\n",
    "Null: same total mean % of females/males earnings\n",
    "\n",
    "Alt: diff total mean % of females/males earnings\n",
    "\n",
    "KS Test\n",
    "\n",
    "Non parametric inference\n",
    "\n",
    "(p1^ - p2^)/sqrt(var(F) - var(M))\n",
    "\n",
    "(p1^ - p2^)/sqrt(var^(F)/n - var^(M)/m)"
   ]
  },
  {
   "cell_type": "markdown",
   "metadata": {},
   "source": [
    "What is the distribution? Looks like log normal"
   ]
  },
  {
   "cell_type": "code",
   "execution_count": 65,
   "metadata": {
    "collapsed": false
   },
   "outputs": [
    {
     "data": {
      "image/png": "[encoded data removed]",
      "text/plain": [
       "<matplotlib.figure.Figure at 0x5850cef0>"
      ]
     },
     "metadata": {},
     "output_type": "display_data"
    }
   ],
   "source": [
    "plt.figure(figsize=(8,6))\n",
    "plt.scatter(range(f_data.shape[0]), np.sort(f_data[\"Total Salary Paid\"].values),color=\"red\",marker=\".\",label=\"F\")\n",
    "plt.scatter(range(m_data.shape[0]), np.sort(m_data[\"Total Salary Paid\"].values),color=\"blue\",marker=\".\",label=\"M\")\n",
    "plt.xlabel('index', fontsize=12)\n",
    "plt.ylabel('total salary paid', fontsize=12)\n",
    "plt.title(\"Total Salary Paid Male vs Females\")\n",
    "plt.legend(loc='upper left')\n",
    "plt.show()"
   ]
  },
  {
   "cell_type": "code",
   "execution_count": 66,
   "metadata": {
    "collapsed": false
   },
   "outputs": [
    {
     "data": {
      "image/png": "[encoded data removed]",
      "text/plain": [
       "<matplotlib.figure.Figure at 0x5829aef0>"
      ]
     },
     "metadata": {},
     "output_type": "display_data"
    }
   ],
   "source": [
    "plt.figure(figsize=(8,6))\n",
    "plt.scatter(range(f_data.shape[0]), np.sort(np.log(f_data[\"Total Salary Paid\"].values)),color=\"red\",marker=\".\",label=\"F\")\n",
    "plt.scatter(range(m_data.shape[0]), np.sort(np.log(m_data[\"Total Salary Paid\"].values)),color=\"blue\",marker=\".\",label=\"M\")\n",
    "plt.xlabel('index', fontsize=12)\n",
    "plt.ylabel('total salary paid', fontsize=12)\n",
    "plt.title(\"Log Total Salary Paid Male vs Females\")\n",
    "plt.legend(loc='upper left')\n",
    "plt.show()"
   ]
  },
  {
   "cell_type": "code",
   "execution_count": 67,
   "metadata": {
    "collapsed": false,
    "scrolled": true
   },
   "outputs": [
    {
     "data": {
      "image/png": "[encoded data removed]",
      "text/plain": [
       "<matplotlib.figure.Figure at 0x57efea90>"
      ]
     },
     "metadata": {},
     "output_type": "display_data"
    }
   ],
   "source": [
    "plt.figure(figsize=(8,6))\n",
    "plt.plot(np.sort(np.log(f_data[\"Total Salary Paid\"].values)), np.arange(len(f_data))/float(len(f_data)-1), color=\"red\",label=\"F\")\n",
    "plt.plot(np.sort(np.log(m_data[\"Total Salary Paid\"].values)), np.arange(len(m_data))/float(len(m_data)-1), color=\"blue\",label=\"M\")\n",
    "plt.xlabel('Salary Paid', fontsize=12)\n",
    "plt.ylabel('P[x<X]', fontsize=12)\n",
    "plt.legend(loc='lower right')\n",
    "plt.title(\"Log Total Salary Paid Male vs Females CDF\")\n",
    "plt.show()"
   ]
  },
  {
   "cell_type": "code",
   "execution_count": 68,
   "metadata": {
    "collapsed": false
   },
   "outputs": [
    {
     "data": {
      "image/png": "[encoded data removed]",
      "text/plain": [
       "<matplotlib.figure.Figure at 0x57c4ab00>"
      ]
     },
     "metadata": {},
     "output_type": "display_data"
    }
   ],
   "source": [
    "plt.figure(figsize=(8,6))\n",
    "plt.plot(np.sort((f_data[\"Total Salary Paid\"].values)), np.arange(len(f_data))/float(len(f_data)-1), color=\"red\",label=\"F\")\n",
    "plt.plot(np.sort((m_data[\"Total Salary Paid\"].values)), np.arange(len(m_data))/float(len(m_data)-1), color=\"blue\",label=\"M\")\n",
    "plt.xlabel('Total Salary Paid', fontsize=12)\n",
    "plt.ylabel('P[x<X]', fontsize=12)\n",
    "plt.legend(loc='upper right')\n",
    "plt.title(\"Total Salary Paid Male vs Females CDF\")\n",
    "plt.show()"
   ]
  },
  {
   "cell_type": "code",
   "execution_count": 69,
   "metadata": {
    "collapsed": false
   },
   "outputs": [
    {
     "name": "stdout",
     "output_type": "stream",
     "text": [
      "364701\n",
      "299628\n"
     ]
    },
    {
     "data": {
      "text/plain": [
       "0.17842884562654238"
      ]
     },
     "execution_count": 69,
     "metadata": {},
     "output_type": "execute_result"
    }
   ],
   "source": [
    "X = np.arange(len(f_data))/float(len(f_data)-1)\n",
    "Y = np.arange(len(m_data))/float(len(m_data)-1)\n",
    "print(len(X))\n",
    "print(len(Y))\n",
    "y1s = np.ones(len(X)-len(Y))\n",
    "Y = np.append(Y,y1s)\n",
    "np.max(np.abs(X-Y))"
   ]
  },
  {
   "cell_type": "markdown",
   "metadata": {},
   "source": [
    "Conclusion: is a = 0.05 with threshold 0.41, since 0.178 < 0.41, we accept H0, male and females have same salary distribution"
   ]
  },
  {
   "cell_type": "code",
   "execution_count": 70,
   "metadata": {
    "collapsed": false
   },
   "outputs": [
    {
     "name": "stdout",
     "output_type": "stream",
     "text": [
      "Ks_2sampResult(statistic=0.11057406677300163, pvalue=0.0)\n"
     ]
    }
   ],
   "source": [
    "print(stats.ks_2samp(f_data[\"Total Salary Paid\"].values,m_data[\"Total Salary Paid\"].values))"
   ]
  },
  {
   "cell_type": "markdown",
   "metadata": {},
   "source": [
    "p value is very small, we reject H0 that two dis are same"
   ]
  },
  {
   "cell_type": "code",
   "execution_count": 71,
   "metadata": {
    "collapsed": false
   },
   "outputs": [
    {
     "data": {
      "text/plain": [
       "Ks_2sampResult(statistic=0.99996709633370895, pvalue=0.0)"
      ]
     },
     "execution_count": 71,
     "metadata": {},
     "output_type": "execute_result"
    }
   ],
   "source": [
    "stats.ks_2samp(f_data[\"Total Salary Paid\"].values,stats.lognorm.rvs(.9,size=10000))"
   ]
  },
  {
   "cell_type": "markdown",
   "metadata": {},
   "source": [
    "p-value  is small, we reject H0 that same dis"
   ]
  },
  {
   "cell_type": "code",
   "execution_count": 72,
   "metadata": {
    "collapsed": false
   },
   "outputs": [],
   "source": [
    "def walds_test_2(data1, data2):\n",
    "    w = 0\n",
    "    x_mean = np.sum(data1)/float(len(data1))\n",
    "    y_mean = np.sum(data2)/float(len(data2))\n",
    "    print(x_mean)\n",
    "    print(y_mean)\n",
    "\n",
    "    x_var = np.var(data1)\n",
    "    y_var = np.var(data2)\n",
    "    print(x_var)\n",
    "    print(y_var)\n",
    "    w = (x_mean-y_mean)/(np.sqrt(x_var/len(data1)+y_var/len(data2)))\n",
    "    return w"
   ]
  },
  {
   "cell_type": "code",
   "execution_count": 73,
   "metadata": {
    "collapsed": false
   },
   "outputs": [
    {
     "name": "stdout",
     "output_type": "stream",
     "text": [
      "45384.1487249\n",
      "55548.1486047\n",
      "1067801480.56\n",
      "3384851683.31\n"
     ]
    },
    {
     "data": {
      "text/plain": [
       "-85.220219920732106"
      ]
     },
     "execution_count": 73,
     "metadata": {},
     "output_type": "execute_result"
    }
   ],
   "source": [
    "walds_test_2(f_data[\"Total Salary Paid\"],m_data[\"Total Salary Paid\"])"
   ]
  },
  {
   "cell_type": "markdown",
   "metadata": {},
   "source": [
    "Conclusion: reject H0 since 85 > Za/2\n",
    "\n",
    "One sided, H0: FS - MS >= 0\n",
    "\n",
    "Null: Females earn more than men\n",
    "\n",
    "Alt: Females earn less than men\n",
    "\n",
    "H1: FS - MS < 0\n",
    "\n",
    "-85 < -Za, reject H0"
   ]
  },
  {
   "cell_type": "markdown",
   "metadata": {},
   "source": [
    "### C) Mean Mobility: Male vs Females\n",
    "Null: same mean mobility females/males \n",
    "\n",
    "Alt: diff mean mobility females/males \n",
    "\n",
    "Non parametric inference\n",
    "\n",
    "(p1^ - p2^)/sqrt(var(F) - var(M))\n",
    "\n",
    "(p1^ - p2^)/sqrt(var^(F)/n - var^(M)/m)"
   ]
  },
  {
   "cell_type": "code",
   "execution_count": 74,
   "metadata": {
    "collapsed": false
   },
   "outputs": [
    {
     "data": {
      "text/plain": [
       "JONES JULIE A           32\n",
       "OLSON SUSAN M           30\n",
       "TAYLOR RICHARD D        25\n",
       "MILLER MICHAEL J        24\n",
       "KATES,KENNETH PHILIP    24\n",
       "Name: Name, dtype: int64"
      ]
     },
     "execution_count": 74,
     "metadata": {},
     "output_type": "execute_result"
    }
   ],
   "source": [
    "data[\"Name\"].value_counts().head()"
   ]
  },
  {
   "cell_type": "markdown",
   "metadata": {},
   "source": [
    "Names - residence - position\n",
    "\n",
    "JONES JULIE A Polk Pos1\n",
    "\n",
    "              Polk Pos2\n",
    "              \n",
    "              ...  ..."
   ]
  },
  {
   "cell_type": "markdown",
   "metadata": {},
   "source": [
    "#### FEMALES"
   ]
  },
  {
   "cell_type": "code",
   "execution_count": 75,
   "metadata": {
    "collapsed": false
   },
   "outputs": [
    {
     "data": {
      "text/plain": [
       "Index([u'Department', u'Agency/Institution', u'Name', u'Gender',\n",
       "       u'Place of Residence', u'Position', u'Base Salary Payment Method',\n",
       "       u'Base Salary Payment Amount', u'Total Salary Paid',\n",
       "       u'Travel & Subsistence', u'Year', u'Employment Type',\n",
       "       u'Hour's Worked Estimate', u'Hourly Wage Estimate',\n",
       "       u'Employment Type 2'],\n",
       "      dtype='object')"
      ]
     },
     "execution_count": 75,
     "metadata": {},
     "output_type": "execute_result"
    }
   ],
   "source": [
    "f_data.columns"
   ]
  },
  {
   "cell_type": "code",
   "execution_count": 76,
   "metadata": {
    "collapsed": false
   },
   "outputs": [
    {
     "data": {
      "text/html": [
       "<div>\n",
       "<style>\n",
       "    .dataframe thead tr:only-child th {\n",
       "        text-align: right;\n",
       "    }\n",
       "\n",
       "    .dataframe thead th {\n",
       "        text-align: left;\n",
       "    }\n",
       "\n",
       "    .dataframe tbody tr th {\n",
       "        vertical-align: top;\n",
       "    }\n",
       "</style>\n",
       "<table border=\"1\" class=\"dataframe\">\n",
       "  <thead>\n",
       "    <tr style=\"text-align: right;\">\n",
       "      <th></th>\n",
       "      <th>Name</th>\n",
       "      <th>Position</th>\n",
       "      <th>Place of Residence</th>\n",
       "    </tr>\n",
       "  </thead>\n",
       "  <tbody>\n",
       "    <tr>\n",
       "      <th>0</th>\n",
       "      <td>ABELS BEVERLY J</td>\n",
       "      <td>ADVANCED PERSONNEL MGMT</td>\n",
       "      <td>POLK</td>\n",
       "    </tr>\n",
       "    <tr>\n",
       "      <th>2</th>\n",
       "      <td>ADAMS CAROL L</td>\n",
       "      <td>ADVANCED PERSONNEL MGMT</td>\n",
       "      <td>MITCHELL</td>\n",
       "    </tr>\n",
       "    <tr>\n",
       "      <th>3</th>\n",
       "      <td>ADAMS JEANNIE R</td>\n",
       "      <td>ACCOUNTING TECHNICIAN 2</td>\n",
       "      <td>POLK</td>\n",
       "    </tr>\n",
       "    <tr>\n",
       "      <th>7</th>\n",
       "      <td>ALLEN ROSALIE R</td>\n",
       "      <td>EARLY OUT POSITION</td>\n",
       "      <td>CHEROKEE</td>\n",
       "    </tr>\n",
       "    <tr>\n",
       "      <th>8</th>\n",
       "      <td>ALLEN SANDRA L</td>\n",
       "      <td>INFO TECH SPECIALIST 2</td>\n",
       "      <td>POLK</td>\n",
       "    </tr>\n",
       "  </tbody>\n",
       "</table>\n",
       "</div>"
      ],
      "text/plain": [
       "              Name                 Position Place of Residence\n",
       "0  ABELS BEVERLY J  ADVANCED PERSONNEL MGMT               POLK\n",
       "2    ADAMS CAROL L  ADVANCED PERSONNEL MGMT           MITCHELL\n",
       "3  ADAMS JEANNIE R  ACCOUNTING TECHNICIAN 2               POLK\n",
       "7  ALLEN ROSALIE R       EARLY OUT POSITION           CHEROKEE\n",
       "8   ALLEN SANDRA L   INFO TECH SPECIALIST 2               POLK"
      ]
     },
     "execution_count": 76,
     "metadata": {},
     "output_type": "execute_result"
    }
   ],
   "source": [
    "fm_data = f_data[[\"Name\",\"Position\",\"Place of Residence\"]]\n",
    "fm_data.head()"
   ]
  },
  {
   "cell_type": "code",
   "execution_count": 77,
   "metadata": {
    "collapsed": false
   },
   "outputs": [],
   "source": [
    "fm_name_group = fm_data.groupby([fm_data[\"Name\"],fm_data[\"Place of Residence\"]])"
   ]
  },
  {
   "cell_type": "code",
   "execution_count": 78,
   "metadata": {
    "collapsed": false
   },
   "outputs": [
    {
     "data": {
      "text/plain": [
       "Name                 Place of Residence\n",
       "A'HEARN, AMY K       JOHNSON                1\n",
       "A'HEARN,AMY          LINN                   4\n",
       "A'HEARN,AMY K        JOHNSON               10\n",
       "A'HEARN,BRADY J'NEE  LINN                   3\n",
       "AALBERS RONDA JOY    POLK                   6\n",
       "dtype: int64"
      ]
     },
     "execution_count": 78,
     "metadata": {},
     "output_type": "execute_result"
    }
   ],
   "source": [
    "fm_size_ser = fm_name_group.size()\n",
    "fm_size_ser.head()"
   ]
  },
  {
   "cell_type": "code",
   "execution_count": 79,
   "metadata": {
    "collapsed": false
   },
   "outputs": [
    {
     "data": {
      "text/plain": [
       "1"
      ]
     },
     "execution_count": 79,
     "metadata": {},
     "output_type": "execute_result"
    }
   ],
   "source": [
    "fm_size_ser[0]"
   ]
  },
  {
   "cell_type": "code",
   "execution_count": 80,
   "metadata": {
    "collapsed": false
   },
   "outputs": [
    {
     "data": {
      "text/plain": [
       "5"
      ]
     },
     "execution_count": 80,
     "metadata": {},
     "output_type": "execute_result"
    }
   ],
   "source": [
    "len(fm_size_ser.head())"
   ]
  },
  {
   "cell_type": "code",
   "execution_count": 81,
   "metadata": {
    "collapsed": false
   },
   "outputs": [
    {
     "data": {
      "text/plain": [
       "97811"
      ]
     },
     "execution_count": 81,
     "metadata": {},
     "output_type": "execute_result"
    }
   ],
   "source": [
    "len(fm_data[\"Name\"].unique())"
   ]
  },
  {
   "cell_type": "markdown",
   "metadata": {},
   "source": [
    "size won't work by itself, only tells us that ind had size jobs in year 20xy"
   ]
  },
  {
   "cell_type": "code",
   "execution_count": 82,
   "metadata": {
    "collapsed": true
   },
   "outputs": [],
   "source": [
    "name_position_map = {}"
   ]
  },
  {
   "cell_type": "code",
   "execution_count": 83,
   "metadata": {
    "collapsed": false
   },
   "outputs": [],
   "source": [
    "# name is the tuple (id), group is the df object for that tuple\n",
    "for name, group in fm_name_group:    \n",
    "    if name not in name_position_map:\n",
    "        name_position_map[name] = set()   \n",
    "    # gives list of position(s)\n",
    "    # print(group[\"Position\"].values) \n",
    "    name_position_map[name].update(group[\"Position\"].values)    "
   ]
  },
  {
   "cell_type": "code",
   "execution_count": 84,
   "metadata": {
    "collapsed": false
   },
   "outputs": [
    {
     "name": "stdout",
     "output_type": "stream",
     "text": [
      "28310\n",
      "0.267239344881\n",
      "20982\n",
      "0.198064851088\n"
     ]
    }
   ],
   "source": [
    "f_total_mob = 0 # each change counts as 1 (5 diff jobs = 5 (or 4?) contrib)\n",
    "f_total_ind_mob = 0 # change overall per person counts as 1 (5 diff jobs = 1 contrib)\n",
    "X = [] # # of job changes for each female\n",
    "X_ind = []\n",
    "for key, value in name_position_map.items():\n",
    "    if len(value) > 1:\n",
    "        f_total_mob += len(value)-1\n",
    "        f_total_ind_mob += 1\n",
    "    X.append(len(value)-1)\n",
    "    X_ind.append(len(value) > 1)\n",
    "        \n",
    "num_uni_fem = len(X)  \n",
    "print(f_total_mob)\n",
    "print(f_total_mob/float(num_uni_fem))\n",
    "print(f_total_ind_mob)\n",
    "print(f_total_ind_mob/float(num_uni_fem))"
   ]
  },
  {
   "cell_type": "markdown",
   "metadata": {},
   "source": [
    "#### MALES"
   ]
  },
  {
   "cell_type": "code",
   "execution_count": 85,
   "metadata": {
    "collapsed": false
   },
   "outputs": [
    {
     "data": {
      "text/html": [
       "<div>\n",
       "<style>\n",
       "    .dataframe thead tr:only-child th {\n",
       "        text-align: right;\n",
       "    }\n",
       "\n",
       "    .dataframe thead th {\n",
       "        text-align: left;\n",
       "    }\n",
       "\n",
       "    .dataframe tbody tr th {\n",
       "        vertical-align: top;\n",
       "    }\n",
       "</style>\n",
       "<table border=\"1\" class=\"dataframe\">\n",
       "  <thead>\n",
       "    <tr style=\"text-align: right;\">\n",
       "      <th></th>\n",
       "      <th>Name</th>\n",
       "      <th>Position</th>\n",
       "      <th>Place of Residence</th>\n",
       "    </tr>\n",
       "  </thead>\n",
       "  <tbody>\n",
       "    <tr>\n",
       "      <th>1</th>\n",
       "      <td>ABRAMS JERRY A</td>\n",
       "      <td>EARLY OUT POSITION</td>\n",
       "      <td>WAPELLO</td>\n",
       "    </tr>\n",
       "    <tr>\n",
       "      <th>4</th>\n",
       "      <td>ADAMS NED J</td>\n",
       "      <td>EARLY OUT POSITION</td>\n",
       "      <td>POLK</td>\n",
       "    </tr>\n",
       "    <tr>\n",
       "      <th>5</th>\n",
       "      <td>ADAMSON DAVID A</td>\n",
       "      <td>CONSTRUCTION/DESIGN ENGN</td>\n",
       "      <td>POLK</td>\n",
       "    </tr>\n",
       "    <tr>\n",
       "      <th>6</th>\n",
       "      <td>ALLEN DANIEL S</td>\n",
       "      <td>CUSTODIAL WORKER</td>\n",
       "      <td>POLK</td>\n",
       "    </tr>\n",
       "    <tr>\n",
       "      <th>9</th>\n",
       "      <td>ALLERHEILIGEN RICHARD D</td>\n",
       "      <td>EARLY OUT POSITION</td>\n",
       "      <td>NaN</td>\n",
       "    </tr>\n",
       "  </tbody>\n",
       "</table>\n",
       "</div>"
      ],
      "text/plain": [
       "                      Name                  Position Place of Residence\n",
       "1           ABRAMS JERRY A        EARLY OUT POSITION            WAPELLO\n",
       "4              ADAMS NED J        EARLY OUT POSITION               POLK\n",
       "5          ADAMSON DAVID A  CONSTRUCTION/DESIGN ENGN               POLK\n",
       "6           ALLEN DANIEL S          CUSTODIAL WORKER               POLK\n",
       "9  ALLERHEILIGEN RICHARD D        EARLY OUT POSITION                NaN"
      ]
     },
     "execution_count": 85,
     "metadata": {},
     "output_type": "execute_result"
    }
   ],
   "source": [
    "mm_data = m_data[[\"Name\",\"Position\",\"Place of Residence\"]]\n",
    "mm_data.head()"
   ]
  },
  {
   "cell_type": "code",
   "execution_count": 86,
   "metadata": {
    "collapsed": true
   },
   "outputs": [],
   "source": [
    "mm_name_group = mm_data.groupby([mm_data[\"Name\"],mm_data[\"Place of Residence\"]])"
   ]
  },
  {
   "cell_type": "code",
   "execution_count": 87,
   "metadata": {
    "collapsed": true
   },
   "outputs": [],
   "source": [
    "m_name_position_map = {}"
   ]
  },
  {
   "cell_type": "code",
   "execution_count": 88,
   "metadata": {
    "collapsed": true
   },
   "outputs": [],
   "source": [
    "# name is the tuple (id), group is the df object for that tuple\n",
    "for name, group in mm_name_group:    \n",
    "    if name not in m_name_position_map:\n",
    "        m_name_position_map[name] = set()   \n",
    "    # gives list of position(s)\n",
    "    # print(group[\"Position\"].values) \n",
    "    m_name_position_map[name].update(group[\"Position\"].values)    "
   ]
  },
  {
   "cell_type": "code",
   "execution_count": 89,
   "metadata": {
    "collapsed": false
   },
   "outputs": [
    {
     "name": "stdout",
     "output_type": "stream",
     "text": [
      "23038\n",
      "0.274955840932\n",
      "17300\n",
      "0.206473480689\n"
     ]
    }
   ],
   "source": [
    "m_total_mob = 0 # each change counts as 1 (5 diff jobs = 5 (or 4?) contrib)\n",
    "m_total_ind_mob = 0 # change overall per person counts as 1 (5 diff jobs = 1 contrib)\n",
    "Y = [] # # of job changes for each male\n",
    "Y_ind = []\n",
    "for key, value in m_name_position_map.items():\n",
    "    if len(value) > 1:\n",
    "        m_total_mob += len(value)-1\n",
    "        m_total_ind_mob += 1\n",
    "    Y.append(len(value)-1)\n",
    "    Y_ind.append(len(value) > 1)\n",
    "        \n",
    "num_uni_male = len(Y)     \n",
    "print(m_total_mob)\n",
    "print(m_total_mob/float(num_uni_male))\n",
    "print(m_total_ind_mob)\n",
    "print(m_total_ind_mob/float(num_uni_male))"
   ]
  },
  {
   "cell_type": "markdown",
   "metadata": {},
   "source": [
    "### Analysis\n",
    "1) Parametric vs Non Parametric\n",
    "\n",
    "2) Perm Test"
   ]
  },
  {
   "cell_type": "markdown",
   "metadata": {},
   "source": [
    "Paramteric Bernoulli"
   ]
  },
  {
   "cell_type": "code",
   "execution_count": 90,
   "metadata": {
    "collapsed": false
   },
   "outputs": [
    {
     "data": {
      "text/plain": [
       "[False, False, False, False, True, True, False, True, False, False]"
      ]
     },
     "execution_count": 90,
     "metadata": {},
     "output_type": "execute_result"
    }
   ],
   "source": [
    "Y_ind[:10]"
   ]
  },
  {
   "cell_type": "code",
   "execution_count": 91,
   "metadata": {
    "collapsed": false
   },
   "outputs": [
    {
     "data": {
      "text/plain": [
       "array([0, 0, 0, 0, 1, 1, 0, 1, 0, 0])"
      ]
     },
     "execution_count": 91,
     "metadata": {},
     "output_type": "execute_result"
    }
   ],
   "source": [
    "np.array(Y_ind).astype(int)[:10]"
   ]
  },
  {
   "cell_type": "code",
   "execution_count": 92,
   "metadata": {
    "collapsed": true
   },
   "outputs": [],
   "source": [
    "Y_ind = np.array(Y_ind).astype(int)\n",
    "X_ind = np.array(X_ind).astype(int)"
   ]
  },
  {
   "cell_type": "code",
   "execution_count": 93,
   "metadata": {
    "collapsed": false
   },
   "outputs": [
    {
     "name": "stdout",
     "output_type": "stream",
     "text": [
      "0.198064851088\n",
      "0.206473480689\n",
      "0.158835165851\n",
      "0.163842182461\n"
     ]
    },
    {
     "data": {
      "text/plain": [
       "-4.5239069090259294"
      ]
     },
     "execution_count": 93,
     "metadata": {},
     "output_type": "execute_result"
    }
   ],
   "source": [
    "walds_test(X_ind,Y_ind,part=1,dis=\"Bernoulli\")"
   ]
  },
  {
   "cell_type": "markdown",
   "metadata": {},
   "source": [
    "Non Parametric"
   ]
  },
  {
   "cell_type": "code",
   "execution_count": 94,
   "metadata": {
    "collapsed": false
   },
   "outputs": [
    {
     "name": "stdout",
     "output_type": "stream",
     "text": [
      "0.267239344881\n",
      "0.274955840932\n",
      "0.37923683529\n",
      "0.38379681263\n",
      "-2.70123591487\n"
     ]
    }
   ],
   "source": [
    "t_abs = walds_test_2(X,Y)\n",
    "print(t_abs)"
   ]
  },
  {
   "cell_type": "markdown",
   "metadata": {},
   "source": [
    "Perm Test"
   ]
  },
  {
   "cell_type": "code",
   "execution_count": 95,
   "metadata": {
    "collapsed": false
   },
   "outputs": [
    {
     "name": "stdout",
     "output_type": "stream",
     "text": [
      "0.008\n"
     ]
    }
   ],
   "source": [
    "# statistic is |X-Y|\n",
    "U = X+Y\n",
    "trials = 1000\n",
    "p_value = 0\n",
    "for trial in range(trials):\n",
    "    np.random.shuffle(U)\n",
    "    nX = U[:len(X)]\n",
    "    nY = U[len(X):]\n",
    "    nX_mean = np.mean(nX)\n",
    "    nX_var = np.var(nX)\n",
    "    nY_mean = np.mean(nY)\n",
    "    nY_var = np.var(nY)\n",
    "    top = nX_mean - nY_mean\n",
    "    bottom = np.sqrt(nX_var/len(X)+nY_var/len(Y))\n",
    "    T = np.abs(top/bottom)\n",
    "    # print(T)\n",
    "    # how many tests are larger than observed\n",
    "    if T > np.abs(t_abs):\n",
    "        p_value += 1\n",
    "print(p_value/float(trials))"
   ]
  },
  {
   "cell_type": "code",
   "execution_count": 101,
   "metadata": {
    "collapsed": false
   },
   "outputs": [
    {
     "name": "stdout",
     "output_type": "stream",
     "text": [
      "105935\n",
      "83788\n"
     ]
    }
   ],
   "source": [
    "print(len(X))\n",
    "print(len(Y))"
   ]
  },
  {
   "cell_type": "code",
   "execution_count": 110,
   "metadata": {
    "collapsed": false
   },
   "outputs": [
    {
     "name": "stdout",
     "output_type": "stream",
     "text": [
      "0.009\n"
     ]
    }
   ],
   "source": [
    "# statistic is |Xind-Yind|\n",
    "U = np.concatenate((X_ind,Y_ind))\n",
    "trials = 1000\n",
    "p_value = 0\n",
    "for trial in range(trials):\n",
    "    np.random.shuffle(U)\n",
    "    nX = U[:len(X_ind)]\n",
    "    nY = U[len(X_ind):]\n",
    "    nX_mean = np.mean(nX)\n",
    "    nX_var = np.var(nX)\n",
    "    nY_mean = np.mean(nY)\n",
    "    nY_var = np.var(nY)\n",
    "    top = nX_mean - nY_mean\n",
    "    bottom = np.sqrt(nX_var/len(X)+nY_var/len(Y))\n",
    "    T = np.abs(top/bottom)\n",
    "    # print(T)\n",
    "    # how many tests are larger than observed\n",
    "    if T > np.abs(t_abs):\n",
    "        p_value += 1\n",
    "print(p_value/float(trials))"
   ]
  },
  {
   "cell_type": "code",
   "execution_count": 98,
   "metadata": {
    "collapsed": false
   },
   "outputs": [
    {
     "data": {
      "image/png": "[encoded data removed]",
      "text/plain": [
       "<matplotlib.figure.Figure at 0x572d6160>"
      ]
     },
     "metadata": {},
     "output_type": "display_data"
    }
   ],
   "source": [
    "plt.figure(figsize=(8,6))\n",
    "plt.plot(np.sort(X), np.arange(len(X))/float(len(X)-1), color=\"red\",label=\"F\")\n",
    "plt.plot(np.sort(Y), np.arange(len(Y))/float(len(Y)-1), color=\"blue\",label=\"M\")\n",
    "plt.xlabel('Career Changes', fontsize=12)\n",
    "plt.ylabel('P[x<X]', fontsize=12)\n",
    "plt.legend(loc='lower right')\n",
    "plt.title(\"Career Changes: M vs F\")\n",
    "plt.show()"
   ]
  },
  {
   "cell_type": "code",
   "execution_count": 100,
   "metadata": {
    "collapsed": false
   },
   "outputs": [
    {
     "data": {
      "image/png": "[encoded data removed]",
      "text/plain": [
       "<matplotlib.figure.Figure at 0x5722a550>"
      ]
     },
     "metadata": {},
     "output_type": "display_data"
    }
   ],
   "source": [
    "plt.figure(figsize=(8,6))\n",
    "plt.scatter(range(len(X)), np.sort(X),color=\"red\",marker=\".\",label=\"F\")\n",
    "plt.scatter(range(len(Y)), np.sort(Y),color=\"blue\",marker=\".\",label=\"M\")\n",
    "plt.xlabel('x', fontsize=12)\n",
    "plt.ylabel('Freq Career Changes', fontsize=12)\n",
    "plt.title(\"Frequency of Career Changes Male vs Females\")\n",
    "plt.legend(loc='upper left')\n",
    "plt.show()"
   ]
  },
  {
   "cell_type": "code",
   "execution_count": 125,
   "metadata": {
    "collapsed": false
   },
   "outputs": [
    {
     "data": {
      "image/png": "[encoded data removed]",
      "text/plain": [
       "<matplotlib.figure.Figure at 0x56278b70>"
      ]
     },
     "metadata": {},
     "output_type": "display_data"
    }
   ],
   "source": [
    "heights,bins = np.histogram(X,bins=8)\n",
    "heights = heights/float(sum(heights))\n",
    "binMids=bins[:-1]+np.diff(bins)/2\n",
    "mheights,mbins = np.histogram(Y,bins=8)\n",
    "mheights = mheights/float(sum(mheights))\n",
    "mbinMids=mbins[:-1]+np.diff(mbins)/2\n",
    "plt.plot(binMids,heights,color=\"red\",label=\"F\")\n",
    "plt.plot(mbinMids,mheights,color=\"blue\",label=\"M\")\n",
    "\n",
    "plt.xlabel('x')\n",
    "plt.ylabel('P(X=x)')\n",
    "plt.title(\"M2: Career Changes Male vs Females\")\n",
    "plt.legend(loc='upper right')\n",
    "plt.show()"
   ]
  },
  {
   "cell_type": "code",
   "execution_count": 102,
   "metadata": {
    "collapsed": false
   },
   "outputs": [
    {
     "data": {
      "image/png": "[encoded data removed]",
      "text/plain": [
       "<matplotlib.figure.Figure at 0x56c08390>"
      ]
     },
     "metadata": {},
     "output_type": "display_data"
    }
   ],
   "source": [
    "plt.figure(figsize=(8,6))\n",
    "plt.plot(np.sort(X_ind), np.arange(len(X_ind))/float(len(X_ind)-1), color=\"red\",label=\"F\")\n",
    "plt.plot(np.sort(Y_ind), np.arange(len(Y_ind))/float(len(Y_ind)-1), color=\"blue\",label=\"M\")\n",
    "plt.xlabel('Career Changes', fontsize=12)\n",
    "plt.ylabel('P[x<X]', fontsize=12)\n",
    "plt.legend(loc='lower right')\n",
    "plt.title(\"Career Changes: M vs F\")\n",
    "plt.show()"
   ]
  },
  {
   "cell_type": "code",
   "execution_count": 103,
   "metadata": {
    "collapsed": false
   },
   "outputs": [
    {
     "data": {
      "image/png": "[encoded data removed]",
      "text/plain": [
       "<matplotlib.figure.Figure at 0x5690b5c0>"
      ]
     },
     "metadata": {},
     "output_type": "display_data"
    }
   ],
   "source": [
    "plt.figure(figsize=(8,6))\n",
    "plt.scatter(range(len(X_ind)), np.sort(X_ind),color=\"red\",marker=\".\",label=\"F\")\n",
    "plt.scatter(range(len(Y_ind)), np.sort(Y_ind),color=\"blue\",marker=\".\",label=\"M\")\n",
    "plt.xlabel('x', fontsize=12)\n",
    "plt.ylabel('Freq Career Changes', fontsize=12)\n",
    "plt.title(\"Frequency of Career Changes Male vs Females\")\n",
    "plt.legend(loc='upper left')\n",
    "plt.show()"
   ]
  },
  {
   "cell_type": "code",
   "execution_count": 126,
   "metadata": {
    "collapsed": false
   },
   "outputs": [
    {
     "data": {
      "image/png": "[encoded data removed]",
      "text/plain": [
       "<matplotlib.figure.Figure at 0x5687f160>"
      ]
     },
     "metadata": {},
     "output_type": "display_data"
    },
    {
     "data": {
      "text/plain": [
       "<matplotlib.figure.Figure at 0x558ec2b0>"
      ]
     },
     "metadata": {},
     "output_type": "display_data"
    }
   ],
   "source": [
    "heights,bins = np.histogram(X_ind,bins=8)\n",
    "heights = heights/float(sum(heights))\n",
    "binMids=bins[:-1]+np.diff(bins)/2\n",
    "mheights,mbins = np.histogram(Y_ind,bins=8)\n",
    "mheights = mheights/float(sum(mheights))\n",
    "mbinMids=mbins[:-1]+np.diff(mbins)/2\n",
    "plt.plot(binMids,heights,color=\"red\",label=\"F\")\n",
    "plt.plot(mbinMids,mheights,color=\"blue\",label=\"M\")\n",
    "\n",
    "plt.xlabel('x', fontsize=12)\n",
    "plt.ylabel('P(X=x)', fontsize=12)\n",
    "plt.title(\"M1: Career Changes Male vs Females\")\n",
    "plt.legend(loc='upper right')\n",
    "plt.figure(figsize=(8,6))\n",
    "plt.show()"
   ]
  },
  {
   "cell_type": "markdown",
   "metadata": {},
   "source": [
    "Conclusion: both wald's test give |w| > Za/2 = 1.962; different mobility rates\n",
    "\n",
    "for a = 0.05 1 sided\n",
    "\n",
    "Null: Females have more mobility Fm - Mm >= 0\n",
    "Alt: Males have more mobility Fm - Mm < 0\n",
    "\n",
    "-4.5 < -1.6449 for a = 0.05; two sided\n",
    "\n",
    "-2.7 < -1.6449\n",
    "\n",
    "Reject H0, conclude that males have more mobility\n",
    "\n",
    "We reject H0 in both cases; they do not have the same mean mobility\n",
    "\n",
    "We reject H0; fmo not > than mmo\n",
    "\n",
    "For ~a = 0.003, one sided is when we accept H0 for non parametric\n",
    "\n",
    "pvalue is very small, strong evidence against H0, therefore not same"
   ]
  },
  {
   "cell_type": "code",
   "execution_count": null,
   "metadata": {
    "collapsed": true
   },
   "outputs": [],
   "source": []
  }
 ],
 "metadata": {
  "anaconda-cloud": {},
  "kernelspec": {
   "display_name": "Python [conda env:datasf]",
   "language": "python",
   "name": "conda-env-datasf-py"
  },
  "language_info": {
   "codemirror_mode": {
    "name": "ipython",
    "version": 2
   },
   "file_extension": ".py",
   "mimetype": "text/x-python",
   "name": "python",
   "nbconvert_exporter": "python",
   "pygments_lexer": "ipython2",
   "version": "2.7.13"
  }
 },
 "nbformat": 4,
 "nbformat_minor": 2
}
